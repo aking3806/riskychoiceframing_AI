{
 "cells": [
  {
   "cell_type": "markdown",
   "metadata": {},
   "source": []
  },
  {
   "cell_type": "markdown",
   "metadata": {},
   "source": [
    "#### File Setup"
   ]
  },
  {
   "cell_type": "code",
   "execution_count": 134,
   "metadata": {},
   "outputs": [],
   "source": [
    "#pip install pycountry-convert --quiet\n",
    "#pip install seaborn  --quiet\n",
    "#pip install scipy --quiet\n",
    "#pip install researchpy --quiet\n",
    "#pip install statsmodels --quiet"
   ]
  },
  {
   "cell_type": "code",
   "execution_count": 2,
   "metadata": {},
   "outputs": [],
   "source": [
    "import pandas as pd \n",
    "import numpy as np\n",
    "import re\n",
    "import seaborn as sns\n",
    "import matplotlib.pyplot as plt \n",
    "import seaborn as sns \n",
    "from scipy import stats\n",
    "from scipy.stats import chi2_contingency, ttest_ind\n",
    "import statsmodels.api as sm"
   ]
  },
  {
   "cell_type": "code",
   "execution_count": 48,
   "metadata": {},
   "outputs": [
    {
     "name": "stdout",
     "output_type": "stream",
     "text": [
      "(324, 97)\n"
     ]
    }
   ],
   "source": [
    "csv_file = \"/Users/annaking/Documents/Github/riskychoiceframing_AI/Experiment 1/data/072823_results.csv\"\n",
    "df = pd.read_csv(csv_file)\n",
    "print(df.shape)"
   ]
  },
  {
   "cell_type": "code",
   "execution_count": 493,
   "metadata": {},
   "outputs": [],
   "source": [
    "#df.columns"
   ]
  },
  {
   "cell_type": "code",
   "execution_count": 49,
   "metadata": {},
   "outputs": [
    {
     "name": "stdout",
     "output_type": "stream",
     "text": [
      "<class 'pandas.core.frame.DataFrame'>\n",
      "RangeIndex: 324 entries, 0 to 323\n",
      "Data columns (total 97 columns):\n",
      " #   Column                         Non-Null Count  Dtype  \n",
      "---  ------                         --------------  -----  \n",
      " 0   StartDate                      324 non-null    object \n",
      " 1   EndDate                        324 non-null    object \n",
      " 2   Status                         324 non-null    object \n",
      " 3   Progress                       324 non-null    int64  \n",
      " 4   Duration (in seconds)          324 non-null    int64  \n",
      " 5   Finished                       324 non-null    bool   \n",
      " 6   RecordedDate                   324 non-null    object \n",
      " 7   ResponseId                     324 non-null    object \n",
      " 8   DistributionChannel            324 non-null    object \n",
      " 9   UserLanguage                   324 non-null    object \n",
      " 10  Q_RecaptchaScore               297 non-null    float64\n",
      " 11  Q1. Metadata_Browser           324 non-null    object \n",
      " 12  Q1. Metadata_Version           324 non-null    object \n",
      " 13  Q1. Metadata_Operating System  324 non-null    object \n",
      " 14  Q1. Metadata_Resolution        324 non-null    object \n",
      " 15  Q2. Time_First Click           324 non-null    float64\n",
      " 16  Q2. Time_Last Click            324 non-null    float64\n",
      " 17  Q2. Time_Page Submit           324 non-null    float64\n",
      " 18  Q2. Time_Click Count           324 non-null    int64  \n",
      " 19  Q3. Consent                    324 non-null    object \n",
      " 20  Q10. GS1, Time_First Click     47 non-null     float64\n",
      " 21  Q10. GS1, Time_Last Click      47 non-null     float64\n",
      " 22  Q10. GS1, Time_Page Submit     47 non-null     float64\n",
      " 23  Q10. GS1, Time_Click Count     47 non-null     float64\n",
      " 24  Q12. GS1, Option               46 non-null     object \n",
      " 25  Q13. GS1, Rating               47 non-null     object \n",
      " 26  Q13. GS1, Rationale            35 non-null     object \n",
      " 27  Q10. GS2, Time_First Click     48 non-null     float64\n",
      " 28  Q10. GS2, Time_Last Click      48 non-null     float64\n",
      " 29  Q10. GS2, Time_Page Submit     48 non-null     float64\n",
      " 30  Q10. GS2, Time_Click Count     48 non-null     float64\n",
      " 31  Q12. GS2, Option               48 non-null     object \n",
      " 32  Q13. GS2, Rating               48 non-null     object \n",
      " 33  Q14. GS2, Rationale            48 non-null     object \n",
      " 34  Q10. GS3, Time_First Click     46 non-null     float64\n",
      " 35  Q10. GS3, Time_Last Click      46 non-null     float64\n",
      " 36  Q10. GS3, Time_Page Submit     46 non-null     float64\n",
      " 37  Q10. GS3, Time_Click Count     46 non-null     float64\n",
      " 38  Q12. GS3, Option.              46 non-null     object \n",
      " 39  Q13. GS3, Rating               46 non-null     object \n",
      " 40  Q14. GS3, Rationle             36 non-null     object \n",
      " 41  Q10. LS1, Time_First Click     48 non-null     float64\n",
      " 42  Q10. LS1, Time_Last Click      48 non-null     float64\n",
      " 43  Q10. LS1, Time_Page Submit     48 non-null     float64\n",
      " 44  Q10. LS1, Time_Click Count     48 non-null     float64\n",
      " 45  Q12. LS1, Option               48 non-null     object \n",
      " 46  Q13. LS1, Rating               47 non-null     object \n",
      " 47  Q14. LS1, Rationale            34 non-null     object \n",
      " 48  Q10. LS2, Time_First Click     46 non-null     float64\n",
      " 49  Q10. LS2, Time_Last Click      46 non-null     float64\n",
      " 50  Q10. LS2, Time_Page Submit     46 non-null     float64\n",
      " 51  Q10. LS2, Time_Click Count     46 non-null     float64\n",
      " 52  Q12. LS2, Option               45 non-null     object \n",
      " 53  Q13. LS2, Rating               44 non-null     object \n",
      " 54  Q14. LS2, Rationale            33 non-null     object \n",
      " 55  Q10. LS3, Time_First Click     48 non-null     float64\n",
      " 56  Q10. LS3, Time_Last Click      48 non-null     float64\n",
      " 57  Q10. LS3, Time_Page Submit     48 non-null     float64\n",
      " 58  Q10. LS3, Time_Click Count     48 non-null     float64\n",
      " 59  Q12. LS3, Option               47 non-null     object \n",
      " 60  Q13. LS3, Rating               47 non-null     object \n",
      " 61  Q14. LS3, Rationale            34 non-null     object \n",
      " 62  Q34_First Click                278 non-null    float64\n",
      " 63  Q34_Last Click                 278 non-null    float64\n",
      " 64  Q34_Page Submit                278 non-null    float64\n",
      " 65  Q34_Click Count                278 non-null    float64\n",
      " 66  Q. NEP_1                       274 non-null    object \n",
      " 67  Q. NEP_2                       274 non-null    object \n",
      " 68  Q. NEP_3                       273 non-null    object \n",
      " 69  Q. NEP_4                       274 non-null    object \n",
      " 70  Q. NEP_5                       273 non-null    object \n",
      " 71  Q. NEP_6                       273 non-null    object \n",
      " 72  Q. NEP_7                       273 non-null    object \n",
      " 73  Q. NEP_8                       274 non-null    object \n",
      " 74  Q4. Dem, Time1_First Click     277 non-null    float64\n",
      " 75  Q4. Dem, Time1_Last Click      277 non-null    float64\n",
      " 76  Q4. Dem, Time1_Page Submit     277 non-null    float64\n",
      " 77  Q4. Dem, Time1_Click Count     277 non-null    float64\n",
      " 78  Q5. Age                        275 non-null    object \n",
      " 79  Q6. Gender                     273 non-null    object \n",
      " 80  Q6. Gender_4_TEXT              3 non-null      object \n",
      " 81  Q8. Ethnicity                  273 non-null    object \n",
      " 82  Q8. Ethnicity_6_TEXT           0 non-null      float64\n",
      " 83  Q7. Dem, Time2_First Click     277 non-null    float64\n",
      " 84  Q7. Dem, Time2_Last Click      277 non-null    float64\n",
      " 85  Q7. Dem, Time2_Page Submit     277 non-null    float64\n",
      " 86  Q7. Dem, Time2_Click Count     277 non-null    float64\n",
      " 87  Q9. Education                  273 non-null    object \n",
      " 88  Q10. Country                   246 non-null    object \n",
      " 89  Q10. Student                   273 non-null    object \n",
      " 90  Q91                            269 non-null    object \n",
      " 91  Q62                            240 non-null    object \n",
      " 92  Q62_2_TEXT                     2 non-null      object \n",
      " 93  Q63                            240 non-null    object \n",
      " 94  Q63_2_TEXT                     2 non-null      object \n",
      " 95  Q61                            134 non-null    object \n",
      " 96  Condition                      283 non-null    float64\n",
      "dtypes: bool(1), float64(42), int64(3), object(51)\n",
      "memory usage: 243.4+ KB\n"
     ]
    }
   ],
   "source": [
    "df.info()"
   ]
  },
  {
   "cell_type": "markdown",
   "metadata": {},
   "source": [
    "#### Basic Data Cleaning "
   ]
  },
  {
   "cell_type": "code",
   "execution_count": 50,
   "metadata": {},
   "outputs": [
    {
     "name": "stdout",
     "output_type": "stream",
     "text": [
      "(245, 98)\n"
     ]
    }
   ],
   "source": [
    "##### Data cleaning to change column types\n",
    "\n",
    "#drop anyone not sorted into condition \n",
    "df_clean = df.drop(df[df['Condition'].isna()].index)\n",
    "\n",
    "#change data type to int \n",
    "df_clean['Condition'] =  df_clean['Condition'].astype('int64')\n",
    "\n",
    "# create frame column gain or loss condition based on condition value \n",
    "df_clean['frame'] = df_clean['Condition'].apply(lambda x: 'gain' if x < 3 else 'loss')\n",
    "\n",
    "#filter only where progress = 100 \n",
    "df_clean = df_clean[df_clean['Progress']==100]\n",
    "print(df_clean.shape)"
   ]
  },
  {
   "cell_type": "markdown",
   "metadata": {},
   "source": [
    "##### Survey Time / Completion"
   ]
  },
  {
   "cell_type": "code",
   "execution_count": 51,
   "metadata": {},
   "outputs": [
    {
     "data": {
      "text/plain": [
       "count       245.00000\n",
       "mean       2428.62449\n",
       "std       18698.50827\n",
       "min          43.00000\n",
       "25%         190.00000\n",
       "50%         323.00000\n",
       "75%         723.00000\n",
       "max      241785.00000\n",
       "Name: Duration (in seconds), dtype: float64"
      ]
     },
     "execution_count": 51,
     "metadata": {},
     "output_type": "execute_result"
    }
   ],
   "source": [
    "df_clean['Duration (in seconds)'].describe()"
   ]
  },
  {
   "cell_type": "code",
   "execution_count": 943,
   "metadata": {},
   "outputs": [],
   "source": [
    "## visual completion times \n",
    "#sns.histplot( y='Duration (in seconds)', data =df_clean)\n",
    "#plt.show()"
   ]
  },
  {
   "cell_type": "code",
   "execution_count": 52,
   "metadata": {},
   "outputs": [
    {
     "data": {
      "text/plain": [
       "(207, 98)"
      ]
     },
     "execution_count": 52,
     "metadata": {},
     "output_type": "execute_result"
    }
   ],
   "source": [
    "\n",
    "##def remove_outliers(df, column_name):\n",
    "    # Calculate Z-scores for the column\n",
    "    #z_scores = stats.zscore(df[column_name])\n",
    "    #threshold = 3 #3 standard deviations \n",
    "    # Filter the dataframe to keep only the data within the threshold\n",
    "    ##df_clean = df[abs(z_scores) < threshold]\n",
    "\n",
    "    #return df_clean\n",
    "#apply function to remove outliers \n",
    "##column_name = 'Duration (in seconds)'\n",
    "##df_clean = remove_outliers(df_clean, column_name) \n",
    "\n",
    "\n",
    "# quarterlie range\n",
    "quartiles = df_clean['Duration (in seconds)'].quantile([0.25, 0.75])\n",
    "iqr = quartiles[0.75] - quartiles[0.25]\n",
    "lower_bound = quartiles[0.25] - 1.5 * iqr\n",
    "upper_bound = quartiles[0.75] + 1.5 * iqr\n",
    "\n",
    "#remove outlier\n",
    "df_clean = df_clean[(df_clean['Duration (in seconds)'] >= lower_bound) & (df_clean['Duration (in seconds)'] <= upper_bound)]\n",
    "df_clean.shape"
   ]
  },
  {
   "cell_type": "code",
   "execution_count": 53,
   "metadata": {},
   "outputs": [
    {
     "data": {
      "image/png": "[encoded data removed]",
      "text/plain": [
       "<Figure size 640x480 with 1 Axes>"
      ]
     },
     "metadata": {},
     "output_type": "display_data"
    }
   ],
   "source": [
    "df_clean['Duration (in seconds)'].describe()\n",
    "sns.histplot( y='Duration (in seconds)', data =df_clean)\n",
    "plt.show()"
   ]
  },
  {
   "cell_type": "code",
   "execution_count": 54,
   "metadata": {},
   "outputs": [
    {
     "name": "stdout",
     "output_type": "stream",
     "text": [
      "StartDate                  0\n",
      "EndDate                    0\n",
      "Status                     0\n",
      "Progress                   0\n",
      "Duration (in seconds)      0\n",
      "                        ... \n",
      "Q62_2_TEXT               322\n",
      "Q63                       84\n",
      "Q63_2_TEXT               322\n",
      "Q61                      190\n",
      "Condition                 41\n",
      "Length: 97, dtype: int64\n"
     ]
    }
   ],
   "source": [
    "#check for NAs\n",
    "print(df.isna().sum())"
   ]
  },
  {
   "cell_type": "markdown",
   "metadata": {},
   "source": [
    "##### Mapping Columns & Cleaning"
   ]
  },
  {
   "cell_type": "code",
   "execution_count": 55,
   "metadata": {},
   "outputs": [],
   "source": [
    "import re \n",
    "#### Creating columns and grouping for various scenarios:\n",
    "\n",
    "#filter to option columns only\n",
    "columns = df_clean.columns \n",
    "option_columns = [col for col in columns if 'Option' in col]\n",
    "\n",
    "# dictionary mapping\n",
    "scenario_dict = {\"GS1\":\"animals_gain\", \"GS2\":\"forest_gain\", \"GS3\":\"humans_gain\", \"LS1\":\"animals_loss\", \"LS2\":\"forest_loss\", \"LS3\":\"humans_loss\"  }\n",
    "\n",
    "#set columns based on scenario \n",
    "def scenario(row):\n",
    "    for col in option_columns:\n",
    "        if pd.notnull(row[col]):\n",
    "            match = re.search(r'(GS\\d+|LS\\d+)', col)\n",
    "            if match:\n",
    "                return match.group()\n",
    "    return None\n",
    "\n",
    "# get scenario from dictionary \n",
    "def get_scenario(row):\n",
    "    value = row['scenario']\n",
    "    if value in scenario_dict:\n",
    "        return scenario_dict[value]\n",
    "    return None\n",
    "\n",
    "# match scenario to dict\n",
    "df_clean['scenario'] = df_clean[option_columns].apply(lambda row: scenario(row), axis=1)\n",
    "df_clean['scenario_mapped'] = df_clean.apply(lambda row: get_scenario(row), axis=1)\n"
   ]
  },
  {
   "cell_type": "code",
   "execution_count": 56,
   "metadata": {},
   "outputs": [
    {
     "data": {
      "text/plain": [
       "(206, 86)"
      ]
     },
     "execution_count": 56,
     "metadata": {},
     "output_type": "execute_result"
    }
   ],
   "source": [
    "##### Option Column Cleaning\n",
    "# select option columns \n",
    "df_clean['option_selected'] = df_clean[option_columns].fillna(method='ffill', axis=1).iloc[:, -1]\n",
    "##option_columns = ['Q12. GS1, Option','Q12. GS2, Option', 'Q12. GS3, Option.', 'Q12. LS1, Option', 'Q12. LS2, Option', 'Q12. LS3, Option']\n",
    "\n",
    "# Rating column clean & creation \n",
    "rating_columns = ['Q13. GS1, Rating','Q13. GS2, Rating', 'Q13. GS3, Rating', 'Q13. LS1, Rating', 'Q13. LS2, Rating', 'Q13. LS3, Rating']\n",
    "#create a new rating column containing the non-null values of the rating columns \n",
    "df_clean['rating'] = df_clean[rating_columns].fillna(method='ffill', axis=1).iloc[:, -1]\n",
    "# drop where rating is na \n",
    "df_clean = df_clean[df_clean['rating'].notna()]\n",
    "# get the number only from the column \n",
    "df_clean['rating_num'] = df_clean['rating'].apply(lambda x: x.split(\":\")[0])\n",
    "# change to integer for calculation \n",
    "df_clean['rating_num'] = df_clean['rating_num'].astype('int')\n",
    "\n",
    "# Rationale column cleaning\n",
    "rationale_columns = ['Q13. GS1, Rationale','Q14. GS2, Rationale', 'Q14. GS3, Rationle', 'Q14. LS1, Rationale', 'Q14. LS2, Rationale', 'Q14. LS3, Rationale']\n",
    "# create a new rationale column containing the non-null values of the rating columns \n",
    "df_clean['rationale'] = df_clean[rationale_columns].fillna(method='ffill', axis=1).iloc[:, -1]\n",
    "\n",
    "### Drop standalone choice, rationale, and rating columns\n",
    "colu = rationale_columns + option_columns + rating_columns\n",
    "df_clean = df_clean.drop(colu, axis= 'columns')\n",
    "df_clean.shape"
   ]
  },
  {
   "cell_type": "code",
   "execution_count": 57,
   "metadata": {},
   "outputs": [],
   "source": [
    "### Cleaning and dropping time columns ###\n",
    "columns = list(df_clean.columns)\n",
    "\n",
    "###  First click columns\n",
    "time_click1 = [col for col in columns if 'first click' in col.lower()]\n",
    "#time first click for the scenario \n",
    "time_click1_scn = [string for string in time_click1 if string.startswith('Q10')]\n",
    "#make as 1 column \n",
    "df_clean['scn_t_first_click'] = df_clean[time_click1_scn].fillna(method='ffill', axis=1).iloc[:, -1]\n",
    "\n",
    "### Last click columns\n",
    "time_click2 = [col for col in columns if 'last click' in col.lower()]\n",
    "time_click2_scn = [string for string in time_click2 if string.startswith('Q10')]\n",
    "df_clean['scn_t_last_click'] = df_clean[time_click2_scn].fillna(method='ffill', axis=1).iloc[:, -1]\n",
    "\n",
    "### Time Submit Scenario columns\n",
    "time_submit = [col for col in columns if 'submit' in col.lower()]\n",
    "time_submit_scn = [string for string in time_submit if string.startswith('Q10')]\n",
    "df_clean['scn_t_submit'] = df_clean[time_submit_scn].fillna(method='ffill', axis=1).iloc[:, -1]\n",
    "\n",
    "#click_count1_scn = [string for string in click_count1 if 'dem' in string.lower()]\n",
    "\n",
    "## drop Q10 time columns \n",
    "columns_drop = time_click2_scn + time_click1_scn + time_submit_scn\n",
    "df_clean = df_clean.drop(columns_drop, axis = 'columns')\n",
    "\n",
    "##Click count cleaning \n",
    "columns = list(df_clean.columns)\n",
    "## Click Count for Scenario \n",
    "click_count1 = [col for col in columns if 'click count' in col.lower()]\n",
    "#filer only scenario click coun t\n",
    "click_count_scn = [string for string in click_count1 if string.startswith('Q10')]\n",
    "#make as 1 column for all scenarios \n",
    "df_clean['scn_click_count'] = df_clean[click_count_scn].fillna(method='ffill', axis=1).iloc[:, -1]\n",
    "\n",
    "## Click Count for Scenario \n",
    "click_count = [col for col in columns if 'click count' in col.lower()]\n",
    "click_count1_dem = [string for string in click_count if 'dem' in string.lower()]\n",
    "df_clean['dem_click_count'] = df_clean[click_count1_dem].fillna(method='ffill', axis=1).iloc[:, -1]\n",
    "\n",
    "# drop scenario and dem click count columns \n",
    "columns_drop = click_count_scn + click_count1_dem\n",
    "df_clean = df_clean.drop(columns_drop, axis = 'columns')\n",
    "\n",
    "### drop metadata or misc columns from analysis \n",
    "metadata_or_misc = ['Q1. Metadata_Browser','Q1. Metadata_Version', 'Q1. Metadata_Operating System','Q1. Metadata_Resolution', 'UserLanguage', 'DistributionChannel', 'Status']\n",
    "df_clean = df_clean.drop(metadata_or_misc, axis = 'columns')\n"
   ]
  },
  {
   "cell_type": "code",
   "execution_count": 58,
   "metadata": {},
   "outputs": [
    {
     "data": {
      "text/html": [
       "<div>\n",
       "<style scoped>\n",
       "    .dataframe tbody tr th:only-of-type {\n",
       "        vertical-align: middle;\n",
       "    }\n",
       "\n",
       "    .dataframe tbody tr th {\n",
       "        vertical-align: top;\n",
       "    }\n",
       "\n",
       "    .dataframe thead th {\n",
       "        text-align: right;\n",
       "    }\n",
       "</style>\n",
       "<table border=\"1\" class=\"dataframe\">\n",
       "  <thead>\n",
       "    <tr style=\"text-align: right;\">\n",
       "      <th></th>\n",
       "      <th>scenario_time_to_choose</th>\n",
       "      <th>scenario_total_time</th>\n",
       "    </tr>\n",
       "  </thead>\n",
       "  <tbody>\n",
       "    <tr>\n",
       "      <th>count</th>\n",
       "      <td>206.000000</td>\n",
       "      <td>206.000000</td>\n",
       "    </tr>\n",
       "    <tr>\n",
       "      <th>mean</th>\n",
       "      <td>84.371388</td>\n",
       "      <td>95.662888</td>\n",
       "    </tr>\n",
       "    <tr>\n",
       "      <th>std</th>\n",
       "      <td>112.452637</td>\n",
       "      <td>113.364056</td>\n",
       "    </tr>\n",
       "    <tr>\n",
       "      <th>min</th>\n",
       "      <td>0.489000</td>\n",
       "      <td>1.678000</td>\n",
       "    </tr>\n",
       "    <tr>\n",
       "      <th>25%</th>\n",
       "      <td>14.749000</td>\n",
       "      <td>24.536000</td>\n",
       "    </tr>\n",
       "    <tr>\n",
       "      <th>50%</th>\n",
       "      <td>46.608500</td>\n",
       "      <td>62.171000</td>\n",
       "    </tr>\n",
       "    <tr>\n",
       "      <th>75%</th>\n",
       "      <td>108.639500</td>\n",
       "      <td>119.073750</td>\n",
       "    </tr>\n",
       "    <tr>\n",
       "      <th>max</th>\n",
       "      <td>776.420000</td>\n",
       "      <td>779.137000</td>\n",
       "    </tr>\n",
       "  </tbody>\n",
       "</table>\n",
       "</div>"
      ],
      "text/plain": [
       "       scenario_time_to_choose  scenario_total_time\n",
       "count               206.000000           206.000000\n",
       "mean                 84.371388            95.662888\n",
       "std                 112.452637           113.364056\n",
       "min                   0.489000             1.678000\n",
       "25%                  14.749000            24.536000\n",
       "50%                  46.608500            62.171000\n",
       "75%                 108.639500           119.073750\n",
       "max                 776.420000           779.137000"
      ]
     },
     "execution_count": 58,
     "metadata": {},
     "output_type": "execute_result"
    }
   ],
   "source": [
    "\n",
    "scenario_times = ['scn_t_first_click',  'scn_t_last_click', 'scn_t_submit']\n",
    "df_clean[scenario_times]\n",
    "#create column for total time for scenario question: \n",
    "df_clean['scenario_time_to_choose'] = df_clean['scn_t_last_click'] - df_clean['scn_t_first_click']\n",
    "df_clean['scenario_total_time'] = df_clean['scn_t_submit'] - df_clean['scn_t_first_click']\n",
    "scenario_time = ['scenario_time_to_choose', 'scenario_total_time']\n",
    "df_clean[scenario_time].describe()"
   ]
  },
  {
   "cell_type": "code",
   "execution_count": 59,
   "metadata": {},
   "outputs": [
    {
     "data": {
      "text/plain": [
       "(206, 60)"
      ]
     },
     "execution_count": 59,
     "metadata": {},
     "output_type": "execute_result"
    }
   ],
   "source": [
    "df_clean.shape"
   ]
  },
  {
   "cell_type": "markdown",
   "metadata": {},
   "source": [
    "### Demographics"
   ]
  },
  {
   "cell_type": "markdown",
   "metadata": {},
   "source": [
    "##### Cleaning "
   ]
  },
  {
   "cell_type": "code",
   "execution_count": 60,
   "metadata": {},
   "outputs": [],
   "source": [
    "#rename columns \n",
    "df_clean = df_clean.rename(columns={\n",
    "    'Q5. Age': 'age',\n",
    "    'Q6. Gender': 'gender',\n",
    "    'Q6. Gender_4_TEXT': 'gender_text',\n",
    "    'Q8. Ethnicity': 'ethnicity',\n",
    "    'Q8. Ethnicity_6_TEXT': 'ethnicity_text',\n",
    "    'Q9. Education': 'education',\n",
    "    'Q10. Country': 'country',\n",
    "    'Q10. Student': 'student',\n",
    "    'Q91': 'ADP_familiar'\n",
    "})"
   ]
  },
  {
   "cell_type": "code",
   "execution_count": null,
   "metadata": {},
   "outputs": [],
   "source": []
  },
  {
   "cell_type": "code",
   "execution_count": 61,
   "metadata": {},
   "outputs": [],
   "source": [
    "###coutry name clean \n",
    "import pycountry_convert as pc\n",
    "\n",
    "#function to rename messy countries\n",
    "def rename_countries(country):\n",
    "    if pd.isnull(country):  # Check if the value is nan\n",
    "        return country\n",
    "    if country in ['United States of America', 'USA', 'US', 'us', 'usa', 'America', 'America   ', 'the United States', 'The United States',  'United States ', 'Amrican', 'United States', 'Florida', 'New York', 'MA', 'NZ', 'North Carolina', 'Newyork', 'denver']:\n",
    "        return 'USA'\n",
    "    elif country in ['United Kingdom', 'United Kingdom ', 'UK', 'England', 'England ', 'Cambridge', 'London', 'uuk', 'the Netherlands']:\n",
    "        return 'UK'\n",
    "    elif country in ['China', '中国', 'Chinese ', '美国','加州']:\n",
    "        return 'China'\n",
    "    elif country in [ 'New Zealand']:\n",
    "        return 'New Zealand'\n",
    "    elif country in ['Paris, France', 'France']:\n",
    "        return 'France'\n",
    "    elif country in ['Australia', 'Australia ']:\n",
    "        return 'Australia'\n",
    "    elif country in ['pakistan']:\n",
    "        return 'Pakistan'\n",
    "    else:\n",
    "        return country  # return the original name if no match is found\n",
    "\n",
    "#update country column \n",
    "df_clean['country'] = df_clean['country'].apply(rename_countries)\n",
    "#strip any remaining whitespaces\n",
    "df_clean['country'] = df_clean['country'].apply(lambda x: x.strip() if isinstance(x, str) else x) #checks if string, then removes spaces \n",
    "\n",
    "# Map each country to the continent\n",
    "def country_to_continent(country_name):\n",
    "    try:\n",
    "        if country_name == 'USA':\n",
    "            country_alpha2 = \"US\"\n",
    "        elif country_name == 'UK':\n",
    "            country_alpha2 = \"GB\"\n",
    "        else:\n",
    "            country_alpha2 = pc.country_name_to_country_alpha2(country_name)\n",
    "        country_continent_code = pc.country_alpha2_to_continent_code(country_alpha2)\n",
    "        country_continent_name = pc.convert_continent_code_to_continent_name(country_continent_code)\n",
    "        return country_continent_name\n",
    "    except:\n",
    "        return \"Unknown\"\n",
    "\n",
    "df_clean['continent'] = df_clean['country'].apply(country_to_continent)"
   ]
  },
  {
   "cell_type": "code",
   "execution_count": 96,
   "metadata": {},
   "outputs": [],
   "source": [
    "###### Cat Code Variables #########\n",
    "\n",
    "# ####Gender: clean gender column into numbers\n",
    "#clean third cat as 'other'\n",
    "df_clean['gender'] = df_clean.gender.apply(lambda x: \"Female\" if x == 'Female' else (\"Male\" if x == 'Male' else \"Other\"))\n",
    "#0 if female, 1 if male, 2 if other \n",
    "df_clean['gender_num'] = df_clean.gender.apply(lambda x: 0 if x == 'Female' else (1 if x == 'Male' else 2))\n",
    "df_clean.groupby(['gender','gender_num'])['ResponseId'].count()\n",
    "\n",
    "####Student: clean student column into numbers\n",
    "#0 if not a student, 1 if a student\n",
    "df_clean['student_num']= df_clean.student.astype('category').cat.codes\n",
    "df_clean.groupby(['student','student_num'])['ResponseId'].count()\n",
    "\n",
    "####Education: clean education column into numbers\n",
    "#education_num: 0 = Associates, 1 = Bachecholars, 2 = Completed High School, 3 = Grad School, 4 = Prefer Not to Say, 5 = Some high school \n",
    "df_clean['education_num']= df_clean.education.astype('category').cat.codes\n",
    "df_clean.groupby(['education','education_num'])['ResponseId'].count()\n",
    "\n",
    "#### Ethnicity: clean ethnicity column into numbers\n",
    "#ethnicity: 0 = African American, 1 = Black/African/Caribbean, 2 = Prefer not to say, 3 = White or Caucasian\n",
    "df_clean['ethnicity_num']= df_clean.ethnicity.astype('category').cat.codes\n",
    "df_clean.groupby(['ethnicity','ethnicity_num'])['ResponseId'].count()\n",
    "\n",
    "#### Continent: clean contintent column into numbers\n",
    "#continent: 0 = Asia, 1 = Europe, 2 = North America, 3 = Oceania, 4 = South America, 5 = Unknown \n",
    "df_clean['contintent_num']= df_clean.continent.astype('category').cat.codes\n",
    "df_clean.groupby(['continent','contintent_num'])['ResponseId'].count()\n",
    "\n",
    "#### ADP: lean ADP column into numbers\n",
    "#ADP: 0 = I'm not sure, 1 = No, 2 = Yes \n",
    "df_clean['ADP_num']= df_clean.ADP_familiar.astype('category').cat.codes\n",
    "df_clean.groupby(['ADP_familiar','ADP_num'])['ResponseId'].count()\n",
    "\n",
    "#### Age: clean age column into numbers\n",
    "#age: {'18 - 24 years old': 0, '25 - 34 years old': 1, '35 - 44 years old': 2, '45 - 54 years old': 3, '55 - 64 years old': 4}\n",
    "age_order = ['18 - 24 years old', '25 - 34 years old', '35 - 44 years old', '45 - 54 years old', '55 - 64 years old']\n",
    "age_mapping = {age: i for i, age in enumerate(age_order)}\n",
    "df_clean['age_num'] = df_clean['age'].map(age_mapping) #maps dict \n"
   ]
  },
  {
   "cell_type": "code",
   "execution_count": 97,
   "metadata": {},
   "outputs": [
    {
     "name": "stdout",
     "output_type": "stream",
     "text": [
      "student         1\n",
      "education       1\n",
      "gender          0\n",
      "ADP_familiar    4\n",
      "dtype: int64\n"
     ]
    }
   ],
   "source": [
    "## Check for NA values \n",
    "dem = ['student','education','gender','ADP_familiar']\n",
    "\n",
    "print(df_clean[dem].isna().sum())"
   ]
  },
  {
   "cell_type": "markdown",
   "metadata": {},
   "source": [
    "#### Demographic Insights "
   ]
  },
  {
   "cell_type": "markdown",
   "metadata": {},
   "source": [
    "Defintions\n",
    "- gender_num: 0 = female, 1 = male, 2 = other\n",
    "- student_num: 0 = not a studnet, 1 = a student, -1 = NA\n",
    "- education_num: 0 = Associates, 1 = Bachecholars, 2 = Completed High School, 3 = Grad School, 4 = Prefer Not to Say, 5 = Some high school \n",
    "- ethnicity: 0 = African American, 1 = Black/African/Caribbean, 2 = Prefer not to say, 3 = White or Caucasian\n",
    "- continent: 0 = Asia, 1 = Europe, 2 = North America, 3 = Oceania, 4 = South America, 5 = Unknown \n",
    "- ADP: 0 = I'm not sure, 1 = No, 2 = Yes \n",
    "- age: {'18 - 24 years old': 0, '25 - 34 years old': 1, '35 - 44 years old': 2, '45 - 54 years old': 3, '55 - 64 years old': 4}"
   ]
  },
  {
   "cell_type": "markdown",
   "metadata": {},
   "source": [
    "##### Participant Demographic Insights "
   ]
  },
  {
   "cell_type": "code",
   "execution_count": 104,
   "metadata": {},
   "outputs": [
    {
     "data": {
      "text/html": [
       "<div>\n",
       "<style scoped>\n",
       "    .dataframe tbody tr th:only-of-type {\n",
       "        vertical-align: middle;\n",
       "    }\n",
       "\n",
       "    .dataframe tbody tr th {\n",
       "        vertical-align: top;\n",
       "    }\n",
       "\n",
       "    .dataframe thead th {\n",
       "        text-align: right;\n",
       "    }\n",
       "</style>\n",
       "<table border=\"1\" class=\"dataframe\">\n",
       "  <thead>\n",
       "    <tr style=\"text-align: right;\">\n",
       "      <th></th>\n",
       "      <th>proportion</th>\n",
       "    </tr>\n",
       "    <tr>\n",
       "      <th>ethnicity</th>\n",
       "      <th></th>\n",
       "    </tr>\n",
       "  </thead>\n",
       "  <tbody>\n",
       "    <tr>\n",
       "      <th>White or Caucasian</th>\n",
       "      <td>0.702439</td>\n",
       "    </tr>\n",
       "    <tr>\n",
       "      <th>Asian</th>\n",
       "      <td>0.156098</td>\n",
       "    </tr>\n",
       "    <tr>\n",
       "      <th>Black/African/Caribbean</th>\n",
       "      <td>0.126829</td>\n",
       "    </tr>\n",
       "    <tr>\n",
       "      <th>Prefer not to say</th>\n",
       "      <td>0.009756</td>\n",
       "    </tr>\n",
       "    <tr>\n",
       "      <th>Other</th>\n",
       "      <td>0.004878</td>\n",
       "    </tr>\n",
       "  </tbody>\n",
       "</table>\n",
       "</div>"
      ],
      "text/plain": [
       "                         proportion\n",
       "ethnicity                          \n",
       "White or Caucasian         0.702439\n",
       "Asian                      0.156098\n",
       "Black/African/Caribbean    0.126829\n",
       "Prefer not to say          0.009756\n",
       "Other                      0.004878"
      ]
     },
     "execution_count": 104,
     "metadata": {},
     "output_type": "execute_result"
    }
   ],
   "source": [
    "#Participant Demographic Insights \n",
    "demographics =   [ 'ResponseId','gender_num', 'gender', 'student_num', 'student','education_num', 'education','ethnicity_num','ethnicity', 'contintent_num', 'continent','age_num', 'age', 'ADP_num', 'ADP_familiar'] \n",
    "df_demographics = df_clean[demographics]\n",
    "\n",
    "#ethnicity\n",
    "df_demographics.ethnicity.value_counts(normalize=True).to_frame()"
   ]
  },
  {
   "cell_type": "code",
   "execution_count": 105,
   "metadata": {},
   "outputs": [
    {
     "data": {
      "text/html": [
       "<div>\n",
       "<style scoped>\n",
       "    .dataframe tbody tr th:only-of-type {\n",
       "        vertical-align: middle;\n",
       "    }\n",
       "\n",
       "    .dataframe tbody tr th {\n",
       "        vertical-align: top;\n",
       "    }\n",
       "\n",
       "    .dataframe thead th {\n",
       "        text-align: right;\n",
       "    }\n",
       "</style>\n",
       "<table border=\"1\" class=\"dataframe\">\n",
       "  <thead>\n",
       "    <tr style=\"text-align: right;\">\n",
       "      <th></th>\n",
       "      <th>proportion</th>\n",
       "    </tr>\n",
       "    <tr>\n",
       "      <th>gender</th>\n",
       "      <th></th>\n",
       "    </tr>\n",
       "  </thead>\n",
       "  <tbody>\n",
       "    <tr>\n",
       "      <th>Male</th>\n",
       "      <td>0.500000</td>\n",
       "    </tr>\n",
       "    <tr>\n",
       "      <th>Female</th>\n",
       "      <td>0.461165</td>\n",
       "    </tr>\n",
       "    <tr>\n",
       "      <th>Other</th>\n",
       "      <td>0.038835</td>\n",
       "    </tr>\n",
       "  </tbody>\n",
       "</table>\n",
       "</div>"
      ],
      "text/plain": [
       "        proportion\n",
       "gender            \n",
       "Male      0.500000\n",
       "Female    0.461165\n",
       "Other     0.038835"
      ]
     },
     "execution_count": 105,
     "metadata": {},
     "output_type": "execute_result"
    }
   ],
   "source": [
    "df_demographics['gender'].value_counts(normalize=True).to_frame()"
   ]
  },
  {
   "cell_type": "code",
   "execution_count": 106,
   "metadata": {},
   "outputs": [
    {
     "data": {
      "text/html": [
       "<div>\n",
       "<style scoped>\n",
       "    .dataframe tbody tr th:only-of-type {\n",
       "        vertical-align: middle;\n",
       "    }\n",
       "\n",
       "    .dataframe tbody tr th {\n",
       "        vertical-align: top;\n",
       "    }\n",
       "\n",
       "    .dataframe thead th {\n",
       "        text-align: right;\n",
       "    }\n",
       "</style>\n",
       "<table border=\"1\" class=\"dataframe\">\n",
       "  <thead>\n",
       "    <tr style=\"text-align: right;\">\n",
       "      <th></th>\n",
       "      <th>proportion</th>\n",
       "    </tr>\n",
       "    <tr>\n",
       "      <th>continent</th>\n",
       "      <th></th>\n",
       "    </tr>\n",
       "  </thead>\n",
       "  <tbody>\n",
       "    <tr>\n",
       "      <th>North America</th>\n",
       "      <td>0.466019</td>\n",
       "    </tr>\n",
       "    <tr>\n",
       "      <th>Unknown</th>\n",
       "      <td>0.223301</td>\n",
       "    </tr>\n",
       "    <tr>\n",
       "      <th>Europe</th>\n",
       "      <td>0.199029</td>\n",
       "    </tr>\n",
       "    <tr>\n",
       "      <th>Asia</th>\n",
       "      <td>0.082524</td>\n",
       "    </tr>\n",
       "    <tr>\n",
       "      <th>Oceania</th>\n",
       "      <td>0.014563</td>\n",
       "    </tr>\n",
       "    <tr>\n",
       "      <th>South America</th>\n",
       "      <td>0.014563</td>\n",
       "    </tr>\n",
       "  </tbody>\n",
       "</table>\n",
       "</div>"
      ],
      "text/plain": [
       "               proportion\n",
       "continent                \n",
       "North America    0.466019\n",
       "Unknown          0.223301\n",
       "Europe           0.199029\n",
       "Asia             0.082524\n",
       "Oceania          0.014563\n",
       "South America    0.014563"
      ]
     },
     "execution_count": 106,
     "metadata": {},
     "output_type": "execute_result"
    }
   ],
   "source": [
    "df_demographics['continent'].value_counts(normalize=True).to_frame()"
   ]
  },
  {
   "cell_type": "code",
   "execution_count": 108,
   "metadata": {},
   "outputs": [
    {
     "data": {
      "text/html": [
       "<div>\n",
       "<style scoped>\n",
       "    .dataframe tbody tr th:only-of-type {\n",
       "        vertical-align: middle;\n",
       "    }\n",
       "\n",
       "    .dataframe tbody tr th {\n",
       "        vertical-align: top;\n",
       "    }\n",
       "\n",
       "    .dataframe thead th {\n",
       "        text-align: right;\n",
       "    }\n",
       "</style>\n",
       "<table border=\"1\" class=\"dataframe\">\n",
       "  <thead>\n",
       "    <tr style=\"text-align: right;\">\n",
       "      <th></th>\n",
       "      <th>proportion</th>\n",
       "    </tr>\n",
       "    <tr>\n",
       "      <th>student</th>\n",
       "      <th></th>\n",
       "    </tr>\n",
       "  </thead>\n",
       "  <tbody>\n",
       "    <tr>\n",
       "      <th>No</th>\n",
       "      <td>0.512195</td>\n",
       "    </tr>\n",
       "    <tr>\n",
       "      <th>Yes</th>\n",
       "      <td>0.487805</td>\n",
       "    </tr>\n",
       "  </tbody>\n",
       "</table>\n",
       "</div>"
      ],
      "text/plain": [
       "         proportion\n",
       "student            \n",
       "No         0.512195\n",
       "Yes        0.487805"
      ]
     },
     "execution_count": 108,
     "metadata": {},
     "output_type": "execute_result"
    }
   ],
   "source": [
    "df_demographics['student'].value_counts(normalize=True).to_frame()"
   ]
  },
  {
   "cell_type": "code",
   "execution_count": 103,
   "metadata": {},
   "outputs": [
    {
     "data": {
      "text/html": [
       "<div>\n",
       "<style scoped>\n",
       "    .dataframe tbody tr th:only-of-type {\n",
       "        vertical-align: middle;\n",
       "    }\n",
       "\n",
       "    .dataframe tbody tr th {\n",
       "        vertical-align: top;\n",
       "    }\n",
       "\n",
       "    .dataframe thead th {\n",
       "        text-align: right;\n",
       "    }\n",
       "</style>\n",
       "<table border=\"1\" class=\"dataframe\">\n",
       "  <thead>\n",
       "    <tr style=\"text-align: right;\">\n",
       "      <th></th>\n",
       "      <th>proportion</th>\n",
       "    </tr>\n",
       "    <tr>\n",
       "      <th>ADP_familiar</th>\n",
       "      <th></th>\n",
       "    </tr>\n",
       "  </thead>\n",
       "  <tbody>\n",
       "    <tr>\n",
       "      <th>Yes</th>\n",
       "      <td>0.559406</td>\n",
       "    </tr>\n",
       "    <tr>\n",
       "      <th>No</th>\n",
       "      <td>0.326733</td>\n",
       "    </tr>\n",
       "    <tr>\n",
       "      <th>I'm not sure</th>\n",
       "      <td>0.113861</td>\n",
       "    </tr>\n",
       "  </tbody>\n",
       "</table>\n",
       "</div>"
      ],
      "text/plain": [
       "              proportion\n",
       "ADP_familiar            \n",
       "Yes             0.559406\n",
       "No              0.326733\n",
       "I'm not sure    0.113861"
      ]
     },
     "execution_count": 103,
     "metadata": {},
     "output_type": "execute_result"
    }
   ],
   "source": [
    "df_demographics['ADP_familiar'].value_counts(normalize=True).to_frame()"
   ]
  },
  {
   "cell_type": "code",
   "execution_count": 101,
   "metadata": {},
   "outputs": [
    {
     "data": {
      "text/html": [
       "<div>\n",
       "<style scoped>\n",
       "    .dataframe tbody tr th:only-of-type {\n",
       "        vertical-align: middle;\n",
       "    }\n",
       "\n",
       "    .dataframe tbody tr th {\n",
       "        vertical-align: top;\n",
       "    }\n",
       "\n",
       "    .dataframe thead th {\n",
       "        text-align: right;\n",
       "    }\n",
       "</style>\n",
       "<table border=\"1\" class=\"dataframe\">\n",
       "  <thead>\n",
       "    <tr style=\"text-align: right;\">\n",
       "      <th></th>\n",
       "      <th>proportion</th>\n",
       "    </tr>\n",
       "    <tr>\n",
       "      <th>education</th>\n",
       "      <th></th>\n",
       "    </tr>\n",
       "  </thead>\n",
       "  <tbody>\n",
       "    <tr>\n",
       "      <th>Bachelor's degree</th>\n",
       "      <td>0.409756</td>\n",
       "    </tr>\n",
       "    <tr>\n",
       "      <th>Associates or technical degree</th>\n",
       "      <td>0.229268</td>\n",
       "    </tr>\n",
       "    <tr>\n",
       "      <th>Graduate or professional degree (MA, MS, MBA, PHd, JD, MD, etc.)</th>\n",
       "      <td>0.200000</td>\n",
       "    </tr>\n",
       "    <tr>\n",
       "      <th>Completed high school / secondary school</th>\n",
       "      <td>0.126829</td>\n",
       "    </tr>\n",
       "    <tr>\n",
       "      <th>Some high school / secondary school or less</th>\n",
       "      <td>0.034146</td>\n",
       "    </tr>\n",
       "  </tbody>\n",
       "</table>\n",
       "</div>"
      ],
      "text/plain": [
       "                                                    proportion\n",
       "education                                                     \n",
       "Bachelor's degree                                     0.409756\n",
       "Associates or technical degree                        0.229268\n",
       "Graduate or professional degree (MA, MS, MBA, P...    0.200000\n",
       "Completed high school / secondary school              0.126829\n",
       "Some high school / secondary school or less           0.034146"
      ]
     },
     "execution_count": 101,
     "metadata": {},
     "output_type": "execute_result"
    }
   ],
   "source": [
    "df_demographics['education'].value_counts(normalize=True).to_frame()"
   ]
  },
  {
   "cell_type": "code",
   "execution_count": null,
   "metadata": {},
   "outputs": [],
   "source": [
    "df_demographics.describe()"
   ]
  },
  {
   "cell_type": "code",
   "execution_count": 80,
   "metadata": {},
   "outputs": [
    {
     "data": {
      "text/html": [
       "<div>\n",
       "<style scoped>\n",
       "    .dataframe tbody tr th:only-of-type {\n",
       "        vertical-align: middle;\n",
       "    }\n",
       "\n",
       "    .dataframe tbody tr th {\n",
       "        vertical-align: top;\n",
       "    }\n",
       "\n",
       "    .dataframe thead th {\n",
       "        text-align: right;\n",
       "    }\n",
       "</style>\n",
       "<table border=\"1\" class=\"dataframe\">\n",
       "  <thead>\n",
       "    <tr style=\"text-align: right;\">\n",
       "      <th>frame</th>\n",
       "      <th>gain</th>\n",
       "      <th>loss</th>\n",
       "    </tr>\n",
       "    <tr>\n",
       "      <th>gender</th>\n",
       "      <th></th>\n",
       "      <th></th>\n",
       "    </tr>\n",
       "  </thead>\n",
       "  <tbody>\n",
       "    <tr>\n",
       "      <th>Female</th>\n",
       "      <td>42</td>\n",
       "      <td>53</td>\n",
       "    </tr>\n",
       "    <tr>\n",
       "      <th>Male</th>\n",
       "      <td>52</td>\n",
       "      <td>51</td>\n",
       "    </tr>\n",
       "    <tr>\n",
       "      <th>Non-binary / third gender</th>\n",
       "      <td>2</td>\n",
       "      <td>1</td>\n",
       "    </tr>\n",
       "    <tr>\n",
       "      <th>Prefer not to say</th>\n",
       "      <td>1</td>\n",
       "      <td>0</td>\n",
       "    </tr>\n",
       "    <tr>\n",
       "      <th>Prefer to self-describe</th>\n",
       "      <td>3</td>\n",
       "      <td>0</td>\n",
       "    </tr>\n",
       "  </tbody>\n",
       "</table>\n",
       "</div>"
      ],
      "text/plain": [
       "frame                      gain  loss\n",
       "gender                               \n",
       "Female                       42    53\n",
       "Male                         52    51\n",
       "Non-binary / third gender     2     1\n",
       "Prefer not to say             1     0\n",
       "Prefer to self-describe       3     0"
      ]
     },
     "execution_count": 80,
     "metadata": {},
     "output_type": "execute_result"
    }
   ],
   "source": [
    "#gen_cross_tab = pd.crosstab(df_clean['gender'], df_clean['frame'])\n",
    "#gen_cross_tab"
   ]
  },
  {
   "cell_type": "code",
   "execution_count": 81,
   "metadata": {},
   "outputs": [
    {
     "data": {
      "text/plain": [
       "age                age_num\n",
       "18 - 24 years old  0           51\n",
       "25 - 34 years old  1          115\n",
       "35 - 44 years old  2           31\n",
       "45 - 54 years old  3            5\n",
       "55 - 64 years old  4            4\n",
       "Name: ResponseId, dtype: int64"
      ]
     },
     "execution_count": 81,
     "metadata": {},
     "output_type": "execute_result"
    }
   ],
   "source": [
    "#df_clean.groupby(['age', 'age_num'])['ResponseId'].count()"
   ]
  },
  {
   "cell_type": "code",
   "execution_count": 539,
   "metadata": {},
   "outputs": [
    {
     "data": {
      "text/plain": [
       "frame\n",
       "loss    64\n",
       "gain    59\n",
       "Name: count, dtype: int64"
      ]
     },
     "execution_count": 539,
     "metadata": {},
     "output_type": "execute_result"
    }
   ],
   "source": [
    "#summary insights \n",
    "df_clean.groupby(['frame','scenario','scenario_mapped','option_selected']).ResponseId.count()\n",
    "\n",
    "#% in each condition (gain or loss)\n",
    "df_clean['frame'].value_counts()\n"
   ]
  },
  {
   "cell_type": "markdown",
   "metadata": {},
   "source": [
    "### NEP Scoring"
   ]
  },
  {
   "cell_type": "code",
   "execution_count": 64,
   "metadata": {},
   "outputs": [],
   "source": [
    "columns = df_clean.columns\n",
    "#nep columns only\n",
    "nep_columns = [col for col in columns if col.startswith('Q. NEP')]\n",
    "\n",
    "#function to clean likert score data \n",
    "def extract_score(likert): \n",
    "   match = re.search(r'\\d', likert)\n",
    "   if match: \n",
    "      return int(match.group(0))\n",
    "   return 0\n",
    "   \n",
    "# apply function to nep columns \n",
    "for col in df_clean[nep_columns]: \n",
    "   df_clean[col] = df_clean[col].astype(str)\n",
    "df_clean[nep_columns] = df_clean[nep_columns].applymap(extract_score)\n",
    "\n",
    "# function to sum score\n",
    "def sum_score(row):\n",
    "   if pd.notna(row).all():  #all nep questions answered\n",
    "      return row.sum()\n",
    "   else:\n",
    "      return \"N/A\"\n",
    "\n",
    "#new column that sums score\n",
    "df_clean['NEP_Score'] = df_clean[nep_columns].apply(lambda row: sum_score(row), axis=1)\n"
   ]
  },
  {
   "cell_type": "code",
   "execution_count": 65,
   "metadata": {},
   "outputs": [
    {
     "data": {
      "text/html": [
       "<div>\n",
       "<style scoped>\n",
       "    .dataframe tbody tr th:only-of-type {\n",
       "        vertical-align: middle;\n",
       "    }\n",
       "\n",
       "    .dataframe tbody tr th {\n",
       "        vertical-align: top;\n",
       "    }\n",
       "\n",
       "    .dataframe thead th {\n",
       "        text-align: right;\n",
       "    }\n",
       "</style>\n",
       "<table border=\"1\" class=\"dataframe\">\n",
       "  <thead>\n",
       "    <tr style=\"text-align: right;\">\n",
       "      <th></th>\n",
       "      <th>count</th>\n",
       "      <th>mean</th>\n",
       "      <th>std</th>\n",
       "      <th>min</th>\n",
       "      <th>25%</th>\n",
       "      <th>50%</th>\n",
       "      <th>75%</th>\n",
       "      <th>max</th>\n",
       "    </tr>\n",
       "  </thead>\n",
       "  <tbody>\n",
       "    <tr>\n",
       "      <th>Q. NEP_1</th>\n",
       "      <td>206.0</td>\n",
       "      <td>2.349515</td>\n",
       "      <td>1.061143</td>\n",
       "      <td>0.0</td>\n",
       "      <td>2.0</td>\n",
       "      <td>2.0</td>\n",
       "      <td>3.0</td>\n",
       "      <td>5.0</td>\n",
       "    </tr>\n",
       "    <tr>\n",
       "      <th>Q. NEP_2</th>\n",
       "      <td>206.0</td>\n",
       "      <td>2.067961</td>\n",
       "      <td>0.975426</td>\n",
       "      <td>0.0</td>\n",
       "      <td>1.0</td>\n",
       "      <td>2.0</td>\n",
       "      <td>3.0</td>\n",
       "      <td>5.0</td>\n",
       "    </tr>\n",
       "    <tr>\n",
       "      <th>Q. NEP_3</th>\n",
       "      <td>206.0</td>\n",
       "      <td>1.970874</td>\n",
       "      <td>1.054202</td>\n",
       "      <td>0.0</td>\n",
       "      <td>1.0</td>\n",
       "      <td>2.0</td>\n",
       "      <td>3.0</td>\n",
       "      <td>5.0</td>\n",
       "    </tr>\n",
       "    <tr>\n",
       "      <th>Q. NEP_4</th>\n",
       "      <td>206.0</td>\n",
       "      <td>1.966019</td>\n",
       "      <td>1.065563</td>\n",
       "      <td>0.0</td>\n",
       "      <td>1.0</td>\n",
       "      <td>2.0</td>\n",
       "      <td>3.0</td>\n",
       "      <td>5.0</td>\n",
       "    </tr>\n",
       "    <tr>\n",
       "      <th>Q. NEP_5</th>\n",
       "      <td>206.0</td>\n",
       "      <td>1.864078</td>\n",
       "      <td>0.998033</td>\n",
       "      <td>0.0</td>\n",
       "      <td>1.0</td>\n",
       "      <td>2.0</td>\n",
       "      <td>2.0</td>\n",
       "      <td>5.0</td>\n",
       "    </tr>\n",
       "    <tr>\n",
       "      <th>Q. NEP_6</th>\n",
       "      <td>206.0</td>\n",
       "      <td>1.985437</td>\n",
       "      <td>1.028748</td>\n",
       "      <td>0.0</td>\n",
       "      <td>1.0</td>\n",
       "      <td>2.0</td>\n",
       "      <td>3.0</td>\n",
       "      <td>5.0</td>\n",
       "    </tr>\n",
       "    <tr>\n",
       "      <th>Q. NEP_7</th>\n",
       "      <td>206.0</td>\n",
       "      <td>2.135922</td>\n",
       "      <td>1.050422</td>\n",
       "      <td>0.0</td>\n",
       "      <td>1.0</td>\n",
       "      <td>2.0</td>\n",
       "      <td>3.0</td>\n",
       "      <td>5.0</td>\n",
       "    </tr>\n",
       "    <tr>\n",
       "      <th>Q. NEP_8</th>\n",
       "      <td>206.0</td>\n",
       "      <td>2.048544</td>\n",
       "      <td>1.094364</td>\n",
       "      <td>0.0</td>\n",
       "      <td>1.0</td>\n",
       "      <td>2.0</td>\n",
       "      <td>3.0</td>\n",
       "      <td>5.0</td>\n",
       "    </tr>\n",
       "  </tbody>\n",
       "</table>\n",
       "</div>"
      ],
      "text/plain": [
       "          count      mean       std  min  25%  50%  75%  max\n",
       "Q. NEP_1  206.0  2.349515  1.061143  0.0  2.0  2.0  3.0  5.0\n",
       "Q. NEP_2  206.0  2.067961  0.975426  0.0  1.0  2.0  3.0  5.0\n",
       "Q. NEP_3  206.0  1.970874  1.054202  0.0  1.0  2.0  3.0  5.0\n",
       "Q. NEP_4  206.0  1.966019  1.065563  0.0  1.0  2.0  3.0  5.0\n",
       "Q. NEP_5  206.0  1.864078  0.998033  0.0  1.0  2.0  2.0  5.0\n",
       "Q. NEP_6  206.0  1.985437  1.028748  0.0  1.0  2.0  3.0  5.0\n",
       "Q. NEP_7  206.0  2.135922  1.050422  0.0  1.0  2.0  3.0  5.0\n",
       "Q. NEP_8  206.0  2.048544  1.094364  0.0  1.0  2.0  3.0  5.0"
      ]
     },
     "execution_count": 65,
     "metadata": {},
     "output_type": "execute_result"
    }
   ],
   "source": [
    "#some insights on each NEP question\n",
    "stats_by_q = df_clean[nep_columns].describe().T\n",
    "stats_by_q"
   ]
  },
  {
   "cell_type": "markdown",
   "metadata": {},
   "source": [
    "### Main Data Analysis "
   ]
  },
  {
   "cell_type": "markdown",
   "metadata": {},
   "source": [
    "#### First Look"
   ]
  },
  {
   "cell_type": "code",
   "execution_count": 77,
   "metadata": {},
   "outputs": [
    {
     "name": "stdout",
     "output_type": "stream",
     "text": [
      "Breakdown of Choice Selection\n",
      "Sample Size: 205\n",
      "Gain Sample Size: 100\n",
      "Loss Sample Size: 105\n",
      "\n",
      "\n",
      "frame            gain      loss\n",
      "option_selected                \n",
      "Proposal A       0.77  0.685714\n",
      "Proposal B       0.23  0.314286\n",
      "\n",
      "\n",
      "frame            gain  loss\n",
      "option_selected            \n",
      "Proposal A         77    72\n",
      "Proposal B         23    33\n"
     ]
    }
   ],
   "source": [
    "main_analysis_columns = ['ResponseId', 'frame', 'scenario_mapped', 'option_selected', 'rating_num', 'rationale', 'age_num',  'gender_num',  'ethnicity_num', 'education_num',   'contintent_num', 'ADP_num', 'student_num','NEP_Score']\n",
    "analysis_columns = ['ResponseId', 'frame', 'scenario_mapped', 'option_selected', 'rating', 'rating_num', 'rationale',\n",
    "'age', 'age_num', 'gender',  'gender_num', 'ethnicity', 'ethnicity_num', 'education', 'education_num', 'continent',  'contintent_num', \n",
    "'ADP_num','ADP_familiar',  'student', 'student_num', 'NEP_Score']\n",
    "\n",
    "\n",
    "#set up dataframe \n",
    "main_analysis = df_clean[main_analysis_columns]\n",
    "#remove one off na option_selection\n",
    "main_analysis = main_analysis[~main_analysis['scenario_mapped'].isna()] \n",
    "\n",
    "#gain & loss conditions \n",
    "gain_condition = main_analysis[main_analysis['frame']=='gain']\n",
    "loss_condition = main_analysis[main_analysis['frame']=='loss']\n",
    "\n",
    "#add scenario cleaned column with just animals, humans, or forest \n",
    "main_analysis['scenario_clean'] = main_analysis['scenario_mapped'].apply(lambda x: x.split(\"_\")[0] ) \n",
    "\n",
    "#% of Participants Selecting Each Option \n",
    "frame_cross_pct = pd.crosstab(main_analysis['option_selected'], main_analysis['frame'], normalize='columns')\n",
    "frame_cross_num = pd.crosstab(main_analysis['option_selected'], main_analysis['frame'])\n",
    "print(\"Breakdown of Choice Selection\")\n",
    "print(f\"\"\"Sample Size: {main_analysis.shape[0]}\"\"\")\n",
    "print(f\"\"\"Gain Sample Size: {main_analysis[main_analysis['frame'] == 'gain'].shape[0]}\"\"\")\n",
    "print(f\"\"\"Loss Sample Size: {main_analysis[main_analysis['frame'] == 'loss'].shape[0]}\"\"\")\n",
    "print(f\"\"\"\\n\\n{frame_cross_pct}\"\"\")\n",
    "print(f\"\"\"\\n\\n{frame_cross_num}\"\"\")"
   ]
  },
  {
   "cell_type": "code",
   "execution_count": 116,
   "metadata": {},
   "outputs": [
    {
     "data": {
      "text/html": [
       "<div>\n",
       "<style scoped>\n",
       "    .dataframe tbody tr th:only-of-type {\n",
       "        vertical-align: middle;\n",
       "    }\n",
       "\n",
       "    .dataframe tbody tr th {\n",
       "        vertical-align: top;\n",
       "    }\n",
       "\n",
       "    .dataframe thead th {\n",
       "        text-align: right;\n",
       "    }\n",
       "</style>\n",
       "<table border=\"1\" class=\"dataframe\">\n",
       "  <thead>\n",
       "    <tr style=\"text-align: right;\">\n",
       "      <th></th>\n",
       "      <th>scenario_clean</th>\n",
       "      <th>frame</th>\n",
       "      <th>percentage</th>\n",
       "    </tr>\n",
       "  </thead>\n",
       "  <tbody>\n",
       "    <tr>\n",
       "      <th>0</th>\n",
       "      <td>animals</td>\n",
       "      <td>gain</td>\n",
       "      <td>0.264706</td>\n",
       "    </tr>\n",
       "    <tr>\n",
       "      <th>1</th>\n",
       "      <td>animals</td>\n",
       "      <td>loss</td>\n",
       "      <td>0.378378</td>\n",
       "    </tr>\n",
       "    <tr>\n",
       "      <th>2</th>\n",
       "      <td>forest</td>\n",
       "      <td>gain</td>\n",
       "      <td>0.166667</td>\n",
       "    </tr>\n",
       "    <tr>\n",
       "      <th>3</th>\n",
       "      <td>forest</td>\n",
       "      <td>loss</td>\n",
       "      <td>0.161290</td>\n",
       "    </tr>\n",
       "    <tr>\n",
       "      <th>4</th>\n",
       "      <td>humans</td>\n",
       "      <td>gain</td>\n",
       "      <td>0.266667</td>\n",
       "    </tr>\n",
       "    <tr>\n",
       "      <th>5</th>\n",
       "      <td>humans</td>\n",
       "      <td>loss</td>\n",
       "      <td>0.378378</td>\n",
       "    </tr>\n",
       "  </tbody>\n",
       "</table>\n",
       "</div>"
      ],
      "text/plain": [
       "  scenario_clean frame  percentage\n",
       "0        animals  gain    0.264706\n",
       "1        animals  loss    0.378378\n",
       "2         forest  gain    0.166667\n",
       "3         forest  loss    0.161290\n",
       "4         humans  gain    0.266667\n",
       "5         humans  loss    0.378378"
      ]
     },
     "execution_count": 116,
     "metadata": {},
     "output_type": "execute_result"
    }
   ],
   "source": [
    "prop_B = main_analysis[main_analysis['option_selected'] == 'Proposal B']\n",
    "\n",
    "option_b_grouped = prop_B.groupby(['scenario_clean', 'frame']).size() / main_analysis.groupby(['frame', 'scenario_clean']).size()\n",
    "option_b_grouped = option_b_grouped.to_frame().reset_index()\n",
    "\n",
    "option_b_grouped = option_b_grouped.rename(columns={0: 'percentage'})\n",
    "option_b_grouped"
   ]
  },
  {
   "cell_type": "code",
   "execution_count": 117,
   "metadata": {},
   "outputs": [
    {
     "name": "stdout",
     "output_type": "stream",
     "text": [
      "option_selected       Proposal A  Proposal B\n",
      "frame scenario_clean                        \n",
      "gain  animals           0.735294    0.264706\n",
      "      forest            0.833333    0.166667\n",
      "      humans            0.733333    0.266667\n",
      "loss  animals           0.621622    0.378378\n",
      "      forest            0.838710    0.161290\n",
      "      humans            0.621622    0.378378\n",
      "\n",
      "\n",
      "Proportion choosing risky choice:\n",
      " frame               gain      loss\n",
      "scenario_clean                    \n",
      "animals         0.264706  0.378378\n",
      "forest          0.166667  0.161290\n",
      "humans          0.266667  0.378378\n"
     ]
    }
   ],
   "source": [
    "#proportion by scenario\n",
    "prop_by_scn = pd.crosstab(index = [main_analysis['frame'], main_analysis['scenario_clean']], columns = main_analysis['option_selected'], normalize='index')\n",
    "print(prop_by_scn)\n",
    "\n",
    "#proportion choosing risky choice \n",
    "prop_B = main_analysis[main_analysis['option_selected'] == 'Proposal B']\n",
    "scn_prop_risky = main_analysis.pivot_table(values='option_selected',\n",
    "                                        index='scenario_clean',\n",
    "                                        columns='frame',\n",
    "                                        aggfunc=lambda x: sum(x=='Proposal B')/len(x))\n",
    "\n",
    "print(\"\\n\\nProportion choosing risky choice:\\n\",scn_prop_risky)\n"
   ]
  },
  {
   "cell_type": "code",
   "execution_count": 118,
   "metadata": {},
   "outputs": [
    {
     "data": {
      "text/html": [
       "<div>\n",
       "<style scoped>\n",
       "    .dataframe tbody tr th:only-of-type {\n",
       "        vertical-align: middle;\n",
       "    }\n",
       "\n",
       "    .dataframe tbody tr th {\n",
       "        vertical-align: top;\n",
       "    }\n",
       "\n",
       "    .dataframe thead th {\n",
       "        text-align: right;\n",
       "    }\n",
       "</style>\n",
       "<table border=\"1\" class=\"dataframe\">\n",
       "  <thead>\n",
       "    <tr style=\"text-align: right;\">\n",
       "      <th>frame</th>\n",
       "      <th>gain</th>\n",
       "      <th>loss</th>\n",
       "    </tr>\n",
       "    <tr>\n",
       "      <th>scenario_clean</th>\n",
       "      <th></th>\n",
       "      <th></th>\n",
       "    </tr>\n",
       "  </thead>\n",
       "  <tbody>\n",
       "    <tr>\n",
       "      <th>animals</th>\n",
       "      <td>34</td>\n",
       "      <td>37</td>\n",
       "    </tr>\n",
       "    <tr>\n",
       "      <th>forest</th>\n",
       "      <td>36</td>\n",
       "      <td>31</td>\n",
       "    </tr>\n",
       "    <tr>\n",
       "      <th>humans</th>\n",
       "      <td>30</td>\n",
       "      <td>37</td>\n",
       "    </tr>\n",
       "  </tbody>\n",
       "</table>\n",
       "</div>"
      ],
      "text/plain": [
       "frame           gain  loss\n",
       "scenario_clean            \n",
       "animals           34    37\n",
       "forest            36    31\n",
       "humans            30    37"
      ]
     },
     "execution_count": 118,
     "metadata": {},
     "output_type": "execute_result"
    }
   ],
   "source": [
    "scn_prop= main_analysis.pivot_table(values='option_selected',\n",
    "                                        index='scenario_clean',\n",
    "                                        columns='frame',\n",
    "                                        aggfunc={'frame': 'count'})\n",
    "scn_prop"
   ]
  },
  {
   "cell_type": "code",
   "execution_count": 230,
   "metadata": {},
   "outputs": [
    {
     "data": {
      "image/png": "[encoded data removed]",
      "text/plain": [
       "<Figure size 640x480 with 1 Axes>"
      ]
     },
     "metadata": {},
     "output_type": "display_data"
    }
   ],
   "source": [
    "# Proportion Choosing Risky Option\n",
    "ax = scn_prop_risky.plot(kind=\"bar\", color = [ green, orange])\n",
    "fig.set_size_inches(1, 1)\n",
    "\n",
    "fig = ax.get_figure()\n",
    "# change labels\n",
    "#ax.set_title(\"Proportion Choosing Risky Option by Scenario\")\n",
    "ax.set_xlabel(\"Scenario\")\n",
    "ax.set_xticklabels(labels = ['Animals', 'Trees', 'Human Lives' ], rotation = 0)\n",
    "ax.set_ylabel(\"Proportion of Risky Choice\")\n",
    "ax.spines['top'].set_visible(False)\n",
    "ax.spines['right'].set_visible(False)\n",
    "ax.set_yticks([0,0.1,.2,.3,.4])\n",
    "fig.tight_layout(pad=3)\n",
    "\n",
    "##plt.legend(bbox_to_anchor=(.2,1.01,.5,1), loc=\"lower center\", ncol=3, frameon=False, handletextpad=0.5, mode='expand')\n",
    "plt.legend(['Gain',\"Loss\"],bbox_to_anchor=(.5,1), loc=\"lower center\", ncol=3, frameon=False, handletextpad=0.5, mode='expand')\n",
    "plt.show()\n"
   ]
  },
  {
   "cell_type": "code",
   "execution_count": 253,
   "metadata": {},
   "outputs": [
    {
     "data": {
      "text/plain": [
       "<Axes: xlabel='NEP_Score', ylabel='rating_num'>"
      ]
     },
     "execution_count": 253,
     "metadata": {},
     "output_type": "execute_result"
    },
    {
     "data": {
      "image/png": "[encoded data removed]",
      "text/plain": [
       "<Figure size 800x500 with 2 Axes>"
      ]
     },
     "metadata": {},
     "output_type": "display_data"
    }
   ],
   "source": [
    "fig, axes = plt.subplots(1,2, figsize=(8,5),gridspec_kw={'wspace':0.5,'hspace':0.5})\n",
    "sns.scatterplot(x = 'NEP_Score', y = 'rating_num', data = loss_condition, ax = axes[0])\n",
    "sns.scatterplot(x = 'NEP_Score', y = 'rating_num', data = gain_condition, ax = axes[1])"
   ]
  },
  {
   "cell_type": "code",
   "execution_count": 120,
   "metadata": {},
   "outputs": [
    {
     "data": {
      "text/html": [
       "<div>\n",
       "<style scoped>\n",
       "    .dataframe tbody tr th:only-of-type {\n",
       "        vertical-align: middle;\n",
       "    }\n",
       "\n",
       "    .dataframe tbody tr th {\n",
       "        vertical-align: top;\n",
       "    }\n",
       "\n",
       "    .dataframe thead th {\n",
       "        text-align: right;\n",
       "    }\n",
       "</style>\n",
       "<table border=\"1\" class=\"dataframe\">\n",
       "  <thead>\n",
       "    <tr style=\"text-align: right;\">\n",
       "      <th></th>\n",
       "      <th>count</th>\n",
       "      <th>mean</th>\n",
       "      <th>std</th>\n",
       "      <th>min</th>\n",
       "      <th>25%</th>\n",
       "      <th>50%</th>\n",
       "      <th>75%</th>\n",
       "      <th>max</th>\n",
       "    </tr>\n",
       "    <tr>\n",
       "      <th>scenario_clean</th>\n",
       "      <th></th>\n",
       "      <th></th>\n",
       "      <th></th>\n",
       "      <th></th>\n",
       "      <th></th>\n",
       "      <th></th>\n",
       "      <th></th>\n",
       "      <th></th>\n",
       "    </tr>\n",
       "  </thead>\n",
       "  <tbody>\n",
       "    <tr>\n",
       "      <th>animals</th>\n",
       "      <td>71.0</td>\n",
       "      <td>15.985915</td>\n",
       "      <td>6.001174</td>\n",
       "      <td>0.0</td>\n",
       "      <td>11.0</td>\n",
       "      <td>16.0</td>\n",
       "      <td>20.0</td>\n",
       "      <td>28.0</td>\n",
       "    </tr>\n",
       "    <tr>\n",
       "      <th>forest</th>\n",
       "      <td>67.0</td>\n",
       "      <td>16.149254</td>\n",
       "      <td>6.177314</td>\n",
       "      <td>8.0</td>\n",
       "      <td>11.0</td>\n",
       "      <td>16.0</td>\n",
       "      <td>21.0</td>\n",
       "      <td>30.0</td>\n",
       "    </tr>\n",
       "    <tr>\n",
       "      <th>humans</th>\n",
       "      <td>67.0</td>\n",
       "      <td>17.029851</td>\n",
       "      <td>6.210866</td>\n",
       "      <td>8.0</td>\n",
       "      <td>11.0</td>\n",
       "      <td>17.0</td>\n",
       "      <td>21.0</td>\n",
       "      <td>35.0</td>\n",
       "    </tr>\n",
       "  </tbody>\n",
       "</table>\n",
       "</div>"
      ],
      "text/plain": [
       "                count       mean       std  min   25%   50%   75%   max\n",
       "scenario_clean                                                         \n",
       "animals          71.0  15.985915  6.001174  0.0  11.0  16.0  20.0  28.0\n",
       "forest           67.0  16.149254  6.177314  8.0  11.0  16.0  21.0  30.0\n",
       "humans           67.0  17.029851  6.210866  8.0  11.0  17.0  21.0  35.0"
      ]
     },
     "execution_count": 120,
     "metadata": {},
     "output_type": "execute_result"
    }
   ],
   "source": [
    "forest = main_analysis[main_analysis['scenario_clean'] == 'forest'] \n",
    "animals = main_analysis[main_analysis['scenario_clean'] == 'forest'] \n",
    "humans = main_analysis[main_analysis['scenario_clean'] == 'forest'] \n",
    "\n",
    "main_analysis.groupby('scenario_clean')['NEP_Score'].describe()"
   ]
  },
  {
   "cell_type": "markdown",
   "metadata": {},
   "source": [
    "##### Manipulation / Attention Tests"
   ]
  },
  {
   "cell_type": "code",
   "execution_count": 121,
   "metadata": {},
   "outputs": [
    {
     "name": "stdout",
     "output_type": "stream",
     "text": [
      "Breakdown when Rationale answer is not null\n",
      "Sample Size: 162\n",
      "Gain Sample Size: 85\n",
      "Loss Sample Size: 77\n"
     ]
    },
    {
     "data": {
      "text/html": [
       "<div>\n",
       "<style scoped>\n",
       "    .dataframe tbody tr th:only-of-type {\n",
       "        vertical-align: middle;\n",
       "    }\n",
       "\n",
       "    .dataframe tbody tr th {\n",
       "        vertical-align: top;\n",
       "    }\n",
       "\n",
       "    .dataframe thead th {\n",
       "        text-align: right;\n",
       "    }\n",
       "</style>\n",
       "<table border=\"1\" class=\"dataframe\">\n",
       "  <thead>\n",
       "    <tr style=\"text-align: right;\">\n",
       "      <th>frame</th>\n",
       "      <th>gain</th>\n",
       "      <th>loss</th>\n",
       "    </tr>\n",
       "    <tr>\n",
       "      <th>option_selected</th>\n",
       "      <th></th>\n",
       "      <th></th>\n",
       "    </tr>\n",
       "  </thead>\n",
       "  <tbody>\n",
       "    <tr>\n",
       "      <th>Proposal A</th>\n",
       "      <td>0.788235</td>\n",
       "      <td>0.571429</td>\n",
       "    </tr>\n",
       "    <tr>\n",
       "      <th>Proposal B</th>\n",
       "      <td>0.211765</td>\n",
       "      <td>0.428571</td>\n",
       "    </tr>\n",
       "  </tbody>\n",
       "</table>\n",
       "</div>"
      ],
      "text/plain": [
       "frame                gain      loss\n",
       "option_selected                    \n",
       "Proposal A       0.788235  0.571429\n",
       "Proposal B       0.211765  0.428571"
      ]
     },
     "execution_count": 121,
     "metadata": {},
     "output_type": "execute_result"
    }
   ],
   "source": [
    "#look where rationale answer is not null \n",
    "rationale_notnull = main_analysis[~main_analysis['rationale'].isna()]\n",
    "rationale_cross = pd.crosstab(rationale_notnull['option_selected'], rationale_notnull['frame'], normalize='columns')\n",
    "print(\"Breakdown when Rationale answer is not null\")\n",
    "print(f\"\"\"Sample Size: {rationale_notnull.shape[0]}\"\"\")\n",
    "print(f\"\"\"Gain Sample Size: {rationale_notnull[rationale_notnull['frame'] == 'gain'].shape[0]}\"\"\")\n",
    "print(f\"\"\"Loss Sample Size: {rationale_notnull[rationale_notnull['frame'] == 'loss'].shape[0]}\"\"\")\n",
    "rationale_cross"
   ]
  },
  {
   "cell_type": "code",
   "execution_count": 122,
   "metadata": {},
   "outputs": [
    {
     "name": "stdout",
     "output_type": "stream",
     "text": [
      "Breakdown when ADP answer is not true\n",
      "Sample Size: 93\n",
      "Gain Sample Size: 50\n",
      "Loss Sample Size: 43\n"
     ]
    },
    {
     "data": {
      "text/html": [
       "<div>\n",
       "<style scoped>\n",
       "    .dataframe tbody tr th:only-of-type {\n",
       "        vertical-align: middle;\n",
       "    }\n",
       "\n",
       "    .dataframe tbody tr th {\n",
       "        vertical-align: top;\n",
       "    }\n",
       "\n",
       "    .dataframe thead th {\n",
       "        text-align: right;\n",
       "    }\n",
       "</style>\n",
       "<table border=\"1\" class=\"dataframe\">\n",
       "  <thead>\n",
       "    <tr style=\"text-align: right;\">\n",
       "      <th>frame</th>\n",
       "      <th>gain</th>\n",
       "      <th>loss</th>\n",
       "    </tr>\n",
       "    <tr>\n",
       "      <th>option_selected</th>\n",
       "      <th></th>\n",
       "      <th></th>\n",
       "    </tr>\n",
       "  </thead>\n",
       "  <tbody>\n",
       "    <tr>\n",
       "      <th>Proposal A</th>\n",
       "      <td>0.82</td>\n",
       "      <td>0.604651</td>\n",
       "    </tr>\n",
       "    <tr>\n",
       "      <th>Proposal B</th>\n",
       "      <td>0.18</td>\n",
       "      <td>0.395349</td>\n",
       "    </tr>\n",
       "  </tbody>\n",
       "</table>\n",
       "</div>"
      ],
      "text/plain": [
       "frame            gain      loss\n",
       "option_selected                \n",
       "Proposal A       0.82  0.604651\n",
       "Proposal B       0.18  0.395349"
      ]
     },
     "execution_count": 122,
     "metadata": {},
     "output_type": "execute_result"
    }
   ],
   "source": [
    "#look where ADP answer is not true\n",
    "ADP_notyes = main_analysis[main_analysis['ADP_num'] < 2]\n",
    "ADP_cross = pd.crosstab(ADP_notyes['option_selected'], ADP_notyes['frame'], normalize='columns')\n",
    "print(\"Breakdown when ADP answer is not true\")\n",
    "print(f\"\"\"Sample Size: {ADP_notyes.shape[0]}\"\"\")\n",
    "print(f\"\"\"Gain Sample Size: {ADP_notyes[ADP_notyes['frame'] == 'gain'].shape[0]}\"\"\")\n",
    "print(f\"\"\"Loss Sample Size: {ADP_notyes[ADP_notyes['frame'] == 'loss'].shape[0]}\"\"\")\n",
    "ADP_cross"
   ]
  },
  {
   "cell_type": "code",
   "execution_count": 123,
   "metadata": {},
   "outputs": [
    {
     "name": "stdout",
     "output_type": "stream",
     "text": [
      "Breakdown when Rating matches answer\n",
      "Sample Size: 185\n",
      "Gain Sample Size: 93\n",
      "Loss Sample Size: 92\n"
     ]
    },
    {
     "data": {
      "text/html": [
       "<div>\n",
       "<style scoped>\n",
       "    .dataframe tbody tr th:only-of-type {\n",
       "        vertical-align: middle;\n",
       "    }\n",
       "\n",
       "    .dataframe tbody tr th {\n",
       "        vertical-align: top;\n",
       "    }\n",
       "\n",
       "    .dataframe thead th {\n",
       "        text-align: right;\n",
       "    }\n",
       "</style>\n",
       "<table border=\"1\" class=\"dataframe\">\n",
       "  <thead>\n",
       "    <tr style=\"text-align: right;\">\n",
       "      <th>frame</th>\n",
       "      <th>gain</th>\n",
       "      <th>loss</th>\n",
       "    </tr>\n",
       "    <tr>\n",
       "      <th>option_selected</th>\n",
       "      <th></th>\n",
       "      <th></th>\n",
       "    </tr>\n",
       "  </thead>\n",
       "  <tbody>\n",
       "    <tr>\n",
       "      <th>Proposal A</th>\n",
       "      <td>0.774194</td>\n",
       "      <td>0.652174</td>\n",
       "    </tr>\n",
       "    <tr>\n",
       "      <th>Proposal B</th>\n",
       "      <td>0.225806</td>\n",
       "      <td>0.347826</td>\n",
       "    </tr>\n",
       "  </tbody>\n",
       "</table>\n",
       "</div>"
      ],
      "text/plain": [
       "frame                gain      loss\n",
       "option_selected                    \n",
       "Proposal A       0.774194  0.652174\n",
       "Proposal B       0.225806  0.347826"
      ]
     },
     "execution_count": 123,
     "metadata": {},
     "output_type": "execute_result"
    }
   ],
   "source": [
    "#look where Rating matches answer\n",
    "rating_appr = main_analysis[((main_analysis['option_selected']=='Proposal A') & (main_analysis['rating_num']<= 4 )) | ((main_analysis['option_selected']=='Proposal B') & (main_analysis['rating_num'] >= 4 ))]\n",
    "rating_cross = pd.crosstab(rating_appr['option_selected'], rating_appr['frame'], normalize='columns')\n",
    "print(\"Breakdown when Rating matches answer\")\n",
    "print(f\"\"\"Sample Size: {rating_appr.shape[0]}\"\"\")\n",
    "print(f\"\"\"Gain Sample Size: {rating_appr[rating_appr['frame'] == 'gain'].shape[0]}\"\"\")\n",
    "print(f\"\"\"Loss Sample Size: {rating_appr[rating_appr['frame'] == 'loss'].shape[0]}\"\"\")\n",
    "rating_cross"
   ]
  },
  {
   "cell_type": "markdown",
   "metadata": {},
   "source": [
    "##### Plotting & Initial Tests"
   ]
  },
  {
   "cell_type": "code",
   "execution_count": 170,
   "metadata": {},
   "outputs": [],
   "source": [
    "##set up graph formatting \n",
    "\n",
    "blues = sns.color_palette(palette='Blues_d')\n",
    "oranges = sns.color_palette(palette='Oranges_d')\n",
    "greens = sns.color_palette(palette='Greens_d')\n",
    "\n",
    "green = greens[2]\n",
    "orange = oranges[0]\n",
    "blue = blues[3]\n",
    "sns.set(style='white', font_scale=1.1)\n"
   ]
  },
  {
   "cell_type": "code",
   "execution_count": 171,
   "metadata": {},
   "outputs": [
    {
     "data": {
      "image/png": "[encoded data removed]",
      "text/plain": [
       "<Figure size 1200x300 with 3 Axes>"
      ]
     },
     "metadata": {},
     "output_type": "display_data"
    }
   ],
   "source": [
    "fig, axes = plt.subplots(1, 3, figsize=(12, 3), sharey=True)\n",
    "\n",
    "sns.histplot(data=main_analysis, x='rating_num', ax=axes[0], color= blue, edgecolor=\"w\")\n",
    "\n",
    "#sns.histplot(data=main_analysis, x='rating_num', ax=axes[0], color= 'C0', edgecolor=\"w\")\n",
    "axes[0].set_title('All')\n",
    "axes[0].set_xlabel('Rating')\n",
    "axes[0].set_xticks([1,3,5,7])\n",
    "\n",
    "sns.histplot(data=loss_condition, x='rating_num', ax=axes[1], color= orange,  edgecolor=\"w\")\n",
    "axes[1].set_title('Loss Condition')\n",
    "axes[1].set_xlabel('Rating')\n",
    "axes[1].set_xticks([1,3,5,7])\n",
    "\n",
    "sns.histplot(data=gain_condition, x='rating_num', ax=axes[2],  color= green, edgecolor=\"w\")\n",
    "axes[2].set_title('Gain Condition')\n",
    "axes[2].set_xlabel('Rating')\n",
    "axes[2].set_xticks([1,3,5,7])\n",
    "\n",
    "plt.show()\n"
   ]
  },
  {
   "cell_type": "code",
   "execution_count": null,
   "metadata": {},
   "outputs": [
    {
     "data": {
      "text/html": [
       "<div>\n",
       "<style scoped>\n",
       "    .dataframe tbody tr th:only-of-type {\n",
       "        vertical-align: middle;\n",
       "    }\n",
       "\n",
       "    .dataframe tbody tr th {\n",
       "        vertical-align: top;\n",
       "    }\n",
       "\n",
       "    .dataframe thead th {\n",
       "        text-align: right;\n",
       "    }\n",
       "</style>\n",
       "<table border=\"1\" class=\"dataframe\">\n",
       "  <thead>\n",
       "    <tr style=\"text-align: right;\">\n",
       "      <th></th>\n",
       "      <th>user</th>\n",
       "      <th>email</th>\n",
       "      <th>company_name</th>\n",
       "      <th>coach_id</th>\n",
       "      <th>event_id</th>\n",
       "      <th>created_at</th>\n",
       "      <th>start_at</th>\n",
       "      <th>event_name</th>\n",
       "      <th>has_client_attended</th>\n",
       "    </tr>\n",
       "  </thead>\n",
       "  <tbody>\n",
       "    <tr>\n",
       "      <th>154</th>\n",
       "      <td>648785ae1683da001bcc3eb7</td>\n",
       "      <td>NaN</td>\n",
       "      <td>NaN</td>\n",
       "      <td>61dddc7fb8262776342194a0</td>\n",
       "      <td>4fxw58njwi590m6fenkkxlqsc</td>\n",
       "      <td>2023-06-12 21:02:59.598</td>\n",
       "      <td>2023-07-05 14:15:00</td>\n",
       "      <td>Coach Session</td>\n",
       "      <td>False</td>\n",
       "    </tr>\n",
       "    <tr>\n",
       "      <th>155</th>\n",
       "      <td>648785ae1683da001bcc3eb7</td>\n",
       "      <td>NaN</td>\n",
       "      <td>NaN</td>\n",
       "      <td>61dddc7fb8262776342194a0</td>\n",
       "      <td>8wk7t8kfc4o50wb77prbaghcs</td>\n",
       "      <td>2023-06-12 21:08:46.812</td>\n",
       "      <td>2023-07-19 14:15:00</td>\n",
       "      <td>Coach Session</td>\n",
       "      <td>N/A</td>\n",
       "    </tr>\n",
       "    <tr>\n",
       "      <th>156</th>\n",
       "      <td>648785ae1683da001bcc3eb7</td>\n",
       "      <td>NaN</td>\n",
       "      <td>NaN</td>\n",
       "      <td>61dddc7fb8262776342194a0</td>\n",
       "      <td>jzydb5avvybhxk0ndgimdici</td>\n",
       "      <td>2023-06-12 21:33:53.765</td>\n",
       "      <td>2023-07-12 14:30:00</td>\n",
       "      <td>Coach Session</td>\n",
       "      <td>N/A</td>\n",
       "    </tr>\n",
       "    <tr>\n",
       "      <th>157</th>\n",
       "      <td>648785ae1683da001bcc3eb7</td>\n",
       "      <td>NaN</td>\n",
       "      <td>NaN</td>\n",
       "      <td>61dddc7fb8262776342194a0</td>\n",
       "      <td>f3o9edu1nu7ikx1qf2ifhao5s</td>\n",
       "      <td>2023-06-12 21:43:11.684</td>\n",
       "      <td>2023-07-18 18:30:00</td>\n",
       "      <td>Coach Session</td>\n",
       "      <td>N/A</td>\n",
       "    </tr>\n",
       "    <tr>\n",
       "      <th>160</th>\n",
       "      <td>648785ae1683da001bcc3eb7</td>\n",
       "      <td>NaN</td>\n",
       "      <td>NaN</td>\n",
       "      <td>627485f47c4460910d51a3b4</td>\n",
       "      <td>1f49bdt8fhjcuq8pd0bilu3fu</td>\n",
       "      <td>2023-06-14 00:26:24.854</td>\n",
       "      <td>2023-07-12 17:30:00</td>\n",
       "      <td>Coach Session</td>\n",
       "      <td>True</td>\n",
       "    </tr>\n",
       "    <tr>\n",
       "      <th>161</th>\n",
       "      <td>648785ae1683da001bcc3eb7</td>\n",
       "      <td>NaN</td>\n",
       "      <td>NaN</td>\n",
       "      <td>627485f47c4460910d51a3b4</td>\n",
       "      <td>78hp3s4n5elkyzqglsbngd9v9</td>\n",
       "      <td>2023-06-14 00:29:27.732</td>\n",
       "      <td>2023-07-26 18:30:00</td>\n",
       "      <td>Coach Session</td>\n",
       "      <td>True</td>\n",
       "    </tr>\n",
       "  </tbody>\n",
       "</table>\n",
       "</div>"
      ],
      "text/plain": [
       "                         user email company_name                  coach_id  \\\n",
       "154  648785ae1683da001bcc3eb7   NaN          NaN  61dddc7fb8262776342194a0   \n",
       "155  648785ae1683da001bcc3eb7   NaN          NaN  61dddc7fb8262776342194a0   \n",
       "156  648785ae1683da001bcc3eb7   NaN          NaN  61dddc7fb8262776342194a0   \n",
       "157  648785ae1683da001bcc3eb7   NaN          NaN  61dddc7fb8262776342194a0   \n",
       "160  648785ae1683da001bcc3eb7   NaN          NaN  627485f47c4460910d51a3b4   \n",
       "161  648785ae1683da001bcc3eb7   NaN          NaN  627485f47c4460910d51a3b4   \n",
       "\n",
       "                      event_id              created_at            start_at  \\\n",
       "154  4fxw58njwi590m6fenkkxlqsc 2023-06-12 21:02:59.598 2023-07-05 14:15:00   \n",
       "155  8wk7t8kfc4o50wb77prbaghcs 2023-06-12 21:08:46.812 2023-07-19 14:15:00   \n",
       "156   jzydb5avvybhxk0ndgimdici 2023-06-12 21:33:53.765 2023-07-12 14:30:00   \n",
       "157  f3o9edu1nu7ikx1qf2ifhao5s 2023-06-12 21:43:11.684 2023-07-18 18:30:00   \n",
       "160  1f49bdt8fhjcuq8pd0bilu3fu 2023-06-14 00:26:24.854 2023-07-12 17:30:00   \n",
       "161  78hp3s4n5elkyzqglsbngd9v9 2023-06-14 00:29:27.732 2023-07-26 18:30:00   \n",
       "\n",
       "        event_name has_client_attended  \n",
       "154  Coach Session               False  \n",
       "155  Coach Session                 N/A  \n",
       "156  Coach Session                 N/A  \n",
       "157  Coach Session                 N/A  \n",
       "160  Coach Session                True  \n",
       "161  Coach Session                True  "
      ]
     },
     "metadata": {},
     "output_type": "display_data"
    }
   ],
   "source": []
  },
  {
   "cell_type": "code",
   "execution_count": 168,
   "metadata": {},
   "outputs": [
    {
     "data": {
      "image/png": "[encoded data removed]",
      "text/plain": [
       "<Figure size 500x300 with 1 Axes>"
      ]
     },
     "metadata": {},
     "output_type": "display_data"
    }
   ],
   "source": [
    "##Plot graph for average rating by condition \n",
    "values = np.array([main_analysis.rating_num.mean(), loss_condition.rating_num.mean(), gain_condition.rating_num.mean(), ])\n",
    "plt.figure(figsize=(5,3))\n",
    "plt.bar(np.arange(3), values,  color=[ blue, orange, green ], alpha=0.7, capsize=1, ecolor='dimgrey')\n",
    "sns.despine()\n",
    "plt.ylabel('Average Preference Rating')\n",
    "plt.xticks(np.arange(3), [ 'All', 'Loss', 'Gain', ], rotation='horizontal')\n",
    "plt.tight_layout()\n",
    "#plt.show()"
   ]
  },
  {
   "cell_type": "code",
   "execution_count": null,
   "metadata": {},
   "outputs": [],
   "source": []
  },
  {
   "cell_type": "code",
   "execution_count": 155,
   "metadata": {},
   "outputs": [
    {
     "data": {
      "text/plain": [
       "(0.20898116109188775, 0.3886043829296425, 0.5173343585800333)"
      ]
     },
     "execution_count": 155,
     "metadata": {},
     "output_type": "execute_result"
    }
   ],
   "source": [
    "\n"
   ]
  },
  {
   "cell_type": "code",
   "execution_count": 169,
   "metadata": {},
   "outputs": [
    {
     "data": {
      "image/png": "[encoded data removed]",
      "text/plain": [
       "<Figure size 500x400 with 1 Axes>"
      ]
     },
     "metadata": {},
     "output_type": "display_data"
    }
   ],
   "source": [
    "fig = plt.figure(figsize=(5,4))\n",
    "ax = sns.boxplot(x='frame', y='rating_num', data=main_analysis, color = blue)\n",
    "plt.title('Risky Choice Framing')\n",
    "plt.xlabel('Frame')\n",
    "plt.ylabel('Rating')\n",
    "plt.show()"
   ]
  },
  {
   "cell_type": "code",
   "execution_count": 1001,
   "metadata": {},
   "outputs": [
    {
     "name": "stdout",
     "output_type": "stream",
     "text": [
      "\n",
      "Average rating by condition & option:\n",
      "frame                gain      loss\n",
      "option_selected                    \n",
      "Proposal A       2.638889  2.913043\n",
      "Proposal B       5.157895  5.466667\n",
      "\n",
      "Average rating by condition:\n",
      "frame\n",
      "gain    3.152174\n",
      "loss    3.686869\n",
      "Name: rating_num, dtype: float64\n"
     ]
    }
   ],
   "source": [
    "print(\"\\nAverage rating by condition & option:\")\n",
    "print(pd.crosstab( index = main_analysis['option_selected'], columns = main_analysis['frame'], values = main_analysis['rating_num'], aggfunc='mean'))\n",
    "\n",
    "print(\"\\nAverage rating by condition:\")\n",
    "print(main_analysis.groupby('frame').rating_num.mean())"
   ]
  },
  {
   "cell_type": "code",
   "execution_count": 1010,
   "metadata": {},
   "outputs": [
    {
     "name": "stdout",
     "output_type": "stream",
     "text": [
      "\n",
      "Average rating by condition & option:\n",
      "frame                gain      loss\n",
      "option_selected                    \n",
      "Proposal A       2.388060  2.403509\n",
      "Proposal B       5.529412  5.551724\n",
      "\n",
      "Average rating by condition:\n",
      "frame\n",
      "gain    3.023810\n",
      "loss    3.465116\n",
      "Name: rating_num, dtype: float64\n"
     ]
    }
   ],
   "source": [
    "### look where rating matches to answer choice \n",
    "print(\"\\nAverage rating by condition & option:\")\n",
    "print(pd.crosstab( index = rating_appr['option_selected'], columns = rating_appr['frame'], values = rating_appr['rating_num'], aggfunc='mean'))\n",
    "\n",
    "print(\"\\nAverage rating by condition:\")\n",
    "print(rating_appr.groupby('frame').rating_num.mean())"
   ]
  },
  {
   "cell_type": "code",
   "execution_count": 995,
   "metadata": {},
   "outputs": [
    {
     "name": "stdout",
     "output_type": "stream",
     "text": [
      "T-statistic: -2.1942637779209337\n",
      "P-value: 0.029435654951902902\n"
     ]
    }
   ],
   "source": [
    "#ttest for experiment \n",
    "\n",
    "gain = main_analysis['rating_num'][main_analysis['frame'] == 'gain']\n",
    "loss = main_analysis['rating_num'][main_analysis['frame'] == 'loss']\n",
    "\n",
    "t_stat, p_value = stats.ttest_ind(gain, loss)\n",
    "\n",
    "# results\n",
    "print(\"T-statistic:\", t_stat)\n",
    "print(\"P-value:\", p_value)"
   ]
  },
  {
   "cell_type": "markdown",
   "metadata": {},
   "source": []
  },
  {
   "cell_type": "code",
   "execution_count": 36,
   "metadata": {},
   "outputs": [],
   "source": [
    "#function for signficance \n",
    "def sig_effect(pvalue):\n",
    "    if pvalue <= .01:\n",
    "        return f\"\"\"significant at 1% level\"\"\"\n",
    "    elif pvalue <= .05:\n",
    "        return f\"\"\"significant at 5% level\"\"\"\n",
    "    elif pvalue <= .1:\n",
    "        return f\"\"\"significant at 10% level\"\"\"\n",
    "    else:\n",
    "        return \"not significant\"\n"
   ]
  },
  {
   "cell_type": "code",
   "execution_count": 34,
   "metadata": {},
   "outputs": [
    {
     "data": {
      "text/plain": [
       "-0.4882260596546315"
      ]
     },
     "execution_count": 34,
     "metadata": {},
     "output_type": "execute_result"
    }
   ],
   "source": [
    "# Calculate Cohen's d as a measure of effect size\n",
    "mean_difference = gain_condition['rating_num'].mean() - loss_condition['rating_num'].mean()\n",
    "#pooled_std = ((gain_condition['rating_num'].std() ** 2 + loss_condition.std() ** 2) / 2) ** 0.5\n",
    "#cohen_d = mean_difference / pooled_std\n",
    "#cohen_d\n",
    "mean_difference"
   ]
  },
  {
   "cell_type": "markdown",
   "metadata": {},
   "source": [
    "#### Regression & Results"
   ]
  },
  {
   "cell_type": "code",
   "execution_count": 67,
   "metadata": {},
   "outputs": [
    {
     "name": "stdout",
     "output_type": "stream",
     "text": [
      "frame coeff: 0.45571428571428413\n",
      "frame p-vale: 0.05388945375619913\n",
      "\n",
      "signficicant effect? -->  significant at 10% level\n",
      "\n",
      "\n",
      "\n",
      "                             OLS Regression Results                            \n",
      "==============================================================================\n",
      "Dep. Variable:             rating_num   R-squared:                       0.018\n",
      "Model:                            OLS   Adj. R-squared:                  0.013\n",
      "Method:                 Least Squares   F-statistic:                     3.760\n",
      "Date:                Fri, 28 Jul 2023   Prob (F-statistic):             0.0539\n",
      "Time:                        19:35:39   Log-Likelihood:                -396.48\n",
      "No. Observations:                 205   AIC:                             797.0\n",
      "Df Residuals:                     203   BIC:                             803.6\n",
      "Df Model:                           1                                         \n",
      "Covariance Type:            nonrobust                                         \n",
      "=================================================================================\n",
      "                    coef    std err          t      P>|t|      [0.025      0.975]\n",
      "---------------------------------------------------------------------------------\n",
      "Intercept         3.2300      0.168     19.203      0.000       2.898       3.562\n",
      "frame[T.loss]     0.4557      0.235      1.939      0.054      -0.008       0.919\n",
      "==============================================================================\n",
      "Omnibus:                       22.138   Durbin-Watson:                   2.062\n",
      "Prob(Omnibus):                  0.000   Jarque-Bera (JB):               12.266\n",
      "Skew:                           0.436   Prob(JB):                      0.00217\n",
      "Kurtosis:                       2.177   Cond. No.                         2.65\n",
      "==============================================================================\n",
      "\n",
      "Notes:\n",
      "[1] Standard Errors assume that the covariance matrix of the errors is correctly specified.\n"
     ]
    }
   ],
   "source": [
    "#simple linear regression \n",
    "lin_reg = sm.OLS.from_formula('rating_num ~ frame', data = main_analysis).fit()\n",
    "print(\"frame coeff:\", lin_reg.params[1])\n",
    "print(\"frame p-vale:\", lin_reg.pvalues[1])\n",
    "print(\"\\nsignficicant effect? --> \", sig_effect(lin_reg.pvalues[1]))\n",
    "\n",
    "print(\"\\n\\n\\n\",lin_reg.summary())\n"
   ]
  },
  {
   "cell_type": "code",
   "execution_count": 68,
   "metadata": {},
   "outputs": [
    {
     "name": "stdout",
     "output_type": "stream",
     "text": [
      "frame coeff: 0.4247519931333909\n",
      "frame p-vale: 0.07010090505456965\n",
      "\n",
      "signficicant effect? significant at 10% level\n",
      "\n",
      "\n",
      "\n",
      "                             OLS Regression Results                            \n",
      "==============================================================================\n",
      "Dep. Variable:             rating_num   R-squared:                       0.048\n",
      "Model:                            OLS   Adj. R-squared:                  0.033\n",
      "Method:                 Least Squares   F-statistic:                     3.350\n",
      "Date:                Fri, 28 Jul 2023   Prob (F-statistic):             0.0201\n",
      "Time:                        19:35:45   Log-Likelihood:                -393.36\n",
      "No. Observations:                 205   AIC:                             794.7\n",
      "Df Residuals:                     201   BIC:                             808.0\n",
      "Df Model:                           3                                         \n",
      "Covariance Type:            nonrobust                                         \n",
      "============================================================================================\n",
      "                               coef    std err          t      P>|t|      [0.025      0.975]\n",
      "--------------------------------------------------------------------------------------------\n",
      "Intercept                    3.5674      0.232     15.378      0.000       3.110       4.025\n",
      "frame[T.loss]                0.4248      0.233      1.821      0.070      -0.035       0.885\n",
      "scenario_clean[T.forest]    -0.7042      0.284     -2.481      0.014      -1.264      -0.144\n",
      "scenario_clean[T.humans]    -0.2796      0.284     -0.986      0.326      -0.839       0.280\n",
      "==============================================================================\n",
      "Omnibus:                       24.303   Durbin-Watson:                   2.033\n",
      "Prob(Omnibus):                  0.000   Jarque-Bera (JB):               12.302\n",
      "Skew:                           0.420   Prob(JB):                      0.00213\n",
      "Kurtosis:                       2.144   Cond. No.                         4.19\n",
      "==============================================================================\n",
      "\n",
      "Notes:\n",
      "[1] Standard Errors assume that the covariance matrix of the errors is correctly specified.\n"
     ]
    }
   ],
   "source": [
    "#with scenario \n",
    "reg_scn = sm.OLS.from_formula('rating_num ~ frame + scenario_clean', data = main_analysis).fit()\n",
    "##reg_dem = sm.OLS.from_formula('rating_num ~ frame + age_num + gender_num + ethnicity_num + education_num', data = main_analysis).fit()\n",
    "print(\"frame coeff:\", reg_scn.params[1])\n",
    "print(\"frame p-vale:\", reg_scn.pvalues[1])\n",
    "print(\"\\nsignficicant effect?\", sig_effect(reg_scn.pvalues[1]))\n",
    "print(\"\\n\\n\\n\",reg_scn.summary())\n"
   ]
  },
  {
   "cell_type": "code",
   "execution_count": 69,
   "metadata": {},
   "outputs": [
    {
     "name": "stdout",
     "output_type": "stream",
     "text": [
      "frame coeff: 0.4596852721415059\n",
      "frame p-vale: 0.052975566785604\n",
      "\n",
      "signficicant effect? significant at 10% level\n",
      "\n",
      "\n",
      "\n",
      "                             OLS Regression Results                            \n",
      "==============================================================================\n",
      "Dep. Variable:             rating_num   R-squared:                       0.062\n",
      "Model:                            OLS   Adj. R-squared:                  0.029\n",
      "Method:                 Least Squares   F-statistic:                     1.869\n",
      "Date:                Fri, 28 Jul 2023   Prob (F-statistic):             0.0765\n",
      "Time:                        19:35:52   Log-Likelihood:                -391.77\n",
      "No. Observations:                 205   AIC:                             799.5\n",
      "Df Residuals:                     197   BIC:                             826.1\n",
      "Df Model:                           7                                         \n",
      "Covariance Type:            nonrobust                                         \n",
      "============================================================================================\n",
      "                               coef    std err          t      P>|t|      [0.025      0.975]\n",
      "--------------------------------------------------------------------------------------------\n",
      "Intercept                    3.7239      0.421      8.844      0.000       2.894       4.554\n",
      "frame[T.loss]                0.4597      0.236      1.947      0.053      -0.006       0.925\n",
      "scenario_clean[T.forest]    -0.6953      0.287     -2.423      0.016      -1.261      -0.129\n",
      "scenario_clean[T.humans]    -0.3327      0.286     -1.162      0.246      -0.897       0.232\n",
      "age_num                     -0.1065      0.144     -0.738      0.461      -0.391       0.178\n",
      "gender_num                   0.2341      0.212      1.102      0.272      -0.185       0.653\n",
      "ethnicity_num               -0.0835      0.073     -1.139      0.256      -0.228       0.061\n",
      "education_num                0.0436      0.106      0.412      0.681      -0.165       0.252\n",
      "==============================================================================\n",
      "Omnibus:                       19.349   Durbin-Watson:                   2.002\n",
      "Prob(Omnibus):                  0.000   Jarque-Bera (JB):               11.539\n",
      "Skew:                           0.430   Prob(JB):                      0.00312\n",
      "Kurtosis:                       2.217   Cond. No.                         16.2\n",
      "==============================================================================\n",
      "\n",
      "Notes:\n",
      "[1] Standard Errors assume that the covariance matrix of the errors is correctly specified.\n"
     ]
    }
   ],
   "source": [
    "#with basic demographic controls \n",
    "reg_dem = sm.OLS.from_formula('rating_num ~ frame + scenario_clean + age_num + gender_num + ethnicity_num + education_num', data = main_analysis).fit()\n",
    "print(\"frame coeff:\", reg_dem.params[1])\n",
    "print(\"frame p-vale:\", reg_dem.pvalues[1])\n",
    "print(\"\\nsignficicant effect?\", sig_effect(reg_dem.pvalues[1]))\n",
    "print(\"\\n\\n\\n\",reg_dem.summary())\n"
   ]
  },
  {
   "cell_type": "code",
   "execution_count": 70,
   "metadata": {},
   "outputs": [
    {
     "name": "stdout",
     "output_type": "stream",
     "text": [
      "frame coeff: 0.43291010602072477\n",
      "frame p-vale: 0.06952650822454016\n",
      "\n",
      "signficicant effect? significant at 10% level\n",
      "\n",
      "\n",
      "                             OLS Regression Results                            \n",
      "==============================================================================\n",
      "Dep. Variable:             rating_num   R-squared:                       0.071\n",
      "Model:                            OLS   Adj. R-squared:                  0.028\n",
      "Method:                 Least Squares   F-statistic:                     1.646\n",
      "Date:                Fri, 28 Jul 2023   Prob (F-statistic):              0.105\n",
      "Time:                        19:35:56   Log-Likelihood:                -390.85\n",
      "No. Observations:                 205   AIC:                             801.7\n",
      "Df Residuals:                     195   BIC:                             834.9\n",
      "Df Model:                           9                                         \n",
      "Covariance Type:            nonrobust                                         \n",
      "============================================================================================\n",
      "                               coef    std err          t      P>|t|      [0.025      0.975]\n",
      "--------------------------------------------------------------------------------------------\n",
      "Intercept                    3.5032      0.502      6.985      0.000       2.514       4.492\n",
      "frame[T.loss]                0.4329      0.237      1.825      0.070      -0.035       0.901\n",
      "scenario_clean[T.forest]    -0.7160      0.290     -2.472      0.014      -1.287      -0.145\n",
      "scenario_clean[T.humans]    -0.3016      0.287     -1.049      0.295      -0.868       0.265\n",
      "age_num                     -0.0418      0.154     -0.271      0.786      -0.346       0.262\n",
      "gender_num                   0.2427      0.213      1.140      0.256      -0.177       0.662\n",
      "ethnicity_num               -0.0717      0.074     -0.963      0.337      -0.219       0.075\n",
      "education_num                0.0166      0.110      0.150      0.881      -0.201       0.234\n",
      "contintent_num               0.0023      0.079      0.029      0.977      -0.153       0.158\n",
      "student_num                  0.3310      0.251      1.320      0.188      -0.163       0.825\n",
      "==============================================================================\n",
      "Omnibus:                       19.843   Durbin-Watson:                   1.986\n",
      "Prob(Omnibus):                  0.000   Jarque-Bera (JB):               11.943\n",
      "Skew:                           0.442   Prob(JB):                      0.00255\n",
      "Kurtosis:                       2.215   Cond. No.                         21.7\n",
      "==============================================================================\n",
      "\n",
      "Notes:\n",
      "[1] Standard Errors assume that the covariance matrix of the errors is correctly specified.\n"
     ]
    }
   ],
   "source": [
    "#with addl. demographic controls \n",
    "reg_dema = sm.OLS.from_formula('rating_num ~ frame + scenario_clean + age_num + gender_num + ethnicity_num + education_num + contintent_num + student_num', data = main_analysis).fit()\n",
    "print(\"frame coeff:\", reg_dema.params[1])\n",
    "print(\"frame p-vale:\", reg_dema.pvalues[1])\n",
    "print(\"\\nsignficicant effect?\", sig_effect(reg_dema.pvalues[1]))\n",
    "print(\"\\n\\n\",reg_dema.summary())"
   ]
  },
  {
   "cell_type": "code",
   "execution_count": 71,
   "metadata": {},
   "outputs": [
    {
     "name": "stdout",
     "output_type": "stream",
     "text": [
      "frame coeff: 0.40194040958632354\n",
      "frame p-vale: 0.09189837723164725\n",
      "\n",
      "signficicant effect? significant at 10% level\n",
      "\n",
      "\n",
      "                             OLS Regression Results                            \n",
      "==============================================================================\n",
      "Dep. Variable:             rating_num   R-squared:                       0.082\n",
      "Model:                            OLS   Adj. R-squared:                  0.034\n",
      "Method:                 Least Squares   F-statistic:                     1.722\n",
      "Date:                Fri, 28 Jul 2023   Prob (F-statistic):             0.0781\n",
      "Time:                        19:36:00   Log-Likelihood:                -389.64\n",
      "No. Observations:                 205   AIC:                             801.3\n",
      "Df Residuals:                     194   BIC:                             837.8\n",
      "Df Model:                          10                                         \n",
      "Covariance Type:            nonrobust                                         \n",
      "============================================================================================\n",
      "                               coef    std err          t      P>|t|      [0.025      0.975]\n",
      "--------------------------------------------------------------------------------------------\n",
      "Intercept                    3.2141      0.535      6.009      0.000       2.159       4.269\n",
      "frame[T.loss]                0.4019      0.237      1.694      0.092      -0.066       0.870\n",
      "scenario_clean[T.forest]    -0.7203      0.289     -2.496      0.013      -1.289      -0.151\n",
      "scenario_clean[T.humans]    -0.3515      0.288     -1.219      0.224      -0.920       0.217\n",
      "age_num                     -0.0398      0.154     -0.259      0.796      -0.343       0.263\n",
      "gender_num                   0.2468      0.212      1.163      0.246      -0.172       0.665\n",
      "ethnicity_num               -0.0769      0.074     -1.035      0.302      -0.223       0.070\n",
      "education_num                0.0328      0.110      0.297      0.767      -0.185       0.251\n",
      "contintent_num               0.0016      0.079      0.020      0.984      -0.154       0.157\n",
      "student_num                  0.2940      0.251      1.171      0.243      -0.201       0.789\n",
      "ADP_num                      0.2368      0.156      1.519      0.130      -0.071       0.544\n",
      "==============================================================================\n",
      "Omnibus:                       20.995   Durbin-Watson:                   1.971\n",
      "Prob(Omnibus):                  0.000   Jarque-Bera (JB):               12.025\n",
      "Skew:                           0.435   Prob(JB):                      0.00245\n",
      "Kurtosis:                       2.194   Cond. No.                         23.7\n",
      "==============================================================================\n",
      "\n",
      "Notes:\n",
      "[1] Standard Errors assume that the covariance matrix of the errors is correctly specified.\n"
     ]
    }
   ],
   "source": [
    "#with ADP num \n",
    "reg_ADP = sm.OLS.from_formula('rating_num ~ frame + scenario_clean + age_num + gender_num + ethnicity_num + education_num + contintent_num + student_num + ADP_num', data = main_analysis).fit()\n",
    "print(\"frame coeff:\", reg_ADP.params[1])\n",
    "print(\"frame p-vale:\", reg_ADP.pvalues[1])\n",
    "print(\"\\nsignficicant effect?\", sig_effect(reg_ADP.pvalues[1]))\n",
    "print(\"\\n\\n\",reg_ADP.summary())\n"
   ]
  },
  {
   "cell_type": "code",
   "execution_count": 42,
   "metadata": {},
   "outputs": [
    {
     "name": "stdout",
     "output_type": "stream",
     "text": [
      "frame coeff: 0.006494962491980792\n",
      "frame p-vale: 0.7514038600956625\n",
      "\n",
      "signficicant effect? not significant\n",
      "\n",
      "\n",
      "                             OLS Regression Results                            \n",
      "==============================================================================\n",
      "Dep. Variable:             rating_num   R-squared:                       0.034\n",
      "Model:                            OLS   Adj. R-squared:                  0.024\n",
      "Method:                 Least Squares   F-statistic:                     3.502\n",
      "Date:                Thu, 27 Jul 2023   Prob (F-statistic):             0.0320\n",
      "Time:                        17:08:54   Log-Likelihood:                -387.92\n",
      "No. Observations:                 202   AIC:                             781.8\n",
      "Df Residuals:                     199   BIC:                             791.8\n",
      "Df Model:                           2                                         \n",
      "Covariance Type:            nonrobust                                         \n",
      "=========================================================================================\n",
      "                            coef    std err          t      P>|t|      [0.025      0.975]\n",
      "-----------------------------------------------------------------------------------------\n",
      "Intercept                 3.0790      0.336      9.172      0.000       2.417       3.741\n",
      "frame[gain]:NEP_Score     0.0065      0.020      0.317      0.751      -0.034       0.047\n",
      "frame[loss]:NEP_Score     0.0382      0.020      1.883      0.061      -0.002       0.078\n",
      "==============================================================================\n",
      "Omnibus:                       18.542   Durbin-Watson:                   2.009\n",
      "Prob(Omnibus):                  0.000   Jarque-Bera (JB):               11.713\n",
      "Skew:                           0.449   Prob(JB):                      0.00286\n",
      "Kurtosis:                       2.235   Cond. No.                         36.3\n",
      "==============================================================================\n",
      "\n",
      "Notes:\n",
      "[1] Standard Errors assume that the covariance matrix of the errors is correctly specified.\n"
     ]
    }
   ],
   "source": [
    "#with nep scoring\n",
    "reg_NEP = sm.OLS.from_formula('rating_num ~ frame : NEP_Score', data = main_analysis).fit()\n",
    "print(\"frame coeff:\", reg_NEP.params[1])\n",
    "print(\"frame p-vale:\", reg_NEP.pvalues[1])\n",
    "print(\"\\nsignficicant effect?\", sig_effect(reg_NEP.pvalues[1]))\n",
    "print(\"\\n\\n\",reg_NEP.summary())"
   ]
  },
  {
   "cell_type": "code",
   "execution_count": 46,
   "metadata": {},
   "outputs": [
    {
     "name": "stdout",
     "output_type": "stream",
     "text": [
      "                            OLS Regression Results                            \n",
      "==============================================================================\n",
      "Dep. Variable:             rating_num   R-squared:                       0.077\n",
      "Model:                            OLS   Adj. R-squared:                  0.034\n",
      "Method:                 Least Squares   F-statistic:                     1.792\n",
      "Date:                Thu, 27 Jul 2023   Prob (F-statistic):             0.0720\n",
      "Time:                        17:10:01   Log-Likelihood:                -383.27\n",
      "No. Observations:                 202   AIC:                             786.5\n",
      "Df Residuals:                     192   BIC:                             819.6\n",
      "Df Model:                           9                                         \n",
      "Covariance Type:            nonrobust                                         \n",
      "============================================================================================\n",
      "                               coef    std err          t      P>|t|      [0.025      0.975]\n",
      "--------------------------------------------------------------------------------------------\n",
      "Intercept                    3.2988      0.595      5.546      0.000       2.126       4.472\n",
      "frame[T.loss]                0.1069      0.691      0.155      0.877      -1.256       1.470\n",
      "scenario_clean[T.forest]    -0.6003      0.291     -2.066      0.040      -1.173      -0.027\n",
      "scenario_clean[T.humans]    -0.2722      0.288     -0.945      0.346      -0.840       0.296\n",
      "NEP_Score                    0.0154      0.027      0.566      0.572      -0.038       0.069\n",
      "frame[T.loss]:NEP_Score      0.0232      0.040      0.588      0.557      -0.055       0.101\n",
      "age_num                     -0.1504      0.147     -1.024      0.307      -0.440       0.139\n",
      "gender_num                   0.3036      0.216      1.404      0.162      -0.123       0.730\n",
      "ethnicity_num               -0.0746      0.074     -1.011      0.313      -0.220       0.071\n",
      "education_num                0.0927      0.107      0.870      0.385      -0.118       0.303\n",
      "==============================================================================\n",
      "Omnibus:                       16.915   Durbin-Watson:                   1.953\n",
      "Prob(Omnibus):                  0.000   Jarque-Bera (JB):               11.647\n",
      "Skew:                           0.463   Prob(JB):                      0.00296\n",
      "Kurtosis:                       2.276   Cond. No.                         139.\n",
      "==============================================================================\n",
      "\n",
      "Notes:\n",
      "[1] Standard Errors assume that the covariance matrix of the errors is correctly specified.\n"
     ]
    }
   ],
   "source": [
    "reg_nep_interact = sm.OLS.from_formula( 'rating_num ~ frame + NEP_Score + frame: NEP_Score + scenario_clean  + age_num + gender_num + ethnicity_num + education_num', data=main_analysis).fit()\n",
    "print(reg_nep_interact.summary())"
   ]
  },
  {
   "cell_type": "code",
   "execution_count": 47,
   "metadata": {},
   "outputs": [
    {
     "ename": "NameError",
     "evalue": "name 'smf' is not defined",
     "output_type": "error",
     "traceback": [
      "\u001b[0;31m---------------------------------------------------------------------------\u001b[0m",
      "\u001b[0;31mNameError\u001b[0m                                 Traceback (most recent call last)",
      "Cell \u001b[0;32mIn[47], line 6\u001b[0m\n\u001b[1;32m      4\u001b[0m reg_dema \u001b[39m=\u001b[39m sm\u001b[39m.\u001b[39mOLS\u001b[39m.\u001b[39mfrom_formula(\u001b[39m'\u001b[39m\u001b[39mrating_num ~ frame + age_num + gender_num + ethnicity_num + education_num + contintent_num + student_num\u001b[39m\u001b[39m'\u001b[39m, data \u001b[39m=\u001b[39m main_analysis)\u001b[39m.\u001b[39mfit()\n\u001b[1;32m      5\u001b[0m reg_ADP \u001b[39m=\u001b[39m sm\u001b[39m.\u001b[39mOLS\u001b[39m.\u001b[39mfrom_formula(\u001b[39m'\u001b[39m\u001b[39mrating_num ~ frame + age_num + gender_num + ethnicity_num + education_num + contintent_num + student_num + ADP_num\u001b[39m\u001b[39m'\u001b[39m, data \u001b[39m=\u001b[39m main_analysis)\u001b[39m.\u001b[39mfit()\n\u001b[0;32m----> 6\u001b[0m reg_nep_interact \u001b[39m=\u001b[39m smf\u001b[39m.\u001b[39mols(formula \u001b[39m=\u001b[39m \u001b[39m'\u001b[39m\u001b[39mrating_num ~ frame + NEP_Score + frame: NEP_Score + age_num + gender_num + ethnicity_num + education_num\u001b[39m\u001b[39m'\u001b[39m, data\u001b[39m=\u001b[39mmain_analysis)\u001b[39m.\u001b[39mfit()\n\u001b[1;32m      8\u001b[0m models \u001b[39m=\u001b[39m [lin_reg, reg_dema, reg_ADP,  reg_nep_interact ]\n\u001b[1;32m     11\u001b[0m summary_table \u001b[39m=\u001b[39m summary_col(models, \n\u001b[1;32m     12\u001b[0m                             stars\u001b[39m=\u001b[39m\u001b[39mTrue\u001b[39;00m, \n\u001b[1;32m     13\u001b[0m                             float_format\u001b[39m=\u001b[39m\u001b[39m'\u001b[39m\u001b[39m%0.2f\u001b[39;00m\u001b[39m'\u001b[39m,\n\u001b[1;32m     14\u001b[0m                             model_names\u001b[39m=\u001b[39m[\u001b[39m'\u001b[39m\u001b[39mModel w/o Covariates\u001b[39m\u001b[39m'\u001b[39m, \u001b[39m'\u001b[39m\u001b[39mModel w/ Basic Demographics\u001b[39m\u001b[39m'\u001b[39m, \u001b[39m'\u001b[39m\u001b[39mModel w/ All Demographics\u001b[39m\u001b[39m'\u001b[39m,  \u001b[39m'\u001b[39m\u001b[39mModel w/ Interaction\u001b[39m\u001b[39m'\u001b[39m],\n\u001b[1;32m     15\u001b[0m                             info_dict\u001b[39m=\u001b[39m{\u001b[39m'\u001b[39m\u001b[39mN\u001b[39m\u001b[39m'\u001b[39m: \u001b[39mlambda\u001b[39;00m x: \u001b[39m\"\u001b[39m\u001b[39m{0:d}\u001b[39;00m\u001b[39m\"\u001b[39m\u001b[39m.\u001b[39mformat(\u001b[39mint\u001b[39m(x\u001b[39m.\u001b[39mnobs)),\n\u001b[1;32m     16\u001b[0m                                        \u001b[39m'\u001b[39m\u001b[39mR2\u001b[39m\u001b[39m'\u001b[39m: \u001b[39mlambda\u001b[39;00m x: \u001b[39m\"\u001b[39m\u001b[39m{:.2f}\u001b[39;00m\u001b[39m\"\u001b[39m\u001b[39m.\u001b[39mformat(x\u001b[39m.\u001b[39mrsquared)})\n",
      "\u001b[0;31mNameError\u001b[0m: name 'smf' is not defined"
     ]
    }
   ],
   "source": [
    "from statsmodels.iolib.summary2 import summary_col\n",
    "lin_reg = sm.OLS.from_formula('rating_num ~ frame', data = main_analysis).fit()\n",
    "\n",
    "reg_dema = sm.OLS.from_formula('rating_num ~ frame + age_num + gender_num + ethnicity_num + education_num + contintent_num + student_num', data = main_analysis).fit()\n",
    "reg_ADP = sm.OLS.from_formula('rating_num ~ frame + age_num + gender_num + ethnicity_num + education_num + contintent_num + student_num + ADP_num', data = main_analysis).fit()\n",
    "\n",
    "models = [lin_reg, reg_dema, reg_ADP,  reg_nep_interact ]\n",
    "\n",
    "\n",
    "summary_table = summary_col(models, \n",
    "                            stars=True, \n",
    "                            float_format='%0.2f',\n",
    "                            model_names=['Model w/o Covariates', 'Model w/ Basic Demographics', 'Model w/ All Demographics',  'Model w/ Interaction'],\n",
    "                            info_dict={'N': lambda x: \"{0:d}\".format(int(x.nobs)),\n",
    "                                       'R2': lambda x: \"{:.2f}\".format(x.rsquared)})\n",
    "\n",
    "print(summary_table)"
   ]
  }
 ],
 "metadata": {
  "kernelspec": {
   "display_name": "Python 3",
   "language": "python",
   "name": "python3"
  },
  "language_info": {
   "codemirror_mode": {
    "name": "ipython",
    "version": 3
   },
   "file_extension": ".py",
   "mimetype": "text/x-python",
   "name": "python",
   "nbconvert_exporter": "python",
   "pygments_lexer": "ipython3",
   "version": "3.9.6"
  },
  "orig_nbformat": 4
 },
 "nbformat": 4,
 "nbformat_minor": 2
}
