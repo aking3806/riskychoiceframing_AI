{
 "cells": [
  {
   "cell_type": "markdown",
   "metadata": {},
   "source": []
  },
  {
   "cell_type": "markdown",
   "metadata": {},
   "source": [
    "#### File Setup"
   ]
  },
  {
   "cell_type": "code",
   "execution_count": 134,
   "metadata": {},
   "outputs": [],
   "source": [
    "#pip install pycountry-convert --quiet\n",
    "#pip install seaborn  --quiet\n",
    "#pip install scipy --quiet\n",
    "#pip install researchpy --quiet\n",
    "#pip install statsmodels --quiet"
   ]
  },
  {
   "cell_type": "code",
   "execution_count": 395,
   "metadata": {},
   "outputs": [
    {
     "name": "stdout",
     "output_type": "stream",
     "text": [
      "\u001b[33mWARNING: You are using pip version 21.2.4; however, version 23.2 is available.\n",
      "You should consider upgrading via the '/Library/Developer/CommandLineTools/usr/bin/python3 -m pip install --upgrade pip' command.\u001b[0m\n",
      "Note: you may need to restart the kernel to use updated packages.\n"
     ]
    }
   ],
   "source": []
  },
  {
   "cell_type": "code",
   "execution_count": 490,
   "metadata": {},
   "outputs": [],
   "source": [
    "import pandas as pd \n",
    "import numpy as np\n",
    "import seaborn as sns\n",
    "import matplotlib.pyplot as plt \n",
    "import seaborn as sns \n",
    "from scipy import stats\n",
    "from scipy.stats import chi2_contingency, ttest_ind\n",
    "import statsmodels.api as sm"
   ]
  },
  {
   "cell_type": "code",
   "execution_count": 520,
   "metadata": {},
   "outputs": [
    {
     "name": "stdout",
     "output_type": "stream",
     "text": [
      "(141, 97)\n"
     ]
    }
   ],
   "source": [
    "csv_file = \"/Users/annaking/Documents/Github/riskychoiceframing_AI/Experiment 1/data/Dissertation - Risky Choice Framing_July 18, 2023_08.57.csv\"\n",
    "df = pd.read_csv(csv_file)\n",
    "print(df.shape)"
   ]
  },
  {
   "cell_type": "code",
   "execution_count": 493,
   "metadata": {},
   "outputs": [],
   "source": [
    "#df.columns"
   ]
  },
  {
   "cell_type": "code",
   "execution_count": 515,
   "metadata": {},
   "outputs": [
    {
     "name": "stdout",
     "output_type": "stream",
     "text": [
      "<class 'pandas.core.frame.DataFrame'>\n",
      "RangeIndex: 141 entries, 0 to 140\n",
      "Data columns (total 97 columns):\n",
      " #   Column                         Non-Null Count  Dtype  \n",
      "---  ------                         --------------  -----  \n",
      " 0   StartDate                      141 non-null    object \n",
      " 1   EndDate                        141 non-null    object \n",
      " 2   Status                         141 non-null    object \n",
      " 3   Progress                       141 non-null    int64  \n",
      " 4   Duration (in seconds)          141 non-null    int64  \n",
      " 5   Finished                       141 non-null    bool   \n",
      " 6   RecordedDate                   141 non-null    object \n",
      " 7   ResponseId                     141 non-null    object \n",
      " 8   DistributionChannel            141 non-null    object \n",
      " 9   UserLanguage                   141 non-null    object \n",
      " 10  Q_RecaptchaScore               133 non-null    float64\n",
      " 11  Q1. Metadata_Browser           141 non-null    object \n",
      " 12  Q1. Metadata_Version           141 non-null    object \n",
      " 13  Q1. Metadata_Operating System  141 non-null    object \n",
      " 14  Q1. Metadata_Resolution        141 non-null    object \n",
      " 15  Q2. Time_First Click           141 non-null    float64\n",
      " 16  Q2. Time_Last Click            141 non-null    float64\n",
      " 17  Q2. Time_Page Submit           141 non-null    float64\n",
      " 18  Q2. Time_Click Count           141 non-null    int64  \n",
      " 19  Q3. Consent                    141 non-null    object \n",
      " 20  Q10. GS1, Time_First Click     23 non-null     float64\n",
      " 21  Q10. GS1, Time_Last Click      23 non-null     float64\n",
      " 22  Q10. GS1, Time_Page Submit     23 non-null     float64\n",
      " 23  Q10. GS1, Time_Click Count     23 non-null     float64\n",
      " 24  Q12. GS1, Option               23 non-null     object \n",
      " 25  Q13. GS1, Rating               23 non-null     object \n",
      " 26  Q13. GS1, Rationale            14 non-null     object \n",
      " 27  Q10. GS2, Time_First Click     23 non-null     float64\n",
      " 28  Q10. GS2, Time_Last Click      23 non-null     float64\n",
      " 29  Q10. GS2, Time_Page Submit     23 non-null     float64\n",
      " 30  Q10. GS2, Time_Click Count     23 non-null     float64\n",
      " 31  Q12. GS2, Option               23 non-null     object \n",
      " 32  Q13. GS2, Rating               23 non-null     object \n",
      " 33  Q14. GS2, Rationale            23 non-null     object \n",
      " 34  Q10. GS3, Time_First Click     16 non-null     float64\n",
      " 35  Q10. GS3, Time_Last Click      16 non-null     float64\n",
      " 36  Q10. GS3, Time_Page Submit     16 non-null     float64\n",
      " 37  Q10. GS3, Time_Click Count     16 non-null     float64\n",
      " 38  Q12. GS3, Option.              16 non-null     object \n",
      " 39  Q13. GS3, Rating               16 non-null     object \n",
      " 40  Q14. GS3, Rationle             13 non-null     object \n",
      " 41  Q10. LS1, Time_First Click     23 non-null     float64\n",
      " 42  Q10. LS1, Time_Last Click      23 non-null     float64\n",
      " 43  Q10. LS1, Time_Page Submit     23 non-null     float64\n",
      " 44  Q10. LS1, Time_Click Count     23 non-null     float64\n",
      " 45  Q12. LS1, Option               23 non-null     object \n",
      " 46  Q13. LS1, Rating               23 non-null     object \n",
      " 47  Q14. LS1, Rationale            21 non-null     object \n",
      " 48  Q10. LS2, Time_First Click     21 non-null     float64\n",
      " 49  Q10. LS2, Time_Last Click      21 non-null     float64\n",
      " 50  Q10. LS2, Time_Page Submit     21 non-null     float64\n",
      " 51  Q10. LS2, Time_Click Count     21 non-null     float64\n",
      " 52  Q12. LS2, Option               21 non-null     object \n",
      " 53  Q13. LS2, Rating               21 non-null     object \n",
      " 54  Q14. LS2, Rationale            17 non-null     object \n",
      " 55  Q10. LS3, Time_First Click     23 non-null     float64\n",
      " 56  Q10. LS3, Time_Last Click      23 non-null     float64\n",
      " 57  Q10. LS3, Time_Page Submit     23 non-null     float64\n",
      " 58  Q10. LS3, Time_Click Count     23 non-null     float64\n",
      " 59  Q12. LS3, Option               23 non-null     object \n",
      " 60  Q13. LS3, Rating               23 non-null     object \n",
      " 61  Q14. LS3, Rationale            17 non-null     object \n",
      " 62  Q34_First Click                129 non-null    float64\n",
      " 63  Q34_Last Click                 129 non-null    float64\n",
      " 64  Q34_Page Submit                129 non-null    float64\n",
      " 65  Q34_Click Count                129 non-null    float64\n",
      " 66  Q. NEP_1                       128 non-null    object \n",
      " 67  Q. NEP_2                       128 non-null    object \n",
      " 68  Q. NEP_3                       128 non-null    object \n",
      " 69  Q. NEP_4                       128 non-null    object \n",
      " 70  Q. NEP_5                       128 non-null    object \n",
      " 71  Q. NEP_6                       128 non-null    object \n",
      " 72  Q. NEP_7                       128 non-null    object \n",
      " 73  Q. NEP_8                       128 non-null    object \n",
      " 74  Q4. Dem, Time1_First Click     129 non-null    float64\n",
      " 75  Q4. Dem, Time1_Last Click      129 non-null    float64\n",
      " 76  Q4. Dem, Time1_Page Submit     129 non-null    float64\n",
      " 77  Q4. Dem, Time1_Click Count     129 non-null    float64\n",
      " 78  Q5. Age                        129 non-null    object \n",
      " 79  Q6. Gender                     127 non-null    object \n",
      " 80  Q6. Gender_4_TEXT              1 non-null      object \n",
      " 81  Q8. Ethnicity                  127 non-null    object \n",
      " 82  Q8. Ethnicity_6_TEXT           0 non-null      float64\n",
      " 83  Q7. Dem, Time2_First Click     129 non-null    float64\n",
      " 84  Q7. Dem, Time2_Last Click      129 non-null    float64\n",
      " 85  Q7. Dem, Time2_Page Submit     129 non-null    float64\n",
      " 86  Q7. Dem, Time2_Click Count     129 non-null    float64\n",
      " 87  Q9. Education                  127 non-null    object \n",
      " 88  Q10. Country                   124 non-null    object \n",
      " 89  Q10. Student                   127 non-null    object \n",
      " 90  Q91                            124 non-null    object \n",
      " 91  Q62                            122 non-null    object \n",
      " 92  Q62_2_TEXT                     0 non-null      float64\n",
      " 93  Q63                            122 non-null    object \n",
      " 94  Q63_2_TEXT                     2 non-null      object \n",
      " 95  Q61                            64 non-null     object \n",
      " 96  Condition                      129 non-null    float64\n",
      "dtypes: bool(1), float64(43), int64(3), object(50)\n",
      "memory usage: 106.0+ KB\n"
     ]
    }
   ],
   "source": [
    "df.info()"
   ]
  },
  {
   "cell_type": "markdown",
   "metadata": {},
   "source": [
    "#### Basic Data Cleaning "
   ]
  },
  {
   "cell_type": "code",
   "execution_count": 521,
   "metadata": {},
   "outputs": [
    {
     "name": "stdout",
     "output_type": "stream",
     "text": [
      "(126, 98)\n"
     ]
    }
   ],
   "source": [
    "##### Data cleaning to change column types\n",
    "\n",
    "#drop anyone now sorted into condition \n",
    "df_clean = df.drop(df[df['Condition'].isna()].index)\n",
    "\n",
    "#change data type to int \n",
    "df_clean['Condition'] =  df_clean['Condition'].astype('int64')\n",
    "\n",
    "# create frame column gain or loss condition based on condition value \n",
    "df_clean['frame'] = df_clean['Condition'].apply(lambda x: 'gain' if x < 3 else 'loss')\n",
    "\n",
    "#filter only where progress = 100 \n",
    "df_clean = df_clean[df_clean['Progress']==100]\n",
    "print(df_clean.shape)"
   ]
  },
  {
   "cell_type": "code",
   "execution_count": 522,
   "metadata": {},
   "outputs": [
    {
     "data": {
      "text/plain": [
       "(123, 98)"
      ]
     },
     "execution_count": 522,
     "metadata": {},
     "output_type": "execute_result"
    }
   ],
   "source": [
    "## survey timing & outlier removal \n",
    "\n",
    "## visual completion times \n",
    "#sns.histplot( y='Duration (in seconds)', data =df_clean)\n",
    "#plt.show()\n",
    "\n",
    "#look at completion times \n",
    "df_clean['Duration (in seconds)'].describe()\n",
    "\n",
    "def remove_outliers(df, column_name):\n",
    "    # Calculate Z-scores for the column\n",
    "    z_scores = stats.zscore(df[column_name])\n",
    "    threshold = 3 #3 standard deviations \n",
    "    # Filter the dataframe to keep only the data within the threshold\n",
    "    df_clean = df[abs(z_scores) < threshold]\n",
    "\n",
    "    return df_clean\n",
    "\n",
    "#apply function to remove outliers \n",
    "column_name = 'Duration (in seconds)'\n",
    "df_clean = remove_outliers(df_clean, column_name) \n",
    "\n",
    "df_clean.shape"
   ]
  },
  {
   "cell_type": "code",
   "execution_count": null,
   "metadata": {},
   "outputs": [],
   "source": [
    "### check for NAs "
   ]
  },
  {
   "cell_type": "markdown",
   "metadata": {},
   "source": [
    "##### Mapping Columns & Cleaning"
   ]
  },
  {
   "cell_type": "code",
   "execution_count": 523,
   "metadata": {},
   "outputs": [],
   "source": [
    "#### Creating columns and grouping for various scenarios:\n",
    "# dictionary mapping\n",
    "scenario_dict = {\"GS1\":\"animals_gain\", \"GS2\":\"forest_gain\", \"GS3\":\"humans_gain\", \"LS1\":\"animals_loss\", \"LS2\":\"forest_loss\", \"LS3\":\"humans_loss\"  }\n",
    "\n",
    "#set columns based on scenario \n",
    "def scenario(row):\n",
    "    for col in selected_columns:\n",
    "        if pd.notnull(row[col]):\n",
    "            match = re.search(r'(GS\\d+|LS\\d+)', col)\n",
    "            if match:\n",
    "                return match.group()\n",
    "    return None\n",
    "# get scenario from dictionary \n",
    "def get_scenario(row):\n",
    "    value = row['scenario']\n",
    "    if value in scenario_dict:\n",
    "        return scenario_dict[value]\n",
    "    return None\n",
    "# match scenario to dict\n",
    "df_clean['scenario'] = df_clean[['Q12. GS1, Option','Q12. GS2, Option', 'Q12. GS3, Option.', 'Q12. LS1, Option', 'Q12. LS2, Option', 'Q12. LS3, Option']].apply(lambda row: scenario(row), axis=1)\n",
    "df_clean['scenario_mapped'] = df_clean.apply(lambda row: get_scenario(row), axis=1)"
   ]
  },
  {
   "cell_type": "code",
   "execution_count": 524,
   "metadata": {},
   "outputs": [],
   "source": [
    "import re\n",
    "##### Option Column Cleaning\n",
    "# select option columns \n",
    "df_clean['option_selected'] = df_clean[['Q12. GS1, Option','Q12. GS2, Option', 'Q12. GS3, Option.', 'Q12. LS1, Option', 'Q12. LS2, Option', 'Q12. LS3, Option']].fillna(method='ffill', axis=1).iloc[:, -1]\n",
    "option_columns = ['Q12. GS1, Option','Q12. GS2, Option', 'Q12. GS3, Option.', 'Q12. LS1, Option', 'Q12. LS2, Option', 'Q12. LS3, Option']\n",
    "\n",
    "#rating column clean & creation \n",
    "rating_columns = ['Q13. GS1, Rating','Q13. GS2, Rating', 'Q13. GS3, Rating', 'Q13. LS1, Rating', 'Q13. LS2, Rating', 'Q13. LS3, Rating']\n",
    "df_clean['rating'] = df_clean[rating_columns].fillna(method='ffill', axis=1).iloc[:, -1]\n",
    "df_clean['rating_num'] = df_clean['rating'].apply(lambda x: x.split(\":\")[0])\n",
    "df_clean['rating_num'] = df_clean['rating_num'].astype('int')\n",
    "\n",
    "#rationale column cleaning\n",
    "rationale_columns = ['Q13. GS1, Rationale','Q14. GS2, Rationale', 'Q14. GS3, Rationle', 'Q14. LS1, Rationale', 'Q14. LS2, Rationale', 'Q14. LS3, Rationale']\n",
    "df_clean['rationale'] = df_clean[rationale_columns].fillna(method='ffill', axis=1).iloc[:, -1]\n",
    "\n",
    "##### drop standalone choice, rationale, and rating columns\n",
    "colu = rationale_columns + option_columns + rating_columns\n",
    "df_clean = df_clean.drop(colu, axis= 'columns')"
   ]
  },
  {
   "cell_type": "code",
   "execution_count": 526,
   "metadata": {},
   "outputs": [],
   "source": [
    "### Cleaning and dropping time columns ###\n",
    "columns = list(df_clean.columns)\n",
    "\n",
    "###  First click columns\n",
    "time_click1 = [col for col in columns if 'first click' in col.lower()]\n",
    "#time first click for the scenario \n",
    "time_click1_scn = [string for string in time_click1 if string.startswith('Q10')]\n",
    "#make as 1 column \n",
    "df_clean['scn_t_first_click'] = df_clean[time_click1_scn].fillna(method='ffill', axis=1).iloc[:, -1]\n",
    "\n",
    "### Last click columns\n",
    "time_click2 = [col for col in columns if 'last click' in col.lower()]\n",
    "time_click2_scn = [string for string in time_click2 if string.startswith('Q10')]\n",
    "df_clean['scn_t_last_click'] = df_clean[time_click2_scn].fillna(method='ffill', axis=1).iloc[:, -1]\n",
    "\n",
    "### Time Submit Scenario columns\n",
    "time_submit = [col for col in columns if 'submit' in col.lower()]\n",
    "time_submit_scn = [string for string in time_submit if string.startswith('Q10')]\n",
    "df_clean['scn_t_submit'] = df_clean[time_submit_scn].fillna(method='ffill', axis=1).iloc[:, -1]\n",
    "\n",
    "#click_count1_scn = [string for string in click_count1 if 'dem' in string.lower()]\n",
    "\n",
    "## drop Q10 time columns \n",
    "columns_drop = time_click2_scn + time_click1_scn + time_submit_scn\n",
    "df_clean = df_clean.drop(columns_drop, axis = 'columns')\n",
    "\n",
    "##Click count cleaning \n",
    "columns = list(df_clean.columns)\n",
    "## Click Count for Scenario \n",
    "click_count1 = [col for col in columns if 'click count' in col.lower()]\n",
    "#filer only scenario click coun t\n",
    "click_count_scn = [string for string in click_count1 if string.startswith('Q10')]\n",
    "#make as 1 column for all scenarios \n",
    "df_clean['scn_click_count'] = df_clean[click_count_scn].fillna(method='ffill', axis=1).iloc[:, -1]\n",
    "\n",
    "## Click Count for Scenario \n",
    "click_count = [col for col in columns if 'click count' in col.lower()]\n",
    "click_count1_dem = [string for string in click_count if 'dem' in string.lower()]\n",
    "df_clean['dem_click_count'] = df_clean[click_count1_dem].fillna(method='ffill', axis=1).iloc[:, -1]\n",
    "\n",
    "# drop scenario and dem click count columns \n",
    "columns_drop = click_count_scn + click_count1_dem\n",
    "df_clean = df_clean.drop(columns_drop, axis = 'columns')\n",
    "\n",
    "### drop metadata or misc columns from analysis \n",
    "metadata_or_misc = ['Q1. Metadata_Browser','Q1. Metadata_Version', 'Q1. Metadata_Operating System','Q1. Metadata_Resolution', 'UserLanguage', 'DistributionChannel', 'Status']\n",
    "df_clean = df_clean.drop(metadata_or_misc, axis = 'columns')\n"
   ]
  },
  {
   "cell_type": "code",
   "execution_count": 527,
   "metadata": {},
   "outputs": [
    {
     "data": {
      "text/plain": [
       "(123, 58)"
      ]
     },
     "execution_count": 527,
     "metadata": {},
     "output_type": "execute_result"
    }
   ],
   "source": [
    "df_clean.shape"
   ]
  },
  {
   "cell_type": "markdown",
   "metadata": {},
   "source": [
    "### Demographics"
   ]
  },
  {
   "cell_type": "markdown",
   "metadata": {},
   "source": [
    "##### Cleaning "
   ]
  },
  {
   "cell_type": "code",
   "execution_count": 528,
   "metadata": {},
   "outputs": [],
   "source": [
    "#rename columns \n",
    "df_clean = df_clean.rename(columns={\n",
    "    'Q5. Age': 'age',\n",
    "    'Q6. Gender': 'gender',\n",
    "    'Q6. Gender_4_TEXT': 'gender_text',\n",
    "    'Q8. Ethnicity': 'ethnicity',\n",
    "    'Q8. Ethnicity_6_TEXT': 'ethnicity_text',\n",
    "    'Q9. Education': 'education',\n",
    "    'Q10. Country': 'country',\n",
    "    'Q10. Student': 'student',\n",
    "    'Q91': 'ADP_familiar'\n",
    "})"
   ]
  },
  {
   "cell_type": "code",
   "execution_count": 530,
   "metadata": {},
   "outputs": [],
   "source": [
    "###coutry name clean \n",
    "import pycountry_convert as pc\n",
    "\n",
    "#function to rename messy countries\n",
    "def rename_countries(country):\n",
    "    if pd.isnull(country):  # Check if the value is nan\n",
    "        return country\n",
    "    if country in ['United States of America', 'USA', 'US', 'us', 'usa', 'America', 'America   ', 'the United States', 'The United States',  'United States ', 'Amrican', 'United States', 'Florida', 'New York', 'MA', 'NZ', 'North Carolina', 'Newyork', 'denver']:\n",
    "        return 'USA'\n",
    "    elif country in ['United Kingdom', 'United Kingdom ', 'UK', 'England', 'England ', 'Cambridge', 'London', 'uuk', 'the Netherlands']:\n",
    "        return 'UK'\n",
    "    elif country in ['China', '中国', 'Chinese ', '美国','加州']:\n",
    "        return 'China'\n",
    "    elif country in [ 'New Zealand']:\n",
    "        return 'New Zealand'\n",
    "    elif country in ['Paris, France', 'France']:\n",
    "        return 'France'\n",
    "    elif country in ['Australia', 'Australia ']:\n",
    "        return 'Australia'\n",
    "    elif country in ['pakistan']:\n",
    "        return 'Pakistan'\n",
    "    else:\n",
    "        return country  # return the original name if no match is found\n",
    "\n",
    "#update country column \n",
    "df_clean['country'] = df_clean['country'].apply(rename_countries)\n",
    "#strip any remaining whitespaces\n",
    "df_clean['country'] = df_clean['country'].apply(lambda x: x.strip() if isinstance(x, str) else x) #checks if string, then removes spaces \n",
    "\n",
    "# Map each country to the continent\n",
    "def country_to_continent(country_name):\n",
    "    try:\n",
    "        if country_name == 'USA':\n",
    "            country_alpha2 = \"US\"\n",
    "        elif country_name == 'UK':\n",
    "            country_alpha2 = \"GB\"\n",
    "        else:\n",
    "            country_alpha2 = pc.country_name_to_country_alpha2(country_name)\n",
    "        country_continent_code = pc.country_alpha2_to_continent_code(country_alpha2)\n",
    "        country_continent_name = pc.convert_continent_code_to_continent_name(country_continent_code)\n",
    "        return country_continent_name\n",
    "    except:\n",
    "        return \"Unknown\"\n",
    "\n",
    "df_clean['continent'] = df_clean['country'].apply(country_to_continent)"
   ]
  },
  {
   "cell_type": "code",
   "execution_count": 531,
   "metadata": {},
   "outputs": [],
   "source": [
    "###### Cat Code Variables #########\n",
    "\n",
    "# ####Gender: clean gender column into numbers\n",
    "#0 if female, 1 if male, 2 if non-binary \n",
    "df_clean['gender_num'] = df_clean.gender.apply(lambda x: 0 if x == 'Female' else (1 if x == 'Male' else 2))\n",
    "df_clean.groupby(['gender','gender_num'])['ResponseId'].count()\n",
    "\n",
    "####Student: clean student column into numbers\n",
    "#0 if not a student, 1 if a student\n",
    "df_clean['student_num']= df_clean.student.astype('category').cat.codes\n",
    "df_clean.groupby(['student','student_num'])['ResponseId'].count()\n",
    "\n",
    "####Education: clean education column into numbers\n",
    "#education_num: 0 = Associates, 1 = Bachecholars, 2 = Completed High School, 3 = Grad School, 4 = Prefer Not to Say, 5 = Some high school \n",
    "df_clean['education_num']= df_clean.education.astype('category').cat.codes\n",
    "df_clean.groupby(['education','education_num'])['ResponseId'].count()\n",
    "\n",
    "#### Ethnicity: clean ethnicity column into numbers\n",
    "#ethnicity: 0 = African American, 1 = Black/African/Caribbean, 2 = Prefer not to say, 3 = White or Caucasian\n",
    "df_clean['ethnicity_num']= df_clean.ethnicity.astype('category').cat.codes\n",
    "df_clean.groupby(['ethnicity','ethnicity_num'])['ResponseId'].count()\n",
    "\n",
    "#### Continent: clean contintent column into numbers\n",
    "#continent: 0 = Asia, 1 = Europe, 2 = North America, 3 = Oceania, 4 = South America, 5 = Unknown \n",
    "df_clean['contintent_num']= df_clean.continent.astype('category').cat.codes\n",
    "df_clean.groupby(['continent','contintent_num'])['ResponseId'].count()\n",
    "\n",
    "#### ADP: lean ADP column into numbers\n",
    "#ADP: 0 = I'm not sure, 1 = No, 2 = Yes \n",
    "df_clean['ADP_num']= df_clean.ADP_familiar.astype('category').cat.codes\n",
    "df_clean.groupby(['ADP_familiar','ADP_num'])['ResponseId'].count()\n",
    "\n",
    "#### Age: clean age column into numbers\n",
    "#age: {'18 - 24 years old': 0, '25 - 34 years old': 1, '35 - 44 years old': 2, '45 - 54 years old': 3, '55 - 64 years old': 4}\n",
    "age_order = ['18 - 24 years old', '25 - 34 years old', '35 - 44 years old', '45 - 54 years old', '55 - 64 years old']\n",
    "age_mapping = {age: i for i, age in enumerate(age_order)}\n",
    "df_clean['age_num'] = df_clean['age'].map(age_mapping) #maps dict \n"
   ]
  },
  {
   "cell_type": "code",
   "execution_count": 537,
   "metadata": {},
   "outputs": [
    {
     "name": "stdout",
     "output_type": "stream",
     "text": [
      "student         2\n",
      "education       2\n",
      "gender          2\n",
      "ADP_familiar    5\n",
      "dtype: int64\n"
     ]
    }
   ],
   "source": [
    "## Check for NA values \n",
    "#print(df_clean[['age_num','age']].isna().value_counts())\n",
    "#print(df_clean['education'].isna().value_counts())\n",
    "#print('\\n\\n',df_clean['ADP_num'].isna().value_counts())\n",
    "#df_clean['ADP_familiar'].isna().count()\n",
    "\n",
    "# NA printing \n",
    "#print(f\"\"\"school NA: {df_clean['student'].isna().sum()}\"\"\")\n",
    "#print(f\"\"\"gender NA: {df_clean['gender'].isna().sum()}\"\"\")\n",
    "#print(f\"\"\"education NA: {df_clean['education'].isna().sum()}\"\"\")\n",
    "#print(f\"\"\"ADP NA: {df_clean['ADP_familiar'].isna().sum()}\"\"\")\n",
    "dem = ['student','education','gender','ADP_familiar']\n",
    "\n",
    "print(df_clean[dem].isna().sum())"
   ]
  },
  {
   "cell_type": "markdown",
   "metadata": {},
   "source": [
    "#### Demographic Insights "
   ]
  },
  {
   "cell_type": "markdown",
   "metadata": {},
   "source": [
    "Defintions\n",
    "- gender_num: 0 = female, 1 = male, 2 = other\n",
    "- student_num: 0 = not a studnet, 1 = a student, -1 = NA\n",
    "- education_num: 0 = Associates, 1 = Bachecholars, 2 = Completed High School, 3 = Grad School, 4 = Prefer Not to Say, 5 = Some high school \n",
    "- ethnicity: 0 = African American, 1 = Black/African/Caribbean, 2 = Prefer not to say, 3 = White or Caucasian\n",
    "- continent: 0 = Asia, 1 = Europe, 2 = North America, 3 = Oceania, 4 = South America, 5 = Unknown \n",
    "- ADP: 0 = I'm not sure, 1 = No, 2 = Yes \n",
    "- age: {'18 - 24 years old': 0, '25 - 34 years old': 1, '35 - 44 years old': 2, '45 - 54 years old': 3, '55 - 64 years old': 4}"
   ]
  },
  {
   "cell_type": "markdown",
   "metadata": {},
   "source": [
    "##### Participant Demographic Insights "
   ]
  },
  {
   "cell_type": "code",
   "execution_count": 507,
   "metadata": {},
   "outputs": [
    {
     "name": "stdout",
     "output_type": "stream",
     "text": [
      "ethnicity\n",
      "White or Caucasian         0.710744\n",
      "Asian                      0.157025\n",
      "Black/African/Caribbean    0.123967\n",
      "Prefer not to say          0.008264\n",
      "Name: proportion, dtype: float64\n"
     ]
    }
   ],
   "source": [
    "#Participant Demographic Insights \n",
    "demographics =   [ 'ResponseId','gender_num', 'gender', 'student_num', 'student','education_num', 'education','ethnicity_num','ethnicity', 'contintent_num', 'continent','age_num', 'age', 'ADP_num', 'ADP_familiar'] \n",
    "df_demographics = df_clean[demographics]\n",
    "\n",
    "#ethnicity\n",
    "print(df_demographics.ethnicity.value_counts(normalize=True))"
   ]
  },
  {
   "cell_type": "code",
   "execution_count": 508,
   "metadata": {},
   "outputs": [],
   "source": [
    "##Demographic Insights \n",
    "#df_clean.education.value_counts(normalize = True)\n",
    "#df_clean.groupby(['education_num','frame']).ResponseId.agg(['count', 'sum', 'mean','median'])\n",
    "#ed = df_clean.groupby(['education_num','frame']).ResponseId.count().reset_index()\n",
    "#pivoted = ed.pivot(index='education_num', columns='frame', values='ResponseId')\n",
    "#df_clean[['education_num','frame']].value_counts(normalize =True)\n",
    "\n",
    "#df_clean.groupby('continent').ResponseId.count()"
   ]
  },
  {
   "cell_type": "code",
   "execution_count": 538,
   "metadata": {},
   "outputs": [
    {
     "data": {
      "text/html": [
       "<div>\n",
       "<style scoped>\n",
       "    .dataframe tbody tr th:only-of-type {\n",
       "        vertical-align: middle;\n",
       "    }\n",
       "\n",
       "    .dataframe tbody tr th {\n",
       "        vertical-align: top;\n",
       "    }\n",
       "\n",
       "    .dataframe thead th {\n",
       "        text-align: right;\n",
       "    }\n",
       "</style>\n",
       "<table border=\"1\" class=\"dataframe\">\n",
       "  <thead>\n",
       "    <tr style=\"text-align: right;\">\n",
       "      <th>frame</th>\n",
       "      <th>gain</th>\n",
       "      <th>loss</th>\n",
       "    </tr>\n",
       "    <tr>\n",
       "      <th>gender</th>\n",
       "      <th></th>\n",
       "      <th></th>\n",
       "    </tr>\n",
       "  </thead>\n",
       "  <tbody>\n",
       "    <tr>\n",
       "      <th>Female</th>\n",
       "      <td>28</td>\n",
       "      <td>25</td>\n",
       "    </tr>\n",
       "    <tr>\n",
       "      <th>Male</th>\n",
       "      <td>28</td>\n",
       "      <td>38</td>\n",
       "    </tr>\n",
       "    <tr>\n",
       "      <th>Non-binary / third gender</th>\n",
       "      <td>2</td>\n",
       "      <td>1</td>\n",
       "    </tr>\n",
       "    <tr>\n",
       "      <th>Prefer not to say</th>\n",
       "      <td>1</td>\n",
       "      <td>0</td>\n",
       "    </tr>\n",
       "    <tr>\n",
       "      <th>Prefer to self-describe</th>\n",
       "      <td>1</td>\n",
       "      <td>0</td>\n",
       "    </tr>\n",
       "  </tbody>\n",
       "</table>\n",
       "</div>"
      ],
      "text/plain": [
       "frame                      gain  loss\n",
       "gender                               \n",
       "Female                       28    25\n",
       "Male                         28    38\n",
       "Non-binary / third gender     2     1\n",
       "Prefer not to say             1     0\n",
       "Prefer to self-describe       1     0"
      ]
     },
     "execution_count": 538,
     "metadata": {},
     "output_type": "execute_result"
    }
   ],
   "source": [
    "gen_cross_tab = pd.crosstab(df_clean['gender'], df_clean['frame'])\n",
    "cross_tab"
   ]
  },
  {
   "cell_type": "code",
   "execution_count": 510,
   "metadata": {},
   "outputs": [
    {
     "data": {
      "text/plain": [
       "age                age_num\n",
       "18 - 24 years old  0          20\n",
       "25 - 34 years old  1          75\n",
       "35 - 44 years old  2          23\n",
       "45 - 54 years old  3           3\n",
       "55 - 64 years old  4           2\n",
       "Name: ResponseId, dtype: int64"
      ]
     },
     "execution_count": 510,
     "metadata": {},
     "output_type": "execute_result"
    }
   ],
   "source": [
    "df_clean.groupby(['age', 'age_num'])['ResponseId'].count()"
   ]
  },
  {
   "cell_type": "code",
   "execution_count": 539,
   "metadata": {},
   "outputs": [
    {
     "data": {
      "text/plain": [
       "frame\n",
       "loss    64\n",
       "gain    59\n",
       "Name: count, dtype: int64"
      ]
     },
     "execution_count": 539,
     "metadata": {},
     "output_type": "execute_result"
    }
   ],
   "source": [
    "#summary insights \n",
    "df_clean.groupby(['frame','scenario','scenario_mapped','option_selected']).ResponseId.count()\n",
    "\n",
    "#% in each condition (gain or loss)\n",
    "df_clean['frame'].value_counts()\n"
   ]
  },
  {
   "cell_type": "code",
   "execution_count": null,
   "metadata": {},
   "outputs": [],
   "source": [
    "#ADP question \n",
    "df_clean['Q91'].value_counts()"
   ]
  },
  {
   "cell_type": "markdown",
   "metadata": {},
   "source": [
    "### NEP Scoring"
   ]
  },
  {
   "cell_type": "code",
   "execution_count": 772,
   "metadata": {},
   "outputs": [],
   "source": [
    "columns = df_clean.columns\n",
    "#nep columns only\n",
    "nep_columns = [col for col in columns if col.startswith('Q. NEP')]\n",
    "\n",
    "#function to clean likert score data \n",
    "def extract_score(likert): \n",
    "   match = re.search(r'\\d', likert)\n",
    "   if match: \n",
    "      return int(match.group(0))\n",
    "   return 0\n",
    "   \n",
    "# apply function to nep columns \n",
    "for col in df_clean[nep_columns]: \n",
    "   df_clean[col] = df_clean[col].astype(str)\n",
    "df_clean[nep_columns] = df_clean[nep_columns].applymap(extract_score)\n",
    "\n",
    "# function to sum score\n",
    "def sum_score(row):\n",
    "   if pd.notna(row).all():  #all nep questions answered\n",
    "      return row.sum()\n",
    "   else:\n",
    "      return \"N/A\"\n",
    "\n",
    "#new column that sums score\n",
    "df_clean['NEP_Score'] = df_clean[nep_columns].apply(lambda row: sum_score(row), axis=1)"
   ]
  },
  {
   "cell_type": "code",
   "execution_count": 780,
   "metadata": {},
   "outputs": [
    {
     "data": {
      "text/html": [
       "<div>\n",
       "<style scoped>\n",
       "    .dataframe tbody tr th:only-of-type {\n",
       "        vertical-align: middle;\n",
       "    }\n",
       "\n",
       "    .dataframe tbody tr th {\n",
       "        vertical-align: top;\n",
       "    }\n",
       "\n",
       "    .dataframe thead th {\n",
       "        text-align: right;\n",
       "    }\n",
       "</style>\n",
       "<table border=\"1\" class=\"dataframe\">\n",
       "  <thead>\n",
       "    <tr style=\"text-align: right;\">\n",
       "      <th></th>\n",
       "      <th>count</th>\n",
       "      <th>mean</th>\n",
       "      <th>std</th>\n",
       "      <th>min</th>\n",
       "      <th>25%</th>\n",
       "      <th>50%</th>\n",
       "      <th>75%</th>\n",
       "      <th>max</th>\n",
       "    </tr>\n",
       "  </thead>\n",
       "  <tbody>\n",
       "    <tr>\n",
       "      <th>Q. NEP_1</th>\n",
       "      <td>123.0</td>\n",
       "      <td>0.000000</td>\n",
       "      <td>0.000000</td>\n",
       "      <td>0.0</td>\n",
       "      <td>0.0</td>\n",
       "      <td>0.0</td>\n",
       "      <td>0.0</td>\n",
       "      <td>0.0</td>\n",
       "    </tr>\n",
       "    <tr>\n",
       "      <th>Q. NEP_2</th>\n",
       "      <td>123.0</td>\n",
       "      <td>1.967480</td>\n",
       "      <td>0.982928</td>\n",
       "      <td>0.0</td>\n",
       "      <td>1.0</td>\n",
       "      <td>2.0</td>\n",
       "      <td>3.0</td>\n",
       "      <td>4.0</td>\n",
       "    </tr>\n",
       "    <tr>\n",
       "      <th>Q. NEP_3</th>\n",
       "      <td>123.0</td>\n",
       "      <td>1.934959</td>\n",
       "      <td>1.061547</td>\n",
       "      <td>0.0</td>\n",
       "      <td>1.0</td>\n",
       "      <td>2.0</td>\n",
       "      <td>3.0</td>\n",
       "      <td>5.0</td>\n",
       "    </tr>\n",
       "    <tr>\n",
       "      <th>Q. NEP_4</th>\n",
       "      <td>123.0</td>\n",
       "      <td>1.951220</td>\n",
       "      <td>1.062426</td>\n",
       "      <td>0.0</td>\n",
       "      <td>1.0</td>\n",
       "      <td>2.0</td>\n",
       "      <td>3.0</td>\n",
       "      <td>5.0</td>\n",
       "    </tr>\n",
       "    <tr>\n",
       "      <th>Q. NEP_5</th>\n",
       "      <td>123.0</td>\n",
       "      <td>1.934959</td>\n",
       "      <td>1.069241</td>\n",
       "      <td>0.0</td>\n",
       "      <td>1.0</td>\n",
       "      <td>2.0</td>\n",
       "      <td>3.0</td>\n",
       "      <td>5.0</td>\n",
       "    </tr>\n",
       "    <tr>\n",
       "      <th>Q. NEP_6</th>\n",
       "      <td>123.0</td>\n",
       "      <td>1.967480</td>\n",
       "      <td>1.055314</td>\n",
       "      <td>0.0</td>\n",
       "      <td>1.0</td>\n",
       "      <td>2.0</td>\n",
       "      <td>3.0</td>\n",
       "      <td>5.0</td>\n",
       "    </tr>\n",
       "    <tr>\n",
       "      <th>Q. NEP_7</th>\n",
       "      <td>123.0</td>\n",
       "      <td>2.089431</td>\n",
       "      <td>1.055882</td>\n",
       "      <td>0.0</td>\n",
       "      <td>1.0</td>\n",
       "      <td>2.0</td>\n",
       "      <td>3.0</td>\n",
       "      <td>5.0</td>\n",
       "    </tr>\n",
       "    <tr>\n",
       "      <th>Q. NEP_8</th>\n",
       "      <td>123.0</td>\n",
       "      <td>1.943089</td>\n",
       "      <td>1.073533</td>\n",
       "      <td>0.0</td>\n",
       "      <td>1.0</td>\n",
       "      <td>2.0</td>\n",
       "      <td>3.0</td>\n",
       "      <td>5.0</td>\n",
       "    </tr>\n",
       "  </tbody>\n",
       "</table>\n",
       "</div>"
      ],
      "text/plain": [
       "          count      mean       std  min  25%  50%  75%  max\n",
       "Q. NEP_1  123.0  0.000000  0.000000  0.0  0.0  0.0  0.0  0.0\n",
       "Q. NEP_2  123.0  1.967480  0.982928  0.0  1.0  2.0  3.0  4.0\n",
       "Q. NEP_3  123.0  1.934959  1.061547  0.0  1.0  2.0  3.0  5.0\n",
       "Q. NEP_4  123.0  1.951220  1.062426  0.0  1.0  2.0  3.0  5.0\n",
       "Q. NEP_5  123.0  1.934959  1.069241  0.0  1.0  2.0  3.0  5.0\n",
       "Q. NEP_6  123.0  1.967480  1.055314  0.0  1.0  2.0  3.0  5.0\n",
       "Q. NEP_7  123.0  2.089431  1.055882  0.0  1.0  2.0  3.0  5.0\n",
       "Q. NEP_8  123.0  1.943089  1.073533  0.0  1.0  2.0  3.0  5.0"
      ]
     },
     "execution_count": 780,
     "metadata": {},
     "output_type": "execute_result"
    }
   ],
   "source": [
    "#some insights on each NEP question\n",
    "stats_by_q = df_clean[nep_columns].describe().T\n",
    "stats_by_q"
   ]
  },
  {
   "cell_type": "markdown",
   "metadata": {},
   "source": [
    "### Main Data Analysis "
   ]
  },
  {
   "cell_type": "code",
   "execution_count": 781,
   "metadata": {},
   "outputs": [
    {
     "data": {
      "text/html": [
       "<div>\n",
       "<style scoped>\n",
       "    .dataframe tbody tr th:only-of-type {\n",
       "        vertical-align: middle;\n",
       "    }\n",
       "\n",
       "    .dataframe tbody tr th {\n",
       "        vertical-align: top;\n",
       "    }\n",
       "\n",
       "    .dataframe thead th {\n",
       "        text-align: right;\n",
       "    }\n",
       "</style>\n",
       "<table border=\"1\" class=\"dataframe\">\n",
       "  <thead>\n",
       "    <tr style=\"text-align: right;\">\n",
       "      <th>frame</th>\n",
       "      <th>gain</th>\n",
       "      <th>loss</th>\n",
       "    </tr>\n",
       "    <tr>\n",
       "      <th>option_selected</th>\n",
       "      <th></th>\n",
       "      <th></th>\n",
       "    </tr>\n",
       "  </thead>\n",
       "  <tbody>\n",
       "    <tr>\n",
       "      <th>Proposal A</th>\n",
       "      <td>0.779661</td>\n",
       "      <td>0.640625</td>\n",
       "    </tr>\n",
       "    <tr>\n",
       "      <th>Proposal B</th>\n",
       "      <td>0.220339</td>\n",
       "      <td>0.359375</td>\n",
       "    </tr>\n",
       "  </tbody>\n",
       "</table>\n",
       "</div>"
      ],
      "text/plain": [
       "frame                gain      loss\n",
       "option_selected                    \n",
       "Proposal A       0.779661  0.640625\n",
       "Proposal B       0.220339  0.359375"
      ]
     },
     "execution_count": 781,
     "metadata": {},
     "output_type": "execute_result"
    }
   ],
   "source": [
    "main_analysis_columns = ['ResponseId', 'frame', 'scenario_mapped', 'option_selected', 'rating_num', 'age_num',  'gender_num',  'ethnicity_num', 'education_num',   'contintent_num', 'ADP_num', 'student_num']\n",
    "analysis_columns = ['ResponseId', 'frame', 'scenario_mapped', 'option_selected', 'rating', 'rating_num', 'rationale',\n",
    "'age', 'age_num', 'gender',  'gender_num', 'ethnicity', 'ethnicity_num', 'education', 'education_num', 'continent',  'contintent_num', \n",
    "'ADP_num','ADP_familiar',  'student', 'student_num', 'NEP_score']\n",
    "\n",
    "\n",
    "\n",
    "#set up dataframe \n",
    "main_analysis = df_clean[main_analysis_columns]\n",
    "\n",
    "#gain & loss conditions \n",
    "gain_condition = main_analysis[main_analysis['frame']=='gain']\n",
    "loss_condition = main_analysis[main_analysis['frame']=='loss']\n",
    "\n",
    "#% of Participants Selecting Each Option \n",
    "frame_cross_tab1 = pd.crosstab(main_analysis['option_selected'], main_analysis['frame'], normalize='columns')\n",
    "frame_cross_tab2 = pd.crosstab(main_analysis['option_selected'], main_analysis['frame'])\n",
    "frame_cross_tab1 \n",
    "\n",
    "\n"
   ]
  },
  {
   "cell_type": "code",
   "execution_count": 782,
   "metadata": {},
   "outputs": [
    {
     "data": {
      "text/plain": [
       "ResponseId         0\n",
       "frame              0\n",
       "scenario_mapped    0\n",
       "option_selected    0\n",
       "rating_num         0\n",
       "age_num            0\n",
       "gender_num         0\n",
       "ethnicity_num      0\n",
       "education_num      0\n",
       "contintent_num     0\n",
       "ADP_num            0\n",
       "student_num        0\n",
       "dtype: int64"
      ]
     },
     "execution_count": 782,
     "metadata": {},
     "output_type": "execute_result"
    }
   ],
   "source": [
    "lossB = loss_condition[loss_condition['option_selected']=='Proposal B']\n",
    "lossA = loss_condition[loss_condition['option_selected']=='Proposal A']\n",
    "\n",
    "main_analysis.isna().sum()"
   ]
  },
  {
   "cell_type": "code",
   "execution_count": 792,
   "metadata": {},
   "outputs": [
    {
     "data": {
      "image/png": "[encoded data removed]",
      "text/plain": [
       "<Figure size 1200x300 with 3 Axes>"
      ]
     },
     "metadata": {},
     "output_type": "display_data"
    }
   ],
   "source": [
    "fig, axes = plt.subplots(1, 3, figsize=(12, 3), sharey=True)\n",
    "\n",
    "sns.histplot(data=main_analysis, x='rating_num', ax=axes[0])\n",
    "axes[0].set_title('All')\n",
    "sns.histplot(data=loss_condition, x='rating_num', ax=axes[1])\n",
    "axes[1].set_title('Loss Condition')\n",
    "sns.histplot(data=gain_condition, x='rating_num', ax=axes[2])\n",
    "axes[2].set_title('Gain Condition')\n",
    "\n",
    "plt.show()\n"
   ]
  },
  {
   "cell_type": "code",
   "execution_count": 802,
   "metadata": {},
   "outputs": [
    {
     "data": {
      "image/png": "[encoded data removed]",
      "text/plain": [
       "<Figure size 500x300 with 1 Axes>"
      ]
     },
     "metadata": {},
     "output_type": "display_data"
    }
   ],
   "source": [
    "##Plot graph for average rating by condition \n",
    "values = np.array([loss_condition.rating_num.mean(), gain_condition.rating_num.mean(), main_analysis.rating_num.mean()])\n",
    "plt.figure(figsize=(5,3))\n",
    "plt.bar(np.arange(3), values,  color=[ 'C0', 'C1', 'C2'], alpha=0.7, capsize=1, ecolor='dimgrey')\n",
    "sns.despine()\n",
    "plt.ylabel('Average Preference Rating')\n",
    "plt.xticks(np.arange(3), ['Loss', 'Gain', 'All'], rotation='horizontal')\n",
    "plt.tight_layout()\n",
    "#plt.show()"
   ]
  },
  {
   "cell_type": "code",
   "execution_count": 390,
   "metadata": {},
   "outputs": [
    {
     "name": "stdout",
     "output_type": "stream",
     "text": [
      "\n",
      "Average rating by condition & option:\n",
      "frame                gain      loss\n",
      "option_selected                    \n",
      "Proposal A       2.840909  2.775000\n",
      "Proposal B       4.818182  5.571429\n",
      "\n",
      "Average rating by condition:\n",
      "frame\n",
      "gain    3.236364\n",
      "loss    3.737705\n",
      "Name: rating_num, dtype: float64\n"
     ]
    }
   ],
   "source": [
    "print(\"\\nAverage rating by condition & option:\")\n",
    "print(pd.crosstab( index = main_analysis['option_selected'], columns = main_analysis['frame'], values = main_analysis['rating_num'], aggfunc='mean'))\n",
    "\n",
    "print(\"\\nAverage rating by condition:\")\n",
    "print(main_analysis.groupby('frame').rating_num.mean())"
   ]
  },
  {
   "cell_type": "code",
   "execution_count": 381,
   "metadata": {},
   "outputs": [
    {
     "name": "stdout",
     "output_type": "stream",
     "text": [
      "T-statistic: -1.5306182058640971\n",
      "P-value: 0.1286340462083498\n"
     ]
    }
   ],
   "source": [
    "#ttest for experiment \n",
    "\n",
    "gain = main_analysis['rating_num'][main_analysis['frame'] == 'gain']\n",
    "loss = main_analysis['rating_num'][main_analysis['frame'] == 'loss']\n",
    "\n",
    "t_stat, p_value = stats.ttest_ind(gain, loss)\n",
    "\n",
    "# results\n",
    "print(\"T-statistic:\", t_stat)\n",
    "print(\"P-value:\", p_value)"
   ]
  },
  {
   "cell_type": "markdown",
   "metadata": {},
   "source": []
  },
  {
   "cell_type": "code",
   "execution_count": 434,
   "metadata": {},
   "outputs": [
    {
     "name": "stdout",
     "output_type": "stream",
     "text": [
      "significant at 1% level\n"
     ]
    }
   ],
   "source": [
    "#function for signficance \n",
    "def sig_effect(pvalue):\n",
    "    if pvalue <= .01:\n",
    "        return f\"\"\"significant at 1% level\"\"\"\n",
    "    elif pvalue <= .05:\n",
    "        return f\"\"\"significant at 5% level\"\"\"\n",
    "    elif pvalue <= .1:\n",
    "        return f\"\"\"significant at 10% level\"\"\"\n",
    "    else:\n",
    "        return \"not significant\"\n"
   ]
  },
  {
   "cell_type": "code",
   "execution_count": 443,
   "metadata": {},
   "outputs": [
    {
     "name": "stdout",
     "output_type": "stream",
     "text": [
      "Intercept        1.122710e-25\n",
      "frame[T.loss]    1.286340e-01\n",
      "dtype: float64\n",
      "\n",
      "signficicant effect? not significant\n",
      "\n",
      "\n",
      " Intercept        3.236364\n",
      "frame[T.loss]    0.501341\n",
      "dtype: float64\n",
      "<bound method LikelihoodModelResults.t_test of <statsmodels.regression.linear_model.OLSResults object at 0x12ac21b50>>\n",
      "\n",
      "\n",
      "\n",
      "                             OLS Regression Results                            \n",
      "==============================================================================\n",
      "Dep. Variable:             rating_num   R-squared:                       0.020\n",
      "Model:                            OLS   Adj. R-squared:                  0.012\n",
      "Method:                 Least Squares   F-statistic:                     2.343\n",
      "Date:                Wed, 19 Jul 2023   Prob (F-statistic):              0.129\n",
      "Time:                        23:45:07   Log-Likelihood:                -229.26\n",
      "No. Observations:                 116   AIC:                             462.5\n",
      "Df Residuals:                     114   BIC:                             468.0\n",
      "Df Model:                           1                                         \n",
      "Covariance Type:            nonrobust                                         \n",
      "=================================================================================\n",
      "                    coef    std err          t      P>|t|      [0.025      0.975]\n",
      "---------------------------------------------------------------------------------\n",
      "Intercept         3.2364      0.238     13.626      0.000       2.766       3.707\n",
      "frame[T.loss]     0.5013      0.328      1.531      0.129      -0.148       1.150\n",
      "==============================================================================\n",
      "Omnibus:                       11.756   Durbin-Watson:                   2.142\n",
      "Prob(Omnibus):                  0.003   Jarque-Bera (JB):                6.997\n",
      "Skew:                           0.438   Prob(JB):                       0.0302\n",
      "Kurtosis:                       2.175   Cond. No.                         2.68\n",
      "==============================================================================\n",
      "\n",
      "Notes:\n",
      "[1] Standard Errors assume that the covariance matrix of the errors is correctly specified.\n"
     ]
    }
   ],
   "source": [
    "#simple linear regression \n",
    "lin_reg = sm.OLS.from_formula('rating_num ~ frame', data = main_analysis).fit()\n",
    "print(lin_reg.pvalues)\n",
    "print(\"\\nsignficicant effect?\", sig_effect(lin_reg.pvalues[1]))\n",
    "print(\"\\n\\n\",lin_reg.params)\n",
    "print(lin_reg.t_test)\n",
    "print(\"\\n\\n\\n\",lin_reg.summary())\n"
   ]
  },
  {
   "cell_type": "code",
   "execution_count": 444,
   "metadata": {},
   "outputs": [
    {
     "name": "stdout",
     "output_type": "stream",
     "text": [
      "frame coeff: 0.6227607493994483\n",
      "frame p-vale: 0.062066944220374724\n",
      "\n",
      "signficicant effect? significant at 10% level\n",
      "\n",
      "\n",
      "\n",
      "                             OLS Regression Results                            \n",
      "==============================================================================\n",
      "Dep. Variable:             rating_num   R-squared:                       0.078\n",
      "Model:                            OLS   Adj. R-squared:                  0.036\n",
      "Method:                 Least Squares   F-statistic:                     1.852\n",
      "Date:                Wed, 19 Jul 2023   Prob (F-statistic):              0.109\n",
      "Time:                        23:45:27   Log-Likelihood:                -225.76\n",
      "No. Observations:                 116   AIC:                             463.5\n",
      "Df Residuals:                     110   BIC:                             480.0\n",
      "Df Model:                           5                                         \n",
      "Covariance Type:            nonrobust                                         \n",
      "=================================================================================\n",
      "                    coef    std err          t      P>|t|      [0.025      0.975]\n",
      "---------------------------------------------------------------------------------\n",
      "Intercept         3.7034      0.523      7.078      0.000       2.666       4.740\n",
      "frame[T.loss]     0.6228      0.330      1.885      0.062      -0.032       1.277\n",
      "age_num          -0.4587      0.210     -2.180      0.031      -0.876      -0.042\n",
      "gender_num        0.3635      0.290      1.254      0.212      -0.211       0.938\n",
      "ethnicity_num    -0.0714      0.138     -0.518      0.605      -0.345       0.202\n",
      "education_num    -0.0538      0.131     -0.412      0.681      -0.313       0.205\n",
      "==============================================================================\n",
      "Omnibus:                        7.436   Durbin-Watson:                   2.064\n",
      "Prob(Omnibus):                  0.024   Jarque-Bera (JB):                5.410\n",
      "Skew:                           0.402   Prob(JB):                       0.0669\n",
      "Kurtosis:                       2.312   Cond. No.                         11.6\n",
      "==============================================================================\n",
      "\n",
      "Notes:\n",
      "[1] Standard Errors assume that the covariance matrix of the errors is correctly specified.\n"
     ]
    }
   ],
   "source": [
    "#with basic demographic controls \n",
    "reg_dem = sm.OLS.from_formula('rating_num ~ frame + age_num + gender_num + ethnicity_num + education_num', data = main_analysis).fit()\n",
    "print(\"frame coeff:\", reg_dem.params[1])\n",
    "print(\"frame p-vale:\", reg_dem.pvalues[1])\n",
    "print(\"\\nsignficicant effect?\", sig_effect(reg_dem.pvalues[1]))\n",
    "print(\"\\n\\n\\n\",reg_dem.summary())\n"
   ]
  },
  {
   "cell_type": "code",
   "execution_count": 446,
   "metadata": {},
   "outputs": [
    {
     "name": "stdout",
     "output_type": "stream",
     "text": [
      "frame coeff: 0.6868559284391104\n",
      "frame p-vale: 0.03740350523744158\n",
      "\n",
      "signficicant effect? significant at 5% level\n",
      "\n",
      "\n",
      "                             OLS Regression Results                            \n",
      "==============================================================================\n",
      "Dep. Variable:             rating_num   R-squared:                       0.126\n",
      "Model:                            OLS   Adj. R-squared:                  0.069\n",
      "Method:                 Least Squares   F-statistic:                     2.222\n",
      "Date:                Wed, 19 Jul 2023   Prob (F-statistic):             0.0378\n",
      "Time:                        23:46:14   Log-Likelihood:                -222.64\n",
      "No. Observations:                 116   AIC:                             461.3\n",
      "Df Residuals:                     108   BIC:                             483.3\n",
      "Df Model:                           7                                         \n",
      "Covariance Type:            nonrobust                                         \n",
      "==================================================================================\n",
      "                     coef    std err          t      P>|t|      [0.025      0.975]\n",
      "----------------------------------------------------------------------------------\n",
      "Intercept          2.9246      0.625      4.679      0.000       1.686       4.164\n",
      "frame[T.loss]      0.6869      0.326      2.107      0.037       0.041       1.333\n",
      "age_num           -0.3330      0.213     -1.563      0.121      -0.755       0.089\n",
      "gender_num         0.2985      0.286      1.042      0.300      -0.269       0.866\n",
      "ethnicity_num     -0.0573      0.137     -0.419      0.676      -0.328       0.214\n",
      "education_num     -0.0994      0.136     -0.731      0.466      -0.369       0.170\n",
      "contintent_num     0.2170      0.146      1.485      0.140      -0.073       0.507\n",
      "student_num        0.7311      0.343      2.132      0.035       0.051       1.411\n",
      "==============================================================================\n",
      "Omnibus:                        8.159   Durbin-Watson:                   2.074\n",
      "Prob(Omnibus):                  0.017   Jarque-Bera (JB):                5.478\n",
      "Skew:                           0.388   Prob(JB):                       0.0646\n",
      "Kurtosis:                       2.270   Cond. No.                         15.9\n",
      "==============================================================================\n",
      "\n",
      "Notes:\n",
      "[1] Standard Errors assume that the covariance matrix of the errors is correctly specified.\n"
     ]
    }
   ],
   "source": [
    "#with addl. demographic controls \n",
    "reg_dema = sm.OLS.from_formula('rating_num ~ frame + age_num + gender_num + ethnicity_num + education_num + contintent_num + student_num', data = main_analysis).fit()\n",
    "print(\"frame coeff:\", reg_dema.params[1])\n",
    "print(\"frame p-vale:\", reg_dema.pvalues[1])\n",
    "print(\"\\nsignficicant effect?\", sig_effect(reg_dema.pvalues[1]))\n",
    "print(\"\\n\\n\",reg_dema.summary())\n"
   ]
  },
  {
   "cell_type": "code",
   "execution_count": 450,
   "metadata": {},
   "outputs": [
    {
     "name": "stdout",
     "output_type": "stream",
     "text": [
      "frame coeff: 0.5013412816691514\n",
      "frame p-vale: 0.12863404620834992\n",
      "\n",
      "signficicant effect? not significant\n",
      "\n",
      "\n",
      "                             OLS Regression Results                            \n",
      "==============================================================================\n",
      "Dep. Variable:             rating_num   R-squared:                       0.020\n",
      "Model:                            OLS   Adj. R-squared:                  0.012\n",
      "Method:                 Least Squares   F-statistic:                     2.343\n",
      "Date:                Wed, 19 Jul 2023   Prob (F-statistic):              0.129\n",
      "Time:                        23:52:12   Log-Likelihood:                -229.26\n",
      "No. Observations:                 116   AIC:                             462.5\n",
      "Df Residuals:                     114   BIC:                             468.0\n",
      "Df Model:                           1                                         \n",
      "Covariance Type:            nonrobust                                         \n",
      "=================================================================================\n",
      "                    coef    std err          t      P>|t|      [0.025      0.975]\n",
      "---------------------------------------------------------------------------------\n",
      "Intercept         3.2364      0.238     13.626      0.000       2.766       3.707\n",
      "frame[T.loss]     0.5013      0.328      1.531      0.129      -0.148       1.150\n",
      "==============================================================================\n",
      "Omnibus:                       11.756   Durbin-Watson:                   2.142\n",
      "Prob(Omnibus):                  0.003   Jarque-Bera (JB):                6.997\n",
      "Skew:                           0.438   Prob(JB):                       0.0302\n",
      "Kurtosis:                       2.175   Cond. No.                         2.68\n",
      "==============================================================================\n",
      "\n",
      "Notes:\n",
      "[1] Standard Errors assume that the covariance matrix of the errors is correctly specified.\n"
     ]
    }
   ],
   "source": [
    "#with ADP num \n",
    "reg_ADP = sm.OLS.from_formula('rating_num ~ frame + age_num + gender_num + ethnicity_num + education_num + contintent_num + student_num + ADP_num', data = main_analysis).fit()\n",
    "print(\"frame coeff:\", reg_ADP.params[1])\n",
    "print(\"frame p-vale:\", reg_ADP.pvalues[1])\n",
    "print(\"\\nsignficicant effect?\", sig_effect(reg_ADP.pvalues[1]))\n",
    "print(\"\\n\\n\",reg_ADP.summary())\n"
   ]
  }
 ],
 "metadata": {
  "kernelspec": {
   "display_name": "Python 3",
   "language": "python",
   "name": "python3"
  },
  "language_info": {
   "codemirror_mode": {
    "name": "ipython",
    "version": 3
   },
   "file_extension": ".py",
   "mimetype": "text/x-python",
   "name": "python",
   "nbconvert_exporter": "python",
   "pygments_lexer": "ipython3",
   "version": "3.9.6"
  },
  "orig_nbformat": 4
 },
 "nbformat": 4,
 "nbformat_minor": 2
}
