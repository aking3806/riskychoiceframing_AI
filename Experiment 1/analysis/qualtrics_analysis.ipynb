{
 "cells": [
  {
   "cell_type": "markdown",
   "metadata": {},
   "source": []
  },
  {
   "cell_type": "markdown",
   "metadata": {},
   "source": [
    "#### File Setup"
   ]
  },
  {
   "cell_type": "code",
   "execution_count": 134,
   "metadata": {},
   "outputs": [],
   "source": [
    "#pip install pycountry-convert --quiet\n",
    "#pip install seaborn  --quiet\n",
    "#pip install scipy --quiet\n",
    "#pip install researchpy --quiet\n",
    "#pip install statsmodels --quiet"
   ]
  },
  {
   "cell_type": "code",
   "execution_count": 820,
   "metadata": {},
   "outputs": [],
   "source": [
    "import pandas as pd \n",
    "import numpy as np\n",
    "import seaborn as sns\n",
    "import matplotlib.pyplot as plt \n",
    "import seaborn as sns \n",
    "from scipy import stats\n",
    "from scipy.stats import chi2_contingency, ttest_ind\n",
    "import statsmodels.api as sm"
   ]
  },
  {
   "cell_type": "code",
   "execution_count": 937,
   "metadata": {},
   "outputs": [
    {
     "name": "stdout",
     "output_type": "stream",
     "text": [
      "(261, 97)\n"
     ]
    }
   ],
   "source": [
    "csv_file = \"/Users/annaking/Documents/Github/riskychoiceframing_AI/Experiment 1/data/072423_results.csv\"\n",
    "df = pd.read_csv(csv_file)\n",
    "print(df.shape)"
   ]
  },
  {
   "cell_type": "code",
   "execution_count": 493,
   "metadata": {},
   "outputs": [],
   "source": [
    "#df.columns"
   ]
  },
  {
   "cell_type": "code",
   "execution_count": 938,
   "metadata": {},
   "outputs": [
    {
     "name": "stdout",
     "output_type": "stream",
     "text": [
      "<class 'pandas.core.frame.DataFrame'>\n",
      "RangeIndex: 261 entries, 0 to 260\n",
      "Data columns (total 97 columns):\n",
      " #   Column                         Non-Null Count  Dtype  \n",
      "---  ------                         --------------  -----  \n",
      " 0   StartDate                      261 non-null    object \n",
      " 1   EndDate                        261 non-null    object \n",
      " 2   Status                         261 non-null    object \n",
      " 3   Progress                       261 non-null    int64  \n",
      " 4   Duration (in seconds)          261 non-null    int64  \n",
      " 5   Finished                       261 non-null    bool   \n",
      " 6   RecordedDate                   261 non-null    object \n",
      " 7   ResponseId                     261 non-null    object \n",
      " 8   DistributionChannel            261 non-null    object \n",
      " 9   UserLanguage                   261 non-null    object \n",
      " 10  Q_RecaptchaScore               246 non-null    float64\n",
      " 11  Q1. Metadata_Browser           261 non-null    object \n",
      " 12  Q1. Metadata_Version           261 non-null    object \n",
      " 13  Q1. Metadata_Operating System  261 non-null    object \n",
      " 14  Q1. Metadata_Resolution        261 non-null    object \n",
      " 15  Q2. Time_First Click           261 non-null    float64\n",
      " 16  Q2. Time_Last Click            261 non-null    float64\n",
      " 17  Q2. Time_Page Submit           261 non-null    float64\n",
      " 18  Q2. Time_Click Count           261 non-null    int64  \n",
      " 19  Q3. Consent                    261 non-null    object \n",
      " 20  Q10. GS1, Time_First Click     41 non-null     float64\n",
      " 21  Q10. GS1, Time_Last Click      41 non-null     float64\n",
      " 22  Q10. GS1, Time_Page Submit     41 non-null     float64\n",
      " 23  Q10. GS1, Time_Click Count     41 non-null     float64\n",
      " 24  Q12. GS1, Option               40 non-null     object \n",
      " 25  Q13. GS1, Rating               41 non-null     object \n",
      " 26  Q13. GS1, Rationale            29 non-null     object \n",
      " 27  Q10. GS2, Time_First Click     44 non-null     float64\n",
      " 28  Q10. GS2, Time_Last Click      44 non-null     float64\n",
      " 29  Q10. GS2, Time_Page Submit     44 non-null     float64\n",
      " 30  Q10. GS2, Time_Click Count     44 non-null     float64\n",
      " 31  Q12. GS2, Option               44 non-null     object \n",
      " 32  Q13. GS2, Rating               44 non-null     object \n",
      " 33  Q14. GS2, Rationale            44 non-null     object \n",
      " 34  Q10. GS3, Time_First Click     38 non-null     float64\n",
      " 35  Q10. GS3, Time_Last Click      38 non-null     float64\n",
      " 36  Q10. GS3, Time_Page Submit     38 non-null     float64\n",
      " 37  Q10. GS3, Time_Click Count     38 non-null     float64\n",
      " 38  Q12. GS3, Option.              38 non-null     object \n",
      " 39  Q13. GS3, Rating               38 non-null     object \n",
      " 40  Q14. GS3, Rationle             31 non-null     object \n",
      " 41  Q10. LS1, Time_First Click     42 non-null     float64\n",
      " 42  Q10. LS1, Time_Last Click      42 non-null     float64\n",
      " 43  Q10. LS1, Time_Page Submit     42 non-null     float64\n",
      " 44  Q10. LS1, Time_Click Count     42 non-null     float64\n",
      " 45  Q12. LS1, Option               42 non-null     object \n",
      " 46  Q13. LS1, Rating               42 non-null     object \n",
      " 47  Q14. LS1, Rationale            31 non-null     object \n",
      " 48  Q10. LS2, Time_First Click     39 non-null     float64\n",
      " 49  Q10. LS2, Time_Last Click      39 non-null     float64\n",
      " 50  Q10. LS2, Time_Page Submit     39 non-null     float64\n",
      " 51  Q10. LS2, Time_Click Count     39 non-null     float64\n",
      " 52  Q12. LS2, Option               38 non-null     object \n",
      " 53  Q13. LS2, Rating               38 non-null     object \n",
      " 54  Q14. LS2, Rationale            29 non-null     object \n",
      " 55  Q10. LS3, Time_First Click     42 non-null     float64\n",
      " 56  Q10. LS3, Time_Last Click      42 non-null     float64\n",
      " 57  Q10. LS3, Time_Page Submit     42 non-null     float64\n",
      " 58  Q10. LS3, Time_Click Count     42 non-null     float64\n",
      " 59  Q12. LS3, Option               42 non-null     object \n",
      " 60  Q13. LS3, Rating               42 non-null     object \n",
      " 61  Q14. LS3, Rationale            31 non-null     object \n",
      " 62  Q34_First Click                246 non-null    float64\n",
      " 63  Q34_Last Click                 246 non-null    float64\n",
      " 64  Q34_Page Submit                246 non-null    float64\n",
      " 65  Q34_Click Count                246 non-null    float64\n",
      " 66  Q. NEP_1                       244 non-null    object \n",
      " 67  Q. NEP_2                       244 non-null    object \n",
      " 68  Q. NEP_3                       243 non-null    object \n",
      " 69  Q. NEP_4                       244 non-null    object \n",
      " 70  Q. NEP_5                       243 non-null    object \n",
      " 71  Q. NEP_6                       243 non-null    object \n",
      " 72  Q. NEP_7                       243 non-null    object \n",
      " 73  Q. NEP_8                       244 non-null    object \n",
      " 74  Q4. Dem, Time1_First Click     246 non-null    float64\n",
      " 75  Q4. Dem, Time1_Last Click      246 non-null    float64\n",
      " 76  Q4. Dem, Time1_Page Submit     246 non-null    float64\n",
      " 77  Q4. Dem, Time1_Click Count     246 non-null    float64\n",
      " 78  Q5. Age                        245 non-null    object \n",
      " 79  Q6. Gender                     243 non-null    object \n",
      " 80  Q6. Gender_4_TEXT              3 non-null      object \n",
      " 81  Q8. Ethnicity                  243 non-null    object \n",
      " 82  Q8. Ethnicity_6_TEXT           0 non-null      float64\n",
      " 83  Q7. Dem, Time2_First Click     246 non-null    float64\n",
      " 84  Q7. Dem, Time2_Last Click      246 non-null    float64\n",
      " 85  Q7. Dem, Time2_Page Submit     246 non-null    float64\n",
      " 86  Q7. Dem, Time2_Click Count     246 non-null    float64\n",
      " 87  Q9. Education                  243 non-null    object \n",
      " 88  Q10. Country                   216 non-null    object \n",
      " 89  Q10. Student                   243 non-null    object \n",
      " 90  Q91                            240 non-null    object \n",
      " 91  Q62                            237 non-null    object \n",
      " 92  Q62_2_TEXT                     1 non-null      object \n",
      " 93  Q63                            237 non-null    object \n",
      " 94  Q63_2_TEXT                     2 non-null      object \n",
      " 95  Q61                            132 non-null    object \n",
      " 96  Condition                      246 non-null    float64\n",
      "dtypes: bool(1), float64(42), int64(3), object(51)\n",
      "memory usage: 196.1+ KB\n"
     ]
    }
   ],
   "source": [
    "df.info()"
   ]
  },
  {
   "cell_type": "markdown",
   "metadata": {},
   "source": [
    "#### Basic Data Cleaning "
   ]
  },
  {
   "cell_type": "code",
   "execution_count": 939,
   "metadata": {},
   "outputs": [
    {
     "name": "stdout",
     "output_type": "stream",
     "text": [
      "(242, 98)\n"
     ]
    }
   ],
   "source": [
    "##### Data cleaning to change column types\n",
    "\n",
    "#drop anyone not sorted into condition \n",
    "df_clean = df.drop(df[df['Condition'].isna()].index)\n",
    "\n",
    "#change data type to int \n",
    "df_clean['Condition'] =  df_clean['Condition'].astype('int64')\n",
    "\n",
    "# create frame column gain or loss condition based on condition value \n",
    "df_clean['frame'] = df_clean['Condition'].apply(lambda x: 'gain' if x < 3 else 'loss')\n",
    "\n",
    "#filter only where progress = 100 \n",
    "df_clean = df_clean[df_clean['Progress']==100]\n",
    "print(df_clean.shape)"
   ]
  },
  {
   "cell_type": "markdown",
   "metadata": {},
   "source": [
    "##### Survey Time / Completion"
   ]
  },
  {
   "cell_type": "code",
   "execution_count": 940,
   "metadata": {},
   "outputs": [
    {
     "data": {
      "text/plain": [
       "count       242.000000\n",
       "mean       2452.380165\n",
       "std       18813.285167\n",
       "min          43.000000\n",
       "25%         190.000000\n",
       "50%         321.500000\n",
       "75%         730.500000\n",
       "max      241785.000000\n",
       "Name: Duration (in seconds), dtype: float64"
      ]
     },
     "execution_count": 940,
     "metadata": {},
     "output_type": "execute_result"
    }
   ],
   "source": [
    "df_clean['Duration (in seconds)'].describe()"
   ]
  },
  {
   "cell_type": "code",
   "execution_count": 943,
   "metadata": {},
   "outputs": [],
   "source": [
    "## visual completion times \n",
    "#sns.histplot( y='Duration (in seconds)', data =df_clean)\n",
    "#plt.show()"
   ]
  },
  {
   "cell_type": "code",
   "execution_count": 947,
   "metadata": {},
   "outputs": [
    {
     "data": {
      "text/plain": [
       "(192, 98)"
      ]
     },
     "execution_count": 947,
     "metadata": {},
     "output_type": "execute_result"
    }
   ],
   "source": [
    "\n",
    "##def remove_outliers(df, column_name):\n",
    "    # Calculate Z-scores for the column\n",
    "    #z_scores = stats.zscore(df[column_name])\n",
    "    #threshold = 3 #3 standard deviations \n",
    "    # Filter the dataframe to keep only the data within the threshold\n",
    "    ##df_clean = df[abs(z_scores) < threshold]\n",
    "\n",
    "    #return df_clean\n",
    "#apply function to remove outliers \n",
    "##column_name = 'Duration (in seconds)'\n",
    "##df_clean = remove_outliers(df_clean, column_name) \n",
    "\n",
    "\n",
    "# quarterlie range\n",
    "quartiles = df_clean['Duration (in seconds)'].quantile([0.25, 0.75])\n",
    "iqr = quartiles[0.75] - quartiles[0.25]\n",
    "lower_bound = quartiles[0.25] - 1.5 * iqr\n",
    "upper_bound = quartiles[0.75] + 1.5 * iqr\n",
    "\n",
    "#remove outlier\n",
    "df_clean = df_clean[(df_clean['Duration (in seconds)'] >= lower_bound) & (df_clean['Duration (in seconds)'] <= upper_bound)]\n",
    "df_clean.shape"
   ]
  },
  {
   "cell_type": "code",
   "execution_count": 948,
   "metadata": {},
   "outputs": [
    {
     "data": {
      "image/png": "[encoded data removed]",
      "text/plain": [
       "<Figure size 640x480 with 1 Axes>"
      ]
     },
     "metadata": {},
     "output_type": "display_data"
    }
   ],
   "source": [
    "df_clean['Duration (in seconds)'].describe()\n",
    "sns.histplot( y='Duration (in seconds)', data =df_clean)\n",
    "plt.show()"
   ]
  },
  {
   "cell_type": "code",
   "execution_count": 950,
   "metadata": {},
   "outputs": [
    {
     "name": "stdout",
     "output_type": "stream",
     "text": [
      "StartDate                  0\n",
      "EndDate                    0\n",
      "Status                     0\n",
      "Progress                   0\n",
      "Duration (in seconds)      0\n",
      "                        ... \n",
      "Q62_2_TEXT               260\n",
      "Q63                       24\n",
      "Q63_2_TEXT               259\n",
      "Q61                      129\n",
      "Condition                 15\n",
      "Length: 97, dtype: int64\n"
     ]
    }
   ],
   "source": [
    "#check for NAs\n",
    "print(df.isna().sum())"
   ]
  },
  {
   "cell_type": "markdown",
   "metadata": {},
   "source": [
    "##### Mapping Columns & Cleaning"
   ]
  },
  {
   "cell_type": "code",
   "execution_count": 951,
   "metadata": {},
   "outputs": [],
   "source": [
    "#### Creating columns and grouping for various scenarios:\n",
    "\n",
    "#filter to option columns only\n",
    "columns = df_clean.columns \n",
    "option_columns = [col for col in columns if 'Option' in col]\n",
    "\n",
    "# dictionary mapping\n",
    "scenario_dict = {\"GS1\":\"animals_gain\", \"GS2\":\"forest_gain\", \"GS3\":\"humans_gain\", \"LS1\":\"animals_loss\", \"LS2\":\"forest_loss\", \"LS3\":\"humans_loss\"  }\n",
    "\n",
    "#set columns based on scenario \n",
    "def scenario(row):\n",
    "    for col in option_columns:\n",
    "        if pd.notnull(row[col]):\n",
    "            match = re.search(r'(GS\\d+|LS\\d+)', col)\n",
    "            if match:\n",
    "                return match.group()\n",
    "    return None\n",
    "\n",
    "# get scenario from dictionary \n",
    "def get_scenario(row):\n",
    "    value = row['scenario']\n",
    "    if value in scenario_dict:\n",
    "        return scenario_dict[value]\n",
    "    return None\n",
    "\n",
    "# match scenario to dict\n",
    "df_clean['scenario'] = df_clean[option_columns].apply(lambda row: scenario(row), axis=1)\n",
    "df_clean['scenario_mapped'] = df_clean.apply(lambda row: get_scenario(row), axis=1)\n"
   ]
  },
  {
   "cell_type": "code",
   "execution_count": 952,
   "metadata": {},
   "outputs": [
    {
     "data": {
      "text/plain": [
       "(191, 86)"
      ]
     },
     "execution_count": 952,
     "metadata": {},
     "output_type": "execute_result"
    }
   ],
   "source": [
    "import re\n",
    "##### Option Column Cleaning\n",
    "# select option columns \n",
    "df_clean['option_selected'] = df_clean[option_columns].fillna(method='ffill', axis=1).iloc[:, -1]\n",
    "##option_columns = ['Q12. GS1, Option','Q12. GS2, Option', 'Q12. GS3, Option.', 'Q12. LS1, Option', 'Q12. LS2, Option', 'Q12. LS3, Option']\n",
    "\n",
    "# Rating column clean & creation \n",
    "rating_columns = ['Q13. GS1, Rating','Q13. GS2, Rating', 'Q13. GS3, Rating', 'Q13. LS1, Rating', 'Q13. LS2, Rating', 'Q13. LS3, Rating']\n",
    "#create a new rating column containing the non-null values of the rating columns \n",
    "df_clean['rating'] = df_clean[rating_columns].fillna(method='ffill', axis=1).iloc[:, -1]\n",
    "# drop where rating is na \n",
    "df_clean = df_clean[df_clean['rating'].notna()]\n",
    "# get the number only from the column \n",
    "df_clean['rating_num'] = df_clean['rating'].apply(lambda x: x.split(\":\")[0])\n",
    "# change to integer for calculation \n",
    "df_clean['rating_num'] = df_clean['rating_num'].astype('int')\n",
    "\n",
    "# Rationale column cleaning\n",
    "rationale_columns = ['Q13. GS1, Rationale','Q14. GS2, Rationale', 'Q14. GS3, Rationle', 'Q14. LS1, Rationale', 'Q14. LS2, Rationale', 'Q14. LS3, Rationale']\n",
    "# create a new rationale column containing the non-null values of the rating columns \n",
    "df_clean['rationale'] = df_clean[rationale_columns].fillna(method='ffill', axis=1).iloc[:, -1]\n",
    "\n",
    "### Drop standalone choice, rationale, and rating columns\n",
    "colu = rationale_columns + option_columns + rating_columns\n",
    "df_clean = df_clean.drop(colu, axis= 'columns')\n",
    "df_clean.shape"
   ]
  },
  {
   "cell_type": "code",
   "execution_count": 953,
   "metadata": {},
   "outputs": [],
   "source": [
    "### Cleaning and dropping time columns ###\n",
    "columns = list(df_clean.columns)\n",
    "\n",
    "###  First click columns\n",
    "time_click1 = [col for col in columns if 'first click' in col.lower()]\n",
    "#time first click for the scenario \n",
    "time_click1_scn = [string for string in time_click1 if string.startswith('Q10')]\n",
    "#make as 1 column \n",
    "df_clean['scn_t_first_click'] = df_clean[time_click1_scn].fillna(method='ffill', axis=1).iloc[:, -1]\n",
    "\n",
    "### Last click columns\n",
    "time_click2 = [col for col in columns if 'last click' in col.lower()]\n",
    "time_click2_scn = [string for string in time_click2 if string.startswith('Q10')]\n",
    "df_clean['scn_t_last_click'] = df_clean[time_click2_scn].fillna(method='ffill', axis=1).iloc[:, -1]\n",
    "\n",
    "### Time Submit Scenario columns\n",
    "time_submit = [col for col in columns if 'submit' in col.lower()]\n",
    "time_submit_scn = [string for string in time_submit if string.startswith('Q10')]\n",
    "df_clean['scn_t_submit'] = df_clean[time_submit_scn].fillna(method='ffill', axis=1).iloc[:, -1]\n",
    "\n",
    "#click_count1_scn = [string for string in click_count1 if 'dem' in string.lower()]\n",
    "\n",
    "## drop Q10 time columns \n",
    "columns_drop = time_click2_scn + time_click1_scn + time_submit_scn\n",
    "df_clean = df_clean.drop(columns_drop, axis = 'columns')\n",
    "\n",
    "##Click count cleaning \n",
    "columns = list(df_clean.columns)\n",
    "## Click Count for Scenario \n",
    "click_count1 = [col for col in columns if 'click count' in col.lower()]\n",
    "#filer only scenario click coun t\n",
    "click_count_scn = [string for string in click_count1 if string.startswith('Q10')]\n",
    "#make as 1 column for all scenarios \n",
    "df_clean['scn_click_count'] = df_clean[click_count_scn].fillna(method='ffill', axis=1).iloc[:, -1]\n",
    "\n",
    "## Click Count for Scenario \n",
    "click_count = [col for col in columns if 'click count' in col.lower()]\n",
    "click_count1_dem = [string for string in click_count if 'dem' in string.lower()]\n",
    "df_clean['dem_click_count'] = df_clean[click_count1_dem].fillna(method='ffill', axis=1).iloc[:, -1]\n",
    "\n",
    "# drop scenario and dem click count columns \n",
    "columns_drop = click_count_scn + click_count1_dem\n",
    "df_clean = df_clean.drop(columns_drop, axis = 'columns')\n",
    "\n",
    "### drop metadata or misc columns from analysis \n",
    "metadata_or_misc = ['Q1. Metadata_Browser','Q1. Metadata_Version', 'Q1. Metadata_Operating System','Q1. Metadata_Resolution', 'UserLanguage', 'DistributionChannel', 'Status']\n",
    "df_clean = df_clean.drop(metadata_or_misc, axis = 'columns')\n"
   ]
  },
  {
   "cell_type": "code",
   "execution_count": 961,
   "metadata": {},
   "outputs": [
    {
     "data": {
      "text/html": [
       "<div>\n",
       "<style scoped>\n",
       "    .dataframe tbody tr th:only-of-type {\n",
       "        vertical-align: middle;\n",
       "    }\n",
       "\n",
       "    .dataframe tbody tr th {\n",
       "        vertical-align: top;\n",
       "    }\n",
       "\n",
       "    .dataframe thead th {\n",
       "        text-align: right;\n",
       "    }\n",
       "</style>\n",
       "<table border=\"1\" class=\"dataframe\">\n",
       "  <thead>\n",
       "    <tr style=\"text-align: right;\">\n",
       "      <th></th>\n",
       "      <th>scenario_time_to_choose</th>\n",
       "      <th>scenario_total_time</th>\n",
       "    </tr>\n",
       "  </thead>\n",
       "  <tbody>\n",
       "    <tr>\n",
       "      <th>count</th>\n",
       "      <td>191.000000</td>\n",
       "      <td>191.000000</td>\n",
       "    </tr>\n",
       "    <tr>\n",
       "      <th>mean</th>\n",
       "      <td>65.200838</td>\n",
       "      <td>76.957319</td>\n",
       "    </tr>\n",
       "    <tr>\n",
       "      <th>std</th>\n",
       "      <td>75.859993</td>\n",
       "      <td>79.247137</td>\n",
       "    </tr>\n",
       "    <tr>\n",
       "      <th>min</th>\n",
       "      <td>0.489000</td>\n",
       "      <td>1.678000</td>\n",
       "    </tr>\n",
       "    <tr>\n",
       "      <th>25%</th>\n",
       "      <td>12.848500</td>\n",
       "      <td>22.823500</td>\n",
       "    </tr>\n",
       "    <tr>\n",
       "      <th>50%</th>\n",
       "      <td>41.423000</td>\n",
       "      <td>57.705000</td>\n",
       "    </tr>\n",
       "    <tr>\n",
       "      <th>75%</th>\n",
       "      <td>94.434000</td>\n",
       "      <td>108.422500</td>\n",
       "    </tr>\n",
       "    <tr>\n",
       "      <th>max</th>\n",
       "      <td>398.618000</td>\n",
       "      <td>513.136000</td>\n",
       "    </tr>\n",
       "  </tbody>\n",
       "</table>\n",
       "</div>"
      ],
      "text/plain": [
       "       scenario_time_to_choose  scenario_total_time\n",
       "count               191.000000           191.000000\n",
       "mean                 65.200838            76.957319\n",
       "std                  75.859993            79.247137\n",
       "min                   0.489000             1.678000\n",
       "25%                  12.848500            22.823500\n",
       "50%                  41.423000            57.705000\n",
       "75%                  94.434000           108.422500\n",
       "max                 398.618000           513.136000"
      ]
     },
     "execution_count": 961,
     "metadata": {},
     "output_type": "execute_result"
    }
   ],
   "source": [
    "\n",
    "scenario_times = ['scn_t_first_click',  'scn_t_last_click', 'scn_t_submit']\n",
    "df_clean[scenario_times]\n",
    "#create column for total time for scenario question: \n",
    "df_clean['scenario_time_to_choose'] = df_clean['scn_t_last_click'] - df_clean['scn_t_first_click']\n",
    "df_clean['scenario_total_time'] = df_clean['scn_t_submit'] - df_clean['scn_t_first_click']\n",
    "scenario_time = ['scenario_time_to_choose', 'scenario_total_time']\n",
    "df_clean[scenario_time].describe()"
   ]
  },
  {
   "cell_type": "code",
   "execution_count": 527,
   "metadata": {},
   "outputs": [
    {
     "data": {
      "text/plain": [
       "(123, 58)"
      ]
     },
     "execution_count": 527,
     "metadata": {},
     "output_type": "execute_result"
    }
   ],
   "source": [
    "df_clean.shape"
   ]
  },
  {
   "cell_type": "markdown",
   "metadata": {},
   "source": [
    "### Demographics"
   ]
  },
  {
   "cell_type": "markdown",
   "metadata": {},
   "source": [
    "##### Cleaning "
   ]
  },
  {
   "cell_type": "code",
   "execution_count": 962,
   "metadata": {},
   "outputs": [],
   "source": [
    "#rename columns \n",
    "df_clean = df_clean.rename(columns={\n",
    "    'Q5. Age': 'age',\n",
    "    'Q6. Gender': 'gender',\n",
    "    'Q6. Gender_4_TEXT': 'gender_text',\n",
    "    'Q8. Ethnicity': 'ethnicity',\n",
    "    'Q8. Ethnicity_6_TEXT': 'ethnicity_text',\n",
    "    'Q9. Education': 'education',\n",
    "    'Q10. Country': 'country',\n",
    "    'Q10. Student': 'student',\n",
    "    'Q91': 'ADP_familiar'\n",
    "})"
   ]
  },
  {
   "cell_type": "code",
   "execution_count": 963,
   "metadata": {},
   "outputs": [],
   "source": [
    "###coutry name clean \n",
    "import pycountry_convert as pc\n",
    "\n",
    "#function to rename messy countries\n",
    "def rename_countries(country):\n",
    "    if pd.isnull(country):  # Check if the value is nan\n",
    "        return country\n",
    "    if country in ['United States of America', 'USA', 'US', 'us', 'usa', 'America', 'America   ', 'the United States', 'The United States',  'United States ', 'Amrican', 'United States', 'Florida', 'New York', 'MA', 'NZ', 'North Carolina', 'Newyork', 'denver']:\n",
    "        return 'USA'\n",
    "    elif country in ['United Kingdom', 'United Kingdom ', 'UK', 'England', 'England ', 'Cambridge', 'London', 'uuk', 'the Netherlands']:\n",
    "        return 'UK'\n",
    "    elif country in ['China', '中国', 'Chinese ', '美国','加州']:\n",
    "        return 'China'\n",
    "    elif country in [ 'New Zealand']:\n",
    "        return 'New Zealand'\n",
    "    elif country in ['Paris, France', 'France']:\n",
    "        return 'France'\n",
    "    elif country in ['Australia', 'Australia ']:\n",
    "        return 'Australia'\n",
    "    elif country in ['pakistan']:\n",
    "        return 'Pakistan'\n",
    "    else:\n",
    "        return country  # return the original name if no match is found\n",
    "\n",
    "#update country column \n",
    "df_clean['country'] = df_clean['country'].apply(rename_countries)\n",
    "#strip any remaining whitespaces\n",
    "df_clean['country'] = df_clean['country'].apply(lambda x: x.strip() if isinstance(x, str) else x) #checks if string, then removes spaces \n",
    "\n",
    "# Map each country to the continent\n",
    "def country_to_continent(country_name):\n",
    "    try:\n",
    "        if country_name == 'USA':\n",
    "            country_alpha2 = \"US\"\n",
    "        elif country_name == 'UK':\n",
    "            country_alpha2 = \"GB\"\n",
    "        else:\n",
    "            country_alpha2 = pc.country_name_to_country_alpha2(country_name)\n",
    "        country_continent_code = pc.country_alpha2_to_continent_code(country_alpha2)\n",
    "        country_continent_name = pc.convert_continent_code_to_continent_name(country_continent_code)\n",
    "        return country_continent_name\n",
    "    except:\n",
    "        return \"Unknown\"\n",
    "\n",
    "df_clean['continent'] = df_clean['country'].apply(country_to_continent)"
   ]
  },
  {
   "cell_type": "code",
   "execution_count": 964,
   "metadata": {},
   "outputs": [],
   "source": [
    "###### Cat Code Variables #########\n",
    "\n",
    "# ####Gender: clean gender column into numbers\n",
    "#0 if female, 1 if male, 2 if non-binary \n",
    "df_clean['gender_num'] = df_clean.gender.apply(lambda x: 0 if x == 'Female' else (1 if x == 'Male' else 2))\n",
    "df_clean.groupby(['gender','gender_num'])['ResponseId'].count()\n",
    "\n",
    "####Student: clean student column into numbers\n",
    "#0 if not a student, 1 if a student\n",
    "df_clean['student_num']= df_clean.student.astype('category').cat.codes\n",
    "df_clean.groupby(['student','student_num'])['ResponseId'].count()\n",
    "\n",
    "####Education: clean education column into numbers\n",
    "#education_num: 0 = Associates, 1 = Bachecholars, 2 = Completed High School, 3 = Grad School, 4 = Prefer Not to Say, 5 = Some high school \n",
    "df_clean['education_num']= df_clean.education.astype('category').cat.codes\n",
    "df_clean.groupby(['education','education_num'])['ResponseId'].count()\n",
    "\n",
    "#### Ethnicity: clean ethnicity column into numbers\n",
    "#ethnicity: 0 = African American, 1 = Black/African/Caribbean, 2 = Prefer not to say, 3 = White or Caucasian\n",
    "df_clean['ethnicity_num']= df_clean.ethnicity.astype('category').cat.codes\n",
    "df_clean.groupby(['ethnicity','ethnicity_num'])['ResponseId'].count()\n",
    "\n",
    "#### Continent: clean contintent column into numbers\n",
    "#continent: 0 = Asia, 1 = Europe, 2 = North America, 3 = Oceania, 4 = South America, 5 = Unknown \n",
    "df_clean['contintent_num']= df_clean.continent.astype('category').cat.codes\n",
    "df_clean.groupby(['continent','contintent_num'])['ResponseId'].count()\n",
    "\n",
    "#### ADP: lean ADP column into numbers\n",
    "#ADP: 0 = I'm not sure, 1 = No, 2 = Yes \n",
    "df_clean['ADP_num']= df_clean.ADP_familiar.astype('category').cat.codes\n",
    "df_clean.groupby(['ADP_familiar','ADP_num'])['ResponseId'].count()\n",
    "\n",
    "#### Age: clean age column into numbers\n",
    "#age: {'18 - 24 years old': 0, '25 - 34 years old': 1, '35 - 44 years old': 2, '45 - 54 years old': 3, '55 - 64 years old': 4}\n",
    "age_order = ['18 - 24 years old', '25 - 34 years old', '35 - 44 years old', '45 - 54 years old', '55 - 64 years old']\n",
    "age_mapping = {age: i for i, age in enumerate(age_order)}\n",
    "df_clean['age_num'] = df_clean['age'].map(age_mapping) #maps dict \n"
   ]
  },
  {
   "cell_type": "code",
   "execution_count": 965,
   "metadata": {},
   "outputs": [
    {
     "name": "stdout",
     "output_type": "stream",
     "text": [
      "student         1\n",
      "education       1\n",
      "gender          1\n",
      "ADP_familiar    4\n",
      "dtype: int64\n"
     ]
    }
   ],
   "source": [
    "## Check for NA values \n",
    "#print(df_clean[['age_num','age']].isna().value_counts())\n",
    "#print(df_clean['education'].isna().value_counts())\n",
    "#print('\\n\\n',df_clean['ADP_num'].isna().value_counts())\n",
    "#df_clean['ADP_familiar'].isna().count()\n",
    "\n",
    "# NA printing \n",
    "#print(f\"\"\"school NA: {df_clean['student'].isna().sum()}\"\"\")\n",
    "#print(f\"\"\"gender NA: {df_clean['gender'].isna().sum()}\"\"\")\n",
    "#print(f\"\"\"education NA: {df_clean['education'].isna().sum()}\"\"\")\n",
    "#print(f\"\"\"ADP NA: {df_clean['ADP_familiar'].isna().sum()}\"\"\")\n",
    "dem = ['student','education','gender','ADP_familiar']\n",
    "\n",
    "print(df_clean[dem].isna().sum())"
   ]
  },
  {
   "cell_type": "markdown",
   "metadata": {},
   "source": [
    "#### Demographic Insights "
   ]
  },
  {
   "cell_type": "markdown",
   "metadata": {},
   "source": [
    "Defintions\n",
    "- gender_num: 0 = female, 1 = male, 2 = other\n",
    "- student_num: 0 = not a studnet, 1 = a student, -1 = NA\n",
    "- education_num: 0 = Associates, 1 = Bachecholars, 2 = Completed High School, 3 = Grad School, 4 = Prefer Not to Say, 5 = Some high school \n",
    "- ethnicity: 0 = African American, 1 = Black/African/Caribbean, 2 = Prefer not to say, 3 = White or Caucasian\n",
    "- continent: 0 = Asia, 1 = Europe, 2 = North America, 3 = Oceania, 4 = South America, 5 = Unknown \n",
    "- ADP: 0 = I'm not sure, 1 = No, 2 = Yes \n",
    "- age: {'18 - 24 years old': 0, '25 - 34 years old': 1, '35 - 44 years old': 2, '45 - 54 years old': 3, '55 - 64 years old': 4}"
   ]
  },
  {
   "cell_type": "markdown",
   "metadata": {},
   "source": [
    "##### Participant Demographic Insights "
   ]
  },
  {
   "cell_type": "code",
   "execution_count": 507,
   "metadata": {},
   "outputs": [
    {
     "name": "stdout",
     "output_type": "stream",
     "text": [
      "ethnicity\n",
      "White or Caucasian         0.710744\n",
      "Asian                      0.157025\n",
      "Black/African/Caribbean    0.123967\n",
      "Prefer not to say          0.008264\n",
      "Name: proportion, dtype: float64\n"
     ]
    }
   ],
   "source": [
    "#Participant Demographic Insights \n",
    "demographics =   [ 'ResponseId','gender_num', 'gender', 'student_num', 'student','education_num', 'education','ethnicity_num','ethnicity', 'contintent_num', 'continent','age_num', 'age', 'ADP_num', 'ADP_familiar'] \n",
    "df_demographics = df_clean[demographics]\n",
    "\n",
    "#ethnicity\n",
    "print(df_demographics.ethnicity.value_counts(normalize=True))"
   ]
  },
  {
   "cell_type": "code",
   "execution_count": 508,
   "metadata": {},
   "outputs": [],
   "source": [
    "##Demographic Insights \n",
    "#df_clean.education.value_counts(normalize = True)\n",
    "#df_clean.groupby(['education_num','frame']).ResponseId.agg(['count', 'sum', 'mean','median'])\n",
    "#ed = df_clean.groupby(['education_num','frame']).ResponseId.count().reset_index()\n",
    "#pivoted = ed.pivot(index='education_num', columns='frame', values='ResponseId')\n",
    "#df_clean[['education_num','frame']].value_counts(normalize =True)\n",
    "\n",
    "#df_clean.groupby('continent').ResponseId.count()"
   ]
  },
  {
   "cell_type": "code",
   "execution_count": 538,
   "metadata": {},
   "outputs": [
    {
     "data": {
      "text/html": [
       "<div>\n",
       "<style scoped>\n",
       "    .dataframe tbody tr th:only-of-type {\n",
       "        vertical-align: middle;\n",
       "    }\n",
       "\n",
       "    .dataframe tbody tr th {\n",
       "        vertical-align: top;\n",
       "    }\n",
       "\n",
       "    .dataframe thead th {\n",
       "        text-align: right;\n",
       "    }\n",
       "</style>\n",
       "<table border=\"1\" class=\"dataframe\">\n",
       "  <thead>\n",
       "    <tr style=\"text-align: right;\">\n",
       "      <th>frame</th>\n",
       "      <th>gain</th>\n",
       "      <th>loss</th>\n",
       "    </tr>\n",
       "    <tr>\n",
       "      <th>gender</th>\n",
       "      <th></th>\n",
       "      <th></th>\n",
       "    </tr>\n",
       "  </thead>\n",
       "  <tbody>\n",
       "    <tr>\n",
       "      <th>Female</th>\n",
       "      <td>28</td>\n",
       "      <td>25</td>\n",
       "    </tr>\n",
       "    <tr>\n",
       "      <th>Male</th>\n",
       "      <td>28</td>\n",
       "      <td>38</td>\n",
       "    </tr>\n",
       "    <tr>\n",
       "      <th>Non-binary / third gender</th>\n",
       "      <td>2</td>\n",
       "      <td>1</td>\n",
       "    </tr>\n",
       "    <tr>\n",
       "      <th>Prefer not to say</th>\n",
       "      <td>1</td>\n",
       "      <td>0</td>\n",
       "    </tr>\n",
       "    <tr>\n",
       "      <th>Prefer to self-describe</th>\n",
       "      <td>1</td>\n",
       "      <td>0</td>\n",
       "    </tr>\n",
       "  </tbody>\n",
       "</table>\n",
       "</div>"
      ],
      "text/plain": [
       "frame                      gain  loss\n",
       "gender                               \n",
       "Female                       28    25\n",
       "Male                         28    38\n",
       "Non-binary / third gender     2     1\n",
       "Prefer not to say             1     0\n",
       "Prefer to self-describe       1     0"
      ]
     },
     "execution_count": 538,
     "metadata": {},
     "output_type": "execute_result"
    }
   ],
   "source": [
    "gen_cross_tab = pd.crosstab(df_clean['gender'], df_clean['frame'])\n",
    "cross_tab"
   ]
  },
  {
   "cell_type": "code",
   "execution_count": 510,
   "metadata": {},
   "outputs": [
    {
     "data": {
      "text/plain": [
       "age                age_num\n",
       "18 - 24 years old  0          20\n",
       "25 - 34 years old  1          75\n",
       "35 - 44 years old  2          23\n",
       "45 - 54 years old  3           3\n",
       "55 - 64 years old  4           2\n",
       "Name: ResponseId, dtype: int64"
      ]
     },
     "execution_count": 510,
     "metadata": {},
     "output_type": "execute_result"
    }
   ],
   "source": [
    "df_clean.groupby(['age', 'age_num'])['ResponseId'].count()"
   ]
  },
  {
   "cell_type": "code",
   "execution_count": 539,
   "metadata": {},
   "outputs": [
    {
     "data": {
      "text/plain": [
       "frame\n",
       "loss    64\n",
       "gain    59\n",
       "Name: count, dtype: int64"
      ]
     },
     "execution_count": 539,
     "metadata": {},
     "output_type": "execute_result"
    }
   ],
   "source": [
    "#summary insights \n",
    "df_clean.groupby(['frame','scenario','scenario_mapped','option_selected']).ResponseId.count()\n",
    "\n",
    "#% in each condition (gain or loss)\n",
    "df_clean['frame'].value_counts()\n"
   ]
  },
  {
   "cell_type": "code",
   "execution_count": null,
   "metadata": {},
   "outputs": [],
   "source": [
    "#ADP question \n",
    "df_clean['Q91'].value_counts()"
   ]
  },
  {
   "cell_type": "markdown",
   "metadata": {},
   "source": [
    "### NEP Scoring"
   ]
  },
  {
   "cell_type": "code",
   "execution_count": 966,
   "metadata": {},
   "outputs": [],
   "source": [
    "columns = df_clean.columns\n",
    "#nep columns only\n",
    "nep_columns = [col for col in columns if col.startswith('Q. NEP')]\n",
    "\n",
    "#function to clean likert score data \n",
    "def extract_score(likert): \n",
    "   match = re.search(r'\\d', likert)\n",
    "   if match: \n",
    "      return int(match.group(0))\n",
    "   return 0\n",
    "   \n",
    "# apply function to nep columns \n",
    "for col in df_clean[nep_columns]: \n",
    "   df_clean[col] = df_clean[col].astype(str)\n",
    "df_clean[nep_columns] = df_clean[nep_columns].applymap(extract_score)\n",
    "\n",
    "# function to sum score\n",
    "def sum_score(row):\n",
    "   if pd.notna(row).all():  #all nep questions answered\n",
    "      return row.sum()\n",
    "   else:\n",
    "      return \"N/A\"\n",
    "\n",
    "#new column that sums score\n",
    "df_clean['NEP_Score'] = df_clean[nep_columns].apply(lambda row: sum_score(row), axis=1)\n"
   ]
  },
  {
   "cell_type": "code",
   "execution_count": 967,
   "metadata": {},
   "outputs": [
    {
     "data": {
      "text/html": [
       "<div>\n",
       "<style scoped>\n",
       "    .dataframe tbody tr th:only-of-type {\n",
       "        vertical-align: middle;\n",
       "    }\n",
       "\n",
       "    .dataframe tbody tr th {\n",
       "        vertical-align: top;\n",
       "    }\n",
       "\n",
       "    .dataframe thead th {\n",
       "        text-align: right;\n",
       "    }\n",
       "</style>\n",
       "<table border=\"1\" class=\"dataframe\">\n",
       "  <thead>\n",
       "    <tr style=\"text-align: right;\">\n",
       "      <th></th>\n",
       "      <th>count</th>\n",
       "      <th>mean</th>\n",
       "      <th>std</th>\n",
       "      <th>min</th>\n",
       "      <th>25%</th>\n",
       "      <th>50%</th>\n",
       "      <th>75%</th>\n",
       "      <th>max</th>\n",
       "    </tr>\n",
       "  </thead>\n",
       "  <tbody>\n",
       "    <tr>\n",
       "      <th>Q. NEP_1</th>\n",
       "      <td>191.0</td>\n",
       "      <td>2.329843</td>\n",
       "      <td>1.046850</td>\n",
       "      <td>0.0</td>\n",
       "      <td>2.0</td>\n",
       "      <td>2.0</td>\n",
       "      <td>3.0</td>\n",
       "      <td>5.0</td>\n",
       "    </tr>\n",
       "    <tr>\n",
       "      <th>Q. NEP_2</th>\n",
       "      <td>191.0</td>\n",
       "      <td>2.078534</td>\n",
       "      <td>0.978242</td>\n",
       "      <td>0.0</td>\n",
       "      <td>1.0</td>\n",
       "      <td>2.0</td>\n",
       "      <td>3.0</td>\n",
       "      <td>5.0</td>\n",
       "    </tr>\n",
       "    <tr>\n",
       "      <th>Q. NEP_3</th>\n",
       "      <td>191.0</td>\n",
       "      <td>2.005236</td>\n",
       "      <td>1.068680</td>\n",
       "      <td>0.0</td>\n",
       "      <td>1.0</td>\n",
       "      <td>2.0</td>\n",
       "      <td>3.0</td>\n",
       "      <td>5.0</td>\n",
       "    </tr>\n",
       "    <tr>\n",
       "      <th>Q. NEP_4</th>\n",
       "      <td>191.0</td>\n",
       "      <td>1.984293</td>\n",
       "      <td>1.063640</td>\n",
       "      <td>0.0</td>\n",
       "      <td>1.0</td>\n",
       "      <td>2.0</td>\n",
       "      <td>3.0</td>\n",
       "      <td>5.0</td>\n",
       "    </tr>\n",
       "    <tr>\n",
       "      <th>Q. NEP_5</th>\n",
       "      <td>191.0</td>\n",
       "      <td>1.900524</td>\n",
       "      <td>1.018539</td>\n",
       "      <td>0.0</td>\n",
       "      <td>1.0</td>\n",
       "      <td>2.0</td>\n",
       "      <td>3.0</td>\n",
       "      <td>5.0</td>\n",
       "    </tr>\n",
       "    <tr>\n",
       "      <th>Q. NEP_6</th>\n",
       "      <td>191.0</td>\n",
       "      <td>2.005236</td>\n",
       "      <td>1.053802</td>\n",
       "      <td>0.0</td>\n",
       "      <td>1.0</td>\n",
       "      <td>2.0</td>\n",
       "      <td>3.0</td>\n",
       "      <td>5.0</td>\n",
       "    </tr>\n",
       "    <tr>\n",
       "      <th>Q. NEP_7</th>\n",
       "      <td>191.0</td>\n",
       "      <td>2.157068</td>\n",
       "      <td>1.069402</td>\n",
       "      <td>0.0</td>\n",
       "      <td>1.0</td>\n",
       "      <td>2.0</td>\n",
       "      <td>3.0</td>\n",
       "      <td>5.0</td>\n",
       "    </tr>\n",
       "    <tr>\n",
       "      <th>Q. NEP_8</th>\n",
       "      <td>191.0</td>\n",
       "      <td>2.015707</td>\n",
       "      <td>1.068577</td>\n",
       "      <td>0.0</td>\n",
       "      <td>1.0</td>\n",
       "      <td>2.0</td>\n",
       "      <td>3.0</td>\n",
       "      <td>5.0</td>\n",
       "    </tr>\n",
       "  </tbody>\n",
       "</table>\n",
       "</div>"
      ],
      "text/plain": [
       "          count      mean       std  min  25%  50%  75%  max\n",
       "Q. NEP_1  191.0  2.329843  1.046850  0.0  2.0  2.0  3.0  5.0\n",
       "Q. NEP_2  191.0  2.078534  0.978242  0.0  1.0  2.0  3.0  5.0\n",
       "Q. NEP_3  191.0  2.005236  1.068680  0.0  1.0  2.0  3.0  5.0\n",
       "Q. NEP_4  191.0  1.984293  1.063640  0.0  1.0  2.0  3.0  5.0\n",
       "Q. NEP_5  191.0  1.900524  1.018539  0.0  1.0  2.0  3.0  5.0\n",
       "Q. NEP_6  191.0  2.005236  1.053802  0.0  1.0  2.0  3.0  5.0\n",
       "Q. NEP_7  191.0  2.157068  1.069402  0.0  1.0  2.0  3.0  5.0\n",
       "Q. NEP_8  191.0  2.015707  1.068577  0.0  1.0  2.0  3.0  5.0"
      ]
     },
     "execution_count": 967,
     "metadata": {},
     "output_type": "execute_result"
    }
   ],
   "source": [
    "#some insights on each NEP question\n",
    "stats_by_q = df_clean[nep_columns].describe().T\n",
    "stats_by_q"
   ]
  },
  {
   "cell_type": "markdown",
   "metadata": {},
   "source": [
    "### Main Data Analysis "
   ]
  },
  {
   "cell_type": "code",
   "execution_count": 1000,
   "metadata": {},
   "outputs": [
    {
     "name": "stdout",
     "output_type": "stream",
     "text": [
      "Breakdown of Choice Selection\n",
      "Sample Size: 191\n",
      "Gain Sample Size: 92\n",
      "Loss Sample Size: 99\n",
      "\n",
      "\n",
      "frame                gain     loss\n",
      "option_selected                   \n",
      "Proposal A       0.791209  0.69697\n",
      "Proposal B       0.208791  0.30303\n",
      "\n",
      "\n",
      "frame            gain  loss\n",
      "option_selected            \n",
      "Proposal A         72    69\n",
      "Proposal B         19    30\n"
     ]
    }
   ],
   "source": [
    "main_analysis_columns = ['ResponseId', 'frame', 'scenario_mapped', 'option_selected', 'rating_num', 'rationale', 'age_num',  'gender_num',  'ethnicity_num', 'education_num',   'contintent_num', 'ADP_num', 'student_num','NEP_Score']\n",
    "analysis_columns = ['ResponseId', 'frame', 'scenario_mapped', 'option_selected', 'rating', 'rating_num', 'rationale',\n",
    "'age', 'age_num', 'gender',  'gender_num', 'ethnicity', 'ethnicity_num', 'education', 'education_num', 'continent',  'contintent_num', \n",
    "'ADP_num','ADP_familiar',  'student', 'student_num', 'NEP_Score']\n",
    "\n",
    "\n",
    "#set up dataframe \n",
    "main_analysis = df_clean[main_analysis_columns]\n",
    "\n",
    "#gain & loss conditions \n",
    "gain_condition = main_analysis[main_analysis['frame']=='gain']\n",
    "loss_condition = main_analysis[main_analysis['frame']=='loss']\n",
    "\n",
    "#% of Participants Selecting Each Option \n",
    "frame_cross_pct = pd.crosstab(main_analysis['option_selected'], main_analysis['frame'], normalize='columns')\n",
    "frame_cross_num = pd.crosstab(main_analysis['option_selected'], main_analysis['frame'])\n",
    "print(\"Breakdown of Choice Selection\")\n",
    "print(f\"\"\"Sample Size: {main_analysis.shape[0]}\"\"\")\n",
    "print(f\"\"\"Gain Sample Size: {main_analysis[main_analysis['frame'] == 'gain'].shape[0]}\"\"\")\n",
    "print(f\"\"\"Loss Sample Size: {main_analysis[main_analysis['frame'] == 'loss'].shape[0]}\"\"\")\n",
    "print(f\"\"\"\\n\\n{frame_cross_pct}\"\"\")\n",
    "print(f\"\"\"\\n\\n{frame_cross_num}\"\"\")"
   ]
  },
  {
   "cell_type": "code",
   "execution_count": 983,
   "metadata": {},
   "outputs": [
    {
     "name": "stdout",
     "output_type": "stream",
     "text": [
      "Breakdown when Rationale answer is not null\n",
      "Sample Size: 147\n",
      "Gain Sample Size: 76\n",
      "Loss Sample Size: 71\n"
     ]
    },
    {
     "data": {
      "text/html": [
       "<div>\n",
       "<style scoped>\n",
       "    .dataframe tbody tr th:only-of-type {\n",
       "        vertical-align: middle;\n",
       "    }\n",
       "\n",
       "    .dataframe tbody tr th {\n",
       "        vertical-align: top;\n",
       "    }\n",
       "\n",
       "    .dataframe thead th {\n",
       "        text-align: right;\n",
       "    }\n",
       "</style>\n",
       "<table border=\"1\" class=\"dataframe\">\n",
       "  <thead>\n",
       "    <tr style=\"text-align: right;\">\n",
       "      <th>frame</th>\n",
       "      <th>gain</th>\n",
       "      <th>loss</th>\n",
       "    </tr>\n",
       "    <tr>\n",
       "      <th>option_selected</th>\n",
       "      <th></th>\n",
       "      <th></th>\n",
       "    </tr>\n",
       "  </thead>\n",
       "  <tbody>\n",
       "    <tr>\n",
       "      <th>Proposal A</th>\n",
       "      <td>0.815789</td>\n",
       "      <td>0.577465</td>\n",
       "    </tr>\n",
       "    <tr>\n",
       "      <th>Proposal B</th>\n",
       "      <td>0.184211</td>\n",
       "      <td>0.422535</td>\n",
       "    </tr>\n",
       "  </tbody>\n",
       "</table>\n",
       "</div>"
      ],
      "text/plain": [
       "frame                gain      loss\n",
       "option_selected                    \n",
       "Proposal A       0.815789  0.577465\n",
       "Proposal B       0.184211  0.422535"
      ]
     },
     "execution_count": 983,
     "metadata": {},
     "output_type": "execute_result"
    }
   ],
   "source": [
    "#look where rationale answer is not null \n",
    "rationale_notnull = main_analysis[~main_analysis['rationale'].isna()]\n",
    "rationale_cross = pd.crosstab(rationale_notnull['option_selected'], rationale_notnull['frame'], normalize='columns')\n",
    "print(\"Breakdown when Rationale answer is not null\")\n",
    "print(f\"\"\"Sample Size: {rationale_notnull.shape[0]}\"\"\")\n",
    "print(f\"\"\"Gain Sample Size: {rationale_notnull[rationale_notnull['frame'] == 'gain'].shape[0]}\"\"\")\n",
    "print(f\"\"\"Loss Sample Size: {rationale_notnull[rationale_notnull['frame'] == 'loss'].shape[0]}\"\"\")\n",
    "rationale_cross"
   ]
  },
  {
   "cell_type": "markdown",
   "metadata": {},
   "source": [
    "##### Manipulation / Attention Tests"
   ]
  },
  {
   "cell_type": "code",
   "execution_count": 984,
   "metadata": {},
   "outputs": [
    {
     "name": "stdout",
     "output_type": "stream",
     "text": [
      "Breakdown when ADP answer is not true\n",
      "Sample Size: 87\n",
      "Gain Sample Size: 47\n",
      "Loss Sample Size: 40\n"
     ]
    },
    {
     "data": {
      "text/html": [
       "<div>\n",
       "<style scoped>\n",
       "    .dataframe tbody tr th:only-of-type {\n",
       "        vertical-align: middle;\n",
       "    }\n",
       "\n",
       "    .dataframe tbody tr th {\n",
       "        vertical-align: top;\n",
       "    }\n",
       "\n",
       "    .dataframe thead th {\n",
       "        text-align: right;\n",
       "    }\n",
       "</style>\n",
       "<table border=\"1\" class=\"dataframe\">\n",
       "  <thead>\n",
       "    <tr style=\"text-align: right;\">\n",
       "      <th>frame</th>\n",
       "      <th>gain</th>\n",
       "      <th>loss</th>\n",
       "    </tr>\n",
       "    <tr>\n",
       "      <th>option_selected</th>\n",
       "      <th></th>\n",
       "      <th></th>\n",
       "    </tr>\n",
       "  </thead>\n",
       "  <tbody>\n",
       "    <tr>\n",
       "      <th>Proposal A</th>\n",
       "      <td>0.851064</td>\n",
       "      <td>0.625</td>\n",
       "    </tr>\n",
       "    <tr>\n",
       "      <th>Proposal B</th>\n",
       "      <td>0.148936</td>\n",
       "      <td>0.375</td>\n",
       "    </tr>\n",
       "  </tbody>\n",
       "</table>\n",
       "</div>"
      ],
      "text/plain": [
       "frame                gain   loss\n",
       "option_selected                 \n",
       "Proposal A       0.851064  0.625\n",
       "Proposal B       0.148936  0.375"
      ]
     },
     "execution_count": 984,
     "metadata": {},
     "output_type": "execute_result"
    }
   ],
   "source": [
    "#look where ADP answer is not true\n",
    "ADP_notyes = main_analysis[main_analysis['ADP_num'] < 2]\n",
    "ADP_cross = pd.crosstab(ADP_notyes['option_selected'], ADP_notyes['frame'], normalize='columns')\n",
    "print(\"Breakdown when ADP answer is not true\")\n",
    "print(f\"\"\"Sample Size: {ADP_notyes.shape[0]}\"\"\")\n",
    "print(f\"\"\"Gain Sample Size: {ADP_notyes[ADP_notyes['frame'] == 'gain'].shape[0]}\"\"\")\n",
    "print(f\"\"\"Loss Sample Size: {ADP_notyes[ADP_notyes['frame'] == 'loss'].shape[0]}\"\"\")\n",
    "ADP_cross"
   ]
  },
  {
   "cell_type": "code",
   "execution_count": 994,
   "metadata": {},
   "outputs": [
    {
     "name": "stdout",
     "output_type": "stream",
     "text": [
      "Breakdown when Rating matches answer\n",
      "Sample Size: 170\n",
      "Gain Sample Size: 84\n",
      "Loss Sample Size: 86\n"
     ]
    },
    {
     "data": {
      "text/html": [
       "<div>\n",
       "<style scoped>\n",
       "    .dataframe tbody tr th:only-of-type {\n",
       "        vertical-align: middle;\n",
       "    }\n",
       "\n",
       "    .dataframe tbody tr th {\n",
       "        vertical-align: top;\n",
       "    }\n",
       "\n",
       "    .dataframe thead th {\n",
       "        text-align: right;\n",
       "    }\n",
       "</style>\n",
       "<table border=\"1\" class=\"dataframe\">\n",
       "  <thead>\n",
       "    <tr style=\"text-align: right;\">\n",
       "      <th>frame</th>\n",
       "      <th>gain</th>\n",
       "      <th>loss</th>\n",
       "    </tr>\n",
       "    <tr>\n",
       "      <th>option_selected</th>\n",
       "      <th></th>\n",
       "      <th></th>\n",
       "    </tr>\n",
       "  </thead>\n",
       "  <tbody>\n",
       "    <tr>\n",
       "      <th>Proposal A</th>\n",
       "      <td>0.797619</td>\n",
       "      <td>0.662791</td>\n",
       "    </tr>\n",
       "    <tr>\n",
       "      <th>Proposal B</th>\n",
       "      <td>0.202381</td>\n",
       "      <td>0.337209</td>\n",
       "    </tr>\n",
       "  </tbody>\n",
       "</table>\n",
       "</div>"
      ],
      "text/plain": [
       "frame                gain      loss\n",
       "option_selected                    \n",
       "Proposal A       0.797619  0.662791\n",
       "Proposal B       0.202381  0.337209"
      ]
     },
     "execution_count": 994,
     "metadata": {},
     "output_type": "execute_result"
    }
   ],
   "source": [
    "#look where Rating matches answer\n",
    "\n",
    "rating_appr = main_analysis[((main_analysis['option_selected']=='Proposal A') & (main_analysis['rating_num']<= 4 )) | ((main_analysis['option_selected']=='Proposal B') & (main_analysis['rating_num'] >= 4 ))]\n",
    "rating_cross = pd.crosstab(rating_appr['option_selected'], rating_appr['frame'], normalize='columns')\n",
    "print(\"Breakdown when Rating matches answer\")\n",
    "print(f\"\"\"Sample Size: {rating_appr.shape[0]}\"\"\")\n",
    "print(f\"\"\"Gain Sample Size: {rating_appr[rating_appr['frame'] == 'gain'].shape[0]}\"\"\")\n",
    "print(f\"\"\"Loss Sample Size: {rating_appr[rating_appr['frame'] == 'loss'].shape[0]}\"\"\")\n",
    "rating_cross"
   ]
  },
  {
   "cell_type": "code",
   "execution_count": 993,
   "metadata": {},
   "outputs": [
    {
     "data": {
      "text/html": [
       "<div>\n",
       "<style scoped>\n",
       "    .dataframe tbody tr th:only-of-type {\n",
       "        vertical-align: middle;\n",
       "    }\n",
       "\n",
       "    .dataframe tbody tr th {\n",
       "        vertical-align: top;\n",
       "    }\n",
       "\n",
       "    .dataframe thead th {\n",
       "        text-align: right;\n",
       "    }\n",
       "</style>\n",
       "<table border=\"1\" class=\"dataframe\">\n",
       "  <thead>\n",
       "    <tr style=\"text-align: right;\">\n",
       "      <th>frame</th>\n",
       "      <th>loss</th>\n",
       "    </tr>\n",
       "    <tr>\n",
       "      <th>option_selected</th>\n",
       "      <th></th>\n",
       "    </tr>\n",
       "  </thead>\n",
       "  <tbody>\n",
       "    <tr>\n",
       "      <th>Proposal A</th>\n",
       "      <td>0.662791</td>\n",
       "    </tr>\n",
       "    <tr>\n",
       "      <th>Proposal B</th>\n",
       "      <td>0.337209</td>\n",
       "    </tr>\n",
       "  </tbody>\n",
       "</table>\n",
       "</div>"
      ],
      "text/plain": [
       "frame                loss\n",
       "option_selected          \n",
       "Proposal A       0.662791\n",
       "Proposal B       0.337209"
      ]
     },
     "execution_count": 993,
     "metadata": {},
     "output_type": "execute_result"
    }
   ],
   "source": [
    "#Loss Condition with mismatches removed \n",
    "\n",
    "lossA = loss_condition[loss_condition['option_selected']=='Proposal A']\n",
    "loss_filt = loss_condition[((loss_condition['option_selected']=='Proposal A') & (loss_condition['rating_num']<= 4 )) | ((loss_condition['option_selected']=='Proposal B') & (loss_condition['rating_num'] >= 4 ))]\n",
    "loss_filt_cross = pd.crosstab(loss_filt['option_selected'], loss_filt['frame'], normalize='columns')\n",
    "loss_filt_cross"
   ]
  },
  {
   "cell_type": "code",
   "execution_count": 970,
   "metadata": {},
   "outputs": [
    {
     "data": {
      "text/plain": [
       "ResponseId          0\n",
       "frame               0\n",
       "scenario_mapped     1\n",
       "option_selected     1\n",
       "rating_num          0\n",
       "rationale          44\n",
       "age_num             0\n",
       "gender_num          0\n",
       "ethnicity_num       0\n",
       "education_num       0\n",
       "contintent_num      0\n",
       "ADP_num             0\n",
       "student_num         0\n",
       "NEP_Score           0\n",
       "dtype: int64"
      ]
     },
     "execution_count": 970,
     "metadata": {},
     "output_type": "execute_result"
    }
   ],
   "source": [
    "lossB = loss_condition[loss_condition['option_selected']=='Proposal B']\n",
    "lossA = loss_condition[loss_condition['option_selected']=='Proposal A']\n",
    "\n",
    "main_analysis.isna().sum()"
   ]
  },
  {
   "cell_type": "markdown",
   "metadata": {},
   "source": [
    "##### Plotting & Initial Tests"
   ]
  },
  {
   "cell_type": "code",
   "execution_count": 1009,
   "metadata": {},
   "outputs": [
    {
     "data": {
      "image/png": "[encoded data removed]",
      "text/plain": [
       "<Figure size 1200x300 with 3 Axes>"
      ]
     },
     "metadata": {},
     "output_type": "display_data"
    }
   ],
   "source": [
    "fig, axes = plt.subplots(1, 3, figsize=(12, 3), sharey=True)\n",
    "\n",
    "sns.histplot(data=main_analysis, x='rating_num', ax=axes[0], color= 'C0')\n",
    "axes[0].set_title('All')\n",
    "sns.histplot(data=loss_condition, x='rating_num', ax=axes[1], color= 'C1')\n",
    "axes[1].set_title('Loss Condition')\n",
    "sns.histplot(data=gain_condition, x='rating_num', ax=axes[2],  color= 'C2')\n",
    "axes[2].set_title('Gain Condition')\n",
    "\n",
    "plt.show()\n"
   ]
  },
  {
   "cell_type": "code",
   "execution_count": 1007,
   "metadata": {},
   "outputs": [
    {
     "data": {
      "image/png": "[encoded data removed]",
      "text/plain": [
       "<Figure size 500x300 with 1 Axes>"
      ]
     },
     "metadata": {},
     "output_type": "display_data"
    }
   ],
   "source": [
    "##Plot graph for average rating by condition \n",
    "values = np.array([main_analysis.rating_num.mean(), loss_condition.rating_num.mean(), gain_condition.rating_num.mean(), ])\n",
    "plt.figure(figsize=(5,3))\n",
    "plt.bar(np.arange(3), values,  color=[ 'C0', 'C1', 'C2'], alpha=0.7, capsize=1, ecolor='dimgrey')\n",
    "sns.despine()\n",
    "plt.ylabel('Average Preference Rating')\n",
    "plt.xticks(np.arange(3), [ 'All', 'Loss', 'Gain', ], rotation='horizontal')\n",
    "plt.tight_layout()\n",
    "#plt.show()"
   ]
  },
  {
   "cell_type": "code",
   "execution_count": 1041,
   "metadata": {},
   "outputs": [
    {
     "data": {
      "image/png": "[encoded data removed]",
      "text/plain": [
       "<Figure size 500x400 with 1 Axes>"
      ]
     },
     "metadata": {},
     "output_type": "display_data"
    }
   ],
   "source": [
    "sns.set(style='whitegrid', font_scale=1.1)\n",
    "plt.figure(figsize=(5,4))\n",
    "sns.boxplot(x='frame', y='rating_num', data=main_analysis)\n",
    "plt.title('Risky Choice Framing')\n",
    "plt.xlabel('Frame')\n",
    "plt.ylabel('Rating')\n",
    "plt.show()"
   ]
  },
  {
   "cell_type": "code",
   "execution_count": 1001,
   "metadata": {},
   "outputs": [
    {
     "name": "stdout",
     "output_type": "stream",
     "text": [
      "\n",
      "Average rating by condition & option:\n",
      "frame                gain      loss\n",
      "option_selected                    \n",
      "Proposal A       2.638889  2.913043\n",
      "Proposal B       5.157895  5.466667\n",
      "\n",
      "Average rating by condition:\n",
      "frame\n",
      "gain    3.152174\n",
      "loss    3.686869\n",
      "Name: rating_num, dtype: float64\n"
     ]
    }
   ],
   "source": [
    "print(\"\\nAverage rating by condition & option:\")\n",
    "print(pd.crosstab( index = main_analysis['option_selected'], columns = main_analysis['frame'], values = main_analysis['rating_num'], aggfunc='mean'))\n",
    "\n",
    "print(\"\\nAverage rating by condition:\")\n",
    "print(main_analysis.groupby('frame').rating_num.mean())"
   ]
  },
  {
   "cell_type": "code",
   "execution_count": 1010,
   "metadata": {},
   "outputs": [
    {
     "name": "stdout",
     "output_type": "stream",
     "text": [
      "\n",
      "Average rating by condition & option:\n",
      "frame                gain      loss\n",
      "option_selected                    \n",
      "Proposal A       2.388060  2.403509\n",
      "Proposal B       5.529412  5.551724\n",
      "\n",
      "Average rating by condition:\n",
      "frame\n",
      "gain    3.023810\n",
      "loss    3.465116\n",
      "Name: rating_num, dtype: float64\n"
     ]
    }
   ],
   "source": [
    "### look where rating matches to answer choice \n",
    "print(\"\\nAverage rating by condition & option:\")\n",
    "print(pd.crosstab( index = rating_appr['option_selected'], columns = rating_appr['frame'], values = rating_appr['rating_num'], aggfunc='mean'))\n",
    "\n",
    "print(\"\\nAverage rating by condition:\")\n",
    "print(rating_appr.groupby('frame').rating_num.mean())"
   ]
  },
  {
   "cell_type": "code",
   "execution_count": 995,
   "metadata": {},
   "outputs": [
    {
     "name": "stdout",
     "output_type": "stream",
     "text": [
      "T-statistic: -2.1942637779209337\n",
      "P-value: 0.029435654951902902\n"
     ]
    }
   ],
   "source": [
    "#ttest for experiment \n",
    "\n",
    "gain = main_analysis['rating_num'][main_analysis['frame'] == 'gain']\n",
    "loss = main_analysis['rating_num'][main_analysis['frame'] == 'loss']\n",
    "\n",
    "t_stat, p_value = stats.ttest_ind(gain, loss)\n",
    "\n",
    "# results\n",
    "print(\"T-statistic:\", t_stat)\n",
    "print(\"P-value:\", p_value)"
   ]
  },
  {
   "cell_type": "markdown",
   "metadata": {},
   "source": []
  },
  {
   "cell_type": "code",
   "execution_count": 434,
   "metadata": {},
   "outputs": [
    {
     "name": "stdout",
     "output_type": "stream",
     "text": [
      "significant at 1% level\n"
     ]
    }
   ],
   "source": [
    "#function for signficance \n",
    "def sig_effect(pvalue):\n",
    "    if pvalue <= .01:\n",
    "        return f\"\"\"significant at 1% level\"\"\"\n",
    "    elif pvalue <= .05:\n",
    "        return f\"\"\"significant at 5% level\"\"\"\n",
    "    elif pvalue <= .1:\n",
    "        return f\"\"\"significant at 10% level\"\"\"\n",
    "    else:\n",
    "        return \"not significant\"\n"
   ]
  },
  {
   "cell_type": "code",
   "execution_count": 1035,
   "metadata": {},
   "outputs": [
    {
     "data": {
      "text/plain": [
       "-0.5346947738252088"
      ]
     },
     "execution_count": 1035,
     "metadata": {},
     "output_type": "execute_result"
    }
   ],
   "source": [
    "# Calculate Cohen's d as a measure of effect size\n",
    "mean_difference = gain_condition['rating_num'].mean() - loss_condition['rating_num'].mean()\n",
    "#pooled_std = ((gain_condition['rating_num'].std() ** 2 + loss_condition.std() ** 2) / 2) ** 0.5\n",
    "#cohen_d = mean_difference / pooled_std\n",
    "#cohen_d\n",
    "mean_difference"
   ]
  },
  {
   "cell_type": "markdown",
   "metadata": {},
   "source": [
    "#### Regression & Results"
   ]
  },
  {
   "cell_type": "code",
   "execution_count": 1024,
   "metadata": {},
   "outputs": [
    {
     "name": "stdout",
     "output_type": "stream",
     "text": [
      "frame coeff: 0.5346947738252079\n",
      "frame p-vale: 0.029435654951903048\n",
      "\n",
      "signficicant effect? --  significant at 5% level\n",
      "<bound method LikelihoodModelResults.t_test of <statsmodels.regression.linear_model.OLSResults object at 0x286008f10>>\n",
      "\n",
      "\n",
      "\n",
      "                             OLS Regression Results                            \n",
      "==============================================================================\n",
      "Dep. Variable:             rating_num   R-squared:                       0.025\n",
      "Model:                            OLS   Adj. R-squared:                  0.020\n",
      "Method:                 Least Squares   F-statistic:                     4.815\n",
      "Date:                Wed, 26 Jul 2023   Prob (F-statistic):             0.0294\n",
      "Time:                        15:30:16   Log-Likelihood:                -369.41\n",
      "No. Observations:                 191   AIC:                             742.8\n",
      "Df Residuals:                     189   BIC:                             749.3\n",
      "Df Model:                           1                                         \n",
      "Covariance Type:            nonrobust                                         \n",
      "=================================================================================\n",
      "                    coef    std err          t      P>|t|      [0.025      0.975]\n",
      "---------------------------------------------------------------------------------\n",
      "Intercept         3.1522      0.175     17.968      0.000       2.806       3.498\n",
      "frame[T.loss]     0.5347      0.244      2.194      0.029       0.054       1.015\n",
      "==============================================================================\n",
      "Omnibus:                       19.811   Durbin-Watson:                   2.012\n",
      "Prob(Omnibus):                  0.000   Jarque-Bera (JB):               11.400\n",
      "Skew:                           0.440   Prob(JB):                      0.00335\n",
      "Kurtosis:                       2.189   Cond. No.                         2.66\n",
      "==============================================================================\n",
      "\n",
      "Notes:\n",
      "[1] Standard Errors assume that the covariance matrix of the errors is correctly specified.\n"
     ]
    }
   ],
   "source": [
    "#simple linear regression \n",
    "lin_reg = sm.OLS.from_formula('rating_num ~ frame', data = main_analysis).fit()\n",
    "print(\"frame coeff:\", lin_reg.params[1])\n",
    "print(\"frame p-vale:\", lin_reg.pvalues[1])\n",
    "print(\"\\nsignficicant effect? -- \", sig_effect(lin_reg.pvalues[1]))\n",
    "\n",
    "print(\"\\n\\n\\n\",lin_reg.summary())\n"
   ]
  },
  {
   "cell_type": "code",
   "execution_count": 1023,
   "metadata": {},
   "outputs": [
    {
     "name": "stdout",
     "output_type": "stream",
     "text": [
      "frame coeff: 0.5810040559825286\n",
      "frame p-vale: 0.01852694472849202\n",
      "\n",
      "signficicant effect? significant at 5% level\n",
      "\n",
      "\n",
      "\n",
      "                             OLS Regression Results                            \n",
      "==============================================================================\n",
      "Dep. Variable:             rating_num   R-squared:                       0.055\n",
      "Model:                            OLS   Adj. R-squared:                  0.030\n",
      "Method:                 Least Squares   F-statistic:                     2.161\n",
      "Date:                Wed, 26 Jul 2023   Prob (F-statistic):             0.0602\n",
      "Time:                        15:29:52   Log-Likelihood:                -366.39\n",
      "No. Observations:                 191   AIC:                             744.8\n",
      "Df Residuals:                     185   BIC:                             764.3\n",
      "Df Model:                           5                                         \n",
      "Covariance Type:            nonrobust                                         \n",
      "=================================================================================\n",
      "                    coef    std err          t      P>|t|      [0.025      0.975]\n",
      "---------------------------------------------------------------------------------\n",
      "Intercept         3.0691      0.391      7.840      0.000       2.297       3.841\n",
      "frame[T.loss]     0.5810      0.245      2.376      0.019       0.099       1.063\n",
      "age_num          -0.2503      0.154     -1.621      0.107      -0.555       0.054\n",
      "gender_num        0.3061      0.219      1.398      0.164      -0.126       0.738\n",
      "ethnicity_num    -0.0294      0.075     -0.393      0.695      -0.177       0.118\n",
      "education_num     0.1564      0.109      1.438      0.152      -0.058       0.371\n",
      "==============================================================================\n",
      "Omnibus:                       15.407   Durbin-Watson:                   1.955\n",
      "Prob(Omnibus):                  0.000   Jarque-Bera (JB):               11.189\n",
      "Skew:                           0.477   Prob(JB):                      0.00372\n",
      "Kurtosis:                       2.297   Cond. No.                         13.6\n",
      "==============================================================================\n",
      "\n",
      "Notes:\n",
      "[1] Standard Errors assume that the covariance matrix of the errors is correctly specified.\n"
     ]
    }
   ],
   "source": [
    "#with basic demographic controls \n",
    "reg_dem = sm.OLS.from_formula('rating_num ~ frame + age_num + gender_num + ethnicity_num + education_num', data = main_analysis).fit()\n",
    "print(\"frame coeff:\", reg_dem.params[1])\n",
    "print(\"frame p-vale:\", reg_dem.pvalues[1])\n",
    "print(\"\\nsignficicant effect?\", sig_effect(reg_dem.pvalues[1]))\n",
    "print(\"\\n\\n\\n\",reg_dem.summary())\n"
   ]
  },
  {
   "cell_type": "code",
   "execution_count": 1025,
   "metadata": {},
   "outputs": [
    {
     "name": "stdout",
     "output_type": "stream",
     "text": [
      "frame coeff: 0.5661539030501719\n",
      "frame p-vale: 0.022213887980316472\n",
      "\n",
      "signficicant effect? significant at 5% level\n",
      "\n",
      "\n",
      "                             OLS Regression Results                            \n",
      "==============================================================================\n",
      "Dep. Variable:             rating_num   R-squared:                       0.061\n",
      "Model:                            OLS   Adj. R-squared:                  0.025\n",
      "Method:                 Least Squares   F-statistic:                     1.704\n",
      "Date:                Wed, 26 Jul 2023   Prob (F-statistic):              0.111\n",
      "Time:                        15:30:38   Log-Likelihood:                -365.78\n",
      "No. Observations:                 191   AIC:                             747.6\n",
      "Df Residuals:                     183   BIC:                             773.6\n",
      "Df Model:                           7                                         \n",
      "Covariance Type:            nonrobust                                         \n",
      "==================================================================================\n",
      "                     coef    std err          t      P>|t|      [0.025      0.975]\n",
      "----------------------------------------------------------------------------------\n",
      "Intercept          2.8504      0.484      5.893      0.000       1.896       3.805\n",
      "frame[T.loss]      0.5662      0.245      2.306      0.022       0.082       1.050\n",
      "age_num           -0.1902      0.166     -1.144      0.254      -0.518       0.138\n",
      "gender_num         0.3107      0.220      1.413      0.159      -0.123       0.744\n",
      "ethnicity_num     -0.0209      0.076     -0.275      0.783      -0.170       0.129\n",
      "education_num      0.1372      0.114      1.204      0.230      -0.088       0.362\n",
      "contintent_num     0.0130      0.081      0.160      0.873      -0.147       0.173\n",
      "student_num        0.2753      0.260      1.061      0.290      -0.237       0.787\n",
      "==============================================================================\n",
      "Omnibus:                       15.827   Durbin-Watson:                   1.937\n",
      "Prob(Omnibus):                  0.000   Jarque-Bera (JB):               11.476\n",
      "Skew:                           0.485   Prob(JB):                      0.00322\n",
      "Kurtosis:                       2.292   Cond. No.                         19.3\n",
      "==============================================================================\n",
      "\n",
      "Notes:\n",
      "[1] Standard Errors assume that the covariance matrix of the errors is correctly specified.\n"
     ]
    }
   ],
   "source": [
    "#with addl. demographic controls \n",
    "reg_dema = sm.OLS.from_formula('rating_num ~ frame + age_num + gender_num + ethnicity_num + education_num + contintent_num + student_num', data = main_analysis).fit()\n",
    "print(\"frame coeff:\", reg_dema.params[1])\n",
    "print(\"frame p-vale:\", reg_dema.pvalues[1])\n",
    "print(\"\\nsignficicant effect?\", sig_effect(reg_dema.pvalues[1]))\n",
    "print(\"\\n\\n\",reg_dema.summary())\n"
   ]
  },
  {
   "cell_type": "code",
   "execution_count": 1026,
   "metadata": {},
   "outputs": [
    {
     "name": "stdout",
     "output_type": "stream",
     "text": [
      "frame coeff: 0.5136914428781605\n",
      "frame p-vale: 0.03696427622794312\n",
      "\n",
      "signficicant effect? significant at 5% level\n",
      "\n",
      "\n",
      "                             OLS Regression Results                            \n",
      "==============================================================================\n",
      "Dep. Variable:             rating_num   R-squared:                       0.084\n",
      "Model:                            OLS   Adj. R-squared:                  0.044\n",
      "Method:                 Least Squares   F-statistic:                     2.081\n",
      "Date:                Wed, 26 Jul 2023   Prob (F-statistic):             0.0398\n",
      "Time:                        15:30:42   Log-Likelihood:                -363.46\n",
      "No. Observations:                 191   AIC:                             744.9\n",
      "Df Residuals:                     182   BIC:                             774.2\n",
      "Df Model:                           8                                         \n",
      "Covariance Type:            nonrobust                                         \n",
      "==================================================================================\n",
      "                     coef    std err          t      P>|t|      [0.025      0.975]\n",
      "----------------------------------------------------------------------------------\n",
      "Intercept          2.3778      0.528      4.499      0.000       1.335       3.421\n",
      "frame[T.loss]      0.5137      0.244      2.102      0.037       0.031       0.996\n",
      "age_num           -0.1876      0.165     -1.138      0.256      -0.513       0.138\n",
      "gender_num         0.3277      0.218      1.504      0.134      -0.102       0.758\n",
      "ethnicity_num     -0.0224      0.075     -0.298      0.766      -0.171       0.126\n",
      "education_num      0.1696      0.114      1.489      0.138      -0.055       0.394\n",
      "contintent_num     0.0119      0.080      0.148      0.882      -0.147       0.171\n",
      "student_num        0.2120      0.259      0.819      0.414      -0.299       0.723\n",
      "ADP_num            0.3434      0.162      2.119      0.035       0.024       0.663\n",
      "==============================================================================\n",
      "Omnibus:                       17.581   Durbin-Watson:                   1.914\n",
      "Prob(Omnibus):                  0.000   Jarque-Bera (JB):               11.216\n",
      "Skew:                           0.454   Prob(JB):                      0.00367\n",
      "Kurtosis:                       2.235   Cond. No.                         21.9\n",
      "==============================================================================\n",
      "\n",
      "Notes:\n",
      "[1] Standard Errors assume that the covariance matrix of the errors is correctly specified.\n"
     ]
    }
   ],
   "source": [
    "#with ADP num \n",
    "reg_ADP = sm.OLS.from_formula('rating_num ~ frame + age_num + gender_num + ethnicity_num + education_num + contintent_num + student_num + ADP_num', data = main_analysis).fit()\n",
    "print(\"frame coeff:\", reg_ADP.params[1])\n",
    "print(\"frame p-vale:\", reg_ADP.pvalues[1])\n",
    "print(\"\\nsignficicant effect?\", sig_effect(reg_ADP.pvalues[1]))\n",
    "print(\"\\n\\n\",reg_ADP.summary())\n"
   ]
  },
  {
   "cell_type": "code",
   "execution_count": 1042,
   "metadata": {},
   "outputs": [
    {
     "name": "stdout",
     "output_type": "stream",
     "text": [
      "frame coeff: 0.0033774793530949696\n",
      "frame p-vale: 0.8724280866989946\n",
      "\n",
      "signficicant effect? not significant\n",
      "\n",
      "\n",
      "                             OLS Regression Results                            \n",
      "==============================================================================\n",
      "Dep. Variable:             rating_num   R-squared:                       0.038\n",
      "Model:                            OLS   Adj. R-squared:                  0.028\n",
      "Method:                 Least Squares   F-statistic:                     3.734\n",
      "Date:                Wed, 26 Jul 2023   Prob (F-statistic):             0.0257\n",
      "Time:                        17:08:50   Log-Likelihood:                -368.09\n",
      "No. Observations:                 191   AIC:                             742.2\n",
      "Df Residuals:                     188   BIC:                             751.9\n",
      "Df Model:                           2                                         \n",
      "Covariance Type:            nonrobust                                         \n",
      "=========================================================================================\n",
      "                            coef    std err          t      P>|t|      [0.025      0.975]\n",
      "-----------------------------------------------------------------------------------------\n",
      "Intercept                 3.0744      0.347      8.863      0.000       2.390       3.759\n",
      "frame[gain]:NEP_Score     0.0034      0.021      0.161      0.872      -0.038       0.045\n",
      "frame[loss]:NEP_Score     0.0380      0.021      1.826      0.069      -0.003       0.079\n",
      "==============================================================================\n",
      "Omnibus:                       16.320   Durbin-Watson:                   2.009\n",
      "Prob(Omnibus):                  0.000   Jarque-Bera (JB):               11.352\n",
      "Skew:                           0.474   Prob(JB):                      0.00343\n",
      "Kurtosis:                       2.273   Cond. No.                         36.6\n",
      "==============================================================================\n",
      "\n",
      "Notes:\n",
      "[1] Standard Errors assume that the covariance matrix of the errors is correctly specified.\n"
     ]
    }
   ],
   "source": [
    "#with nep scoring\n",
    "reg_NEP = sm.OLS.from_formula('rating_num ~ frame : NEP_Score', data = main_analysis).fit()\n",
    "print(\"frame coeff:\", reg_NEP.params[1])\n",
    "print(\"frame p-vale:\", reg_NEP.pvalues[1])\n",
    "print(\"\\nsignficicant effect?\", sig_effect(reg_NEP.pvalues[1]))\n",
    "print(\"\\n\\n\",reg_NEP.summary())"
   ]
  },
  {
   "cell_type": "code",
   "execution_count": 1048,
   "metadata": {},
   "outputs": [
    {
     "name": "stdout",
     "output_type": "stream",
     "text": [
      "                            OLS Regression Results                            \n",
      "==============================================================================\n",
      "Dep. Variable:             rating_num   R-squared:                       0.070\n",
      "Model:                            OLS   Adj. R-squared:                  0.034\n",
      "Method:                 Least Squares   F-statistic:                     1.957\n",
      "Date:                Wed, 26 Jul 2023   Prob (F-statistic):             0.0632\n",
      "Time:                        17:40:45   Log-Likelihood:                -364.92\n",
      "No. Observations:                 191   AIC:                             745.8\n",
      "Df Residuals:                     183   BIC:                             771.9\n",
      "Df Model:                           7                                         \n",
      "Covariance Type:            nonrobust                                         \n",
      "===========================================================================================\n",
      "                              coef    std err          t      P>|t|      [0.025      0.975]\n",
      "-------------------------------------------------------------------------------------------\n",
      "Intercept                   2.8969      0.599      4.836      0.000       1.715       4.079\n",
      "frame[T.loss]              -0.1106      0.709     -0.156      0.876      -1.510       1.289\n",
      "NEP_Score                   0.0067      0.028      0.241      0.810      -0.048       0.061\n",
      "frame[T.loss]:NEP_Score     0.0412      0.040      1.027      0.306      -0.038       0.120\n",
      "age_num                    -0.2483      0.155     -1.599      0.112      -0.555       0.058\n",
      "gender_num                  0.3120      0.221      1.410      0.160      -0.125       0.749\n",
      "ethnicity_num              -0.0163      0.075     -0.217      0.828      -0.165       0.132\n",
      "education_num               0.1707      0.109      1.567      0.119      -0.044       0.386\n",
      "==============================================================================\n",
      "Omnibus:                       13.904   Durbin-Watson:                   1.960\n",
      "Prob(Omnibus):                  0.001   Jarque-Bera (JB):               11.660\n",
      "Skew:                           0.518   Prob(JB):                      0.00294\n",
      "Kurtosis:                       2.375   Cond. No.                         140.\n",
      "==============================================================================\n",
      "\n",
      "Notes:\n",
      "[1] Standard Errors assume that the covariance matrix of the errors is correctly specified.\n"
     ]
    }
   ],
   "source": [
    "import statsmodels.formula.api as smf\n",
    "\n",
    "# Assuming 'df' is your DataFrame and it contains columns 'rating_scale', 'frame', and 'environmental_orientation'.\n",
    "model = smf.ols(formula = 'rating_num ~ frame + NEP_Score + frame: NEP_Score + age_num + gender_num + ethnicity_num + education_num', data=main_analysis)\n",
    "result = model.fit()\n",
    "print(result.summary())"
   ]
  }
 ],
 "metadata": {
  "kernelspec": {
   "display_name": "Python 3",
   "language": "python",
   "name": "python3"
  },
  "language_info": {
   "codemirror_mode": {
    "name": "ipython",
    "version": 3
   },
   "file_extension": ".py",
   "mimetype": "text/x-python",
   "name": "python",
   "nbconvert_exporter": "python",
   "pygments_lexer": "ipython3",
   "version": "3.9.6"
  },
  "orig_nbformat": 4
 },
 "nbformat": 4,
 "nbformat_minor": 2
}
