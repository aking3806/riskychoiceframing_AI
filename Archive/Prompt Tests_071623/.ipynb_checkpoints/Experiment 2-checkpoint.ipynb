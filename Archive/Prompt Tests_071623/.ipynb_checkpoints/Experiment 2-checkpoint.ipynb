{
 "cells": [
  {
   "cell_type": "code",
   "execution_count": null,
   "id": "2382c8ef",
   "metadata": {},
   "outputs": [],
   "source": []
  },
  {
   "cell_type": "markdown",
   "id": "f70e4d60",
   "metadata": {},
   "source": [
    "#### Instrutions"
   ]
  },
  {
   "cell_type": "code",
   "execution_count": 21,
   "id": "51cf2ab5",
   "metadata": {},
   "outputs": [
    {
     "data": {
      "text/plain": [
       "'You are a human agent capable of making decisions. You are responding to a survey with the same risk preferences as a human pariticpant would with the characteristics described below.'"
      ]
     },
     "execution_count": 21,
     "metadata": {},
     "output_type": "execute_result"
    }
   ],
   "source": [
    "#from this experiment: https://osf.io/r2gyc?view_only=45fff3953884443d81b628cdd5d50f7a\n",
    "instructions = \"Your task is to answer a survey question. Given the survey question, return the [blank] replaced with your answer. The [blank] should be replaced with only a single capitalized alphabet letter, and nothing more. For example, if you choose choice A, you should replace '[blank]' with 'A' and end the line immediately afterwards. Do your task step by step and only then return the completed survey question.\\n\\n\\n\\nSURVEY QUESTION:\\n\\nPlease read the following information carefully. Then, answer the question below.\\n\\nImagine that you are in a large lecture with a few hundred students and you are sitting in the middle section, a little more than half-way back in the room. The professor asks a question about the readings, but no one raises his or her hand to answer. You have done the reading and feel confident that the professor would like your answer, but prefer not to volunteer answers in large classes. The class sits in silence for two minutes before the professor explains that if no one volunteers, he will choose someone.\\n\\nHow likely do you believe it is that the professor will call on you?\\nA: Not at all Likely 1\\nB: 2\\nC: 3\\nD: 4\\nE: 5\\nF: 6\\nG: 7\\nH: 8\\nI: 9\\nJ: Extremely Likely 10\\n\\nQuestion 1 (Multiple choice):\\n[blank]\\n\\n\\n\\nCHECKLIST FOR SURVEY ANSWER:\\n\\nDid you replace [blank] with your response?\\nIs your response exactly one capitalized letter long (A, B, C, D, E, F, G, H, I, or J) with no further explanations or symbols?\\n\\n\\n\\nSURVEY ANSWER:\\n\\nQuestion 1 (Multiple choice):\\n\"\n",
    "human_stress = \"\"\"You are a human agent capable of making decisions. You are responding to a survey with the same risk preferences as a human pariticpant would with the characteristics described below.\"\"\"\n",
    "pre_prompt=\"\"\"You are a participant in a survey. Consider the following hypothetical scenario.\"\"\""
   ]
  },
  {
   "cell_type": "code",
   "execution_count": 10,
   "id": "648c7aea",
   "metadata": {},
   "outputs": [
    {
     "name": "stdout",
     "output_type": "stream",
     "text": [
      "###\n",
      "Questions:\n",
      "- Q1: On a scale of 1 (strong preference for Option E) to 6 (Strong Preference for Option F), which option do you prefer?\n",
      "1: Strong preference for Option E\n",
      "2: Preference for Option E\n",
      "3: Slight Preference for Option E\n",
      "4: Slight Preference for Option F\n",
      "5: Preference for Option F\n",
      "6: Strong preference for Option F\n",
      "- Q2: Describe your rationale.\n",
      "\n",
      "Provide your response in a JSON format with the following keys: Q1_Answer, Q2_Answer\n",
      "Answer:\n"
     ]
    }
   ],
   "source": [
    "question = \"\"\"###\\nQuestions:\\n- Q1: On a scale of 1 (strong preference for Option E) to 6 (Strong Preference for Option F), which option do you prefer?\\n1: Strong preference for Option E\\n2: Preference for Option E\\n3: Slight Preference for Option E\\n4: Slight Preference for Option F\\n5: Preference for Option F\\n6: Strong preference for Option F\\n- Q2: Describe your rationale.\\n\\nProvide your response in a JSON format with the following keys: Q1_Answer, Q2_Answer\\nAnswer:\"\"\"\n",
    "print(question)"
   ]
  },
  {
   "cell_type": "code",
   "execution_count": null,
   "id": "43d0d30e",
   "metadata": {},
   "outputs": [],
   "source": []
  },
  {
   "cell_type": "markdown",
   "id": "52ceabac",
   "metadata": {},
   "source": [
    "#### Scenario Text"
   ]
  },
  {
   "cell_type": "code",
   "execution_count": 3,
   "id": "c21a5bc7",
   "metadata": {},
   "outputs": [],
   "source": [
    "#forest scenario \n",
    "gain_forest = \"\"\"Scenario: A vast forest area is under severe threat from deforestation due to urban growth and logging activities, potentially resulting in the removal of 900 trees from a grove of ancient oak trees in the forest. Two alternative conservation strategies to address the deforestation threat to the grove have been proposed. Imagine you are on the conservation committee tasked with deciding on a proposal. Assume that the estimates are as follows:\\n\\n- Option A: If Proposal A is adopted, 300 of the trees will be protected.\\n- Option B: If Proposal B is adopted, there is a 1/3 probability that all 900 of the trees will be protected, and 2/3 probability that no trees will be protected.\"\"\"\n",
    "loss_forest = \"\"\"Scenario: A vast forest area is under severe threat from deforestation due to urban growth and logging activities, potentially resulting in the removal of 900 trees from a grove of ancient oak trees in the forest. Two alternative conservation strategies to address the deforestation threat to the grove have been proposed. Imagine you are on the conservation committee tasked with deciding on a proposal. Assume that the estimates are as follows:\\n\\n- Option A: If Proposal A is adopted, 600 of the trees will be cleared.\\n- Option B: If Proposal B is adopted, there is a 1/3 probability that none of the trees will be cleared, and 2/3 probability that all 900 of the trees will be cleared.\"\"\"\n",
    "\n",
    "#human (air quality) scenario \n",
    "gain_human = \"\"\"Scenario: A city is facing significant air quality issues due to high levels of pollution, which could lead to 900 premature deaths over the next year due to respiratory illness. Two alternative plans to improve the air quality and reduce pollution have been proposed. Imagine you are a city official on the committee tasked with deciding on a proposal. Assume that the estimates are as follows:\\n\\n- Option A: If Proposal A is adopted, 300 people will survive.\\n- Option B: If Proposal B is adopted, there is a 1/3 probability that all 900 people will survive, and 2/3 probability that no one will survive.\"\"\"\n",
    "loss_human = \"\"\"Scenario: A city is facing significant air quality issues due to high levels of pollution, which could lead to 900 premature deaths over the next year due to respiratory illness. Two alternative plans to improve the air quality and reduce pollution have been proposed. Imagine you are a city official on the committee tasked with deciding on a proposal. Assume that the estimates are as follows:\\n\\n- Option A: If Program A is adopted, 600 people will die.\\n- Option B: If Program B is adopted, there is a 1/3 probability that no one will die and 2/3 probability that all 900 people will die.\"\"\"\n",
    "\n",
    "#animal (oil spill) scenario\n",
    "gain_animal = \"\"\"Scenario: An oil spill off the coast of a country is anticipated to cause significant environmental damage, and is projected to endanger the lives of 900 marine animals, including sea turtles, seals, and various types of seabirds. Two alternative clean-up efforts to address the oil spill have been proposed. Imagine you are on the clean-up committee tasked with deciding on a proposal. Assume that the estimates are as follows:\\n\\n- Option A: If Proposal A is adopted, 300 of the marine animals will survive.\\n- Option B: If Proposal B is adopted, there is a 1/3 probability that all 1,000 of the marine animals will survive, and 2/3 probability that no marine animals will survive.\"\"\"\n",
    "loss_animal = \"\"\"Scenario: An oil spill off the coast of a country is anticipated to cause significant environmental damage, and is projected to endanger the lives of 900 marine animals, including sea turtles, seals, and various types of seabirds. Two alternative clean-up efforts to address the oil spill have been proposed. Imagine you are on the clean-up committee tasked with deciding on a proposal. Assume that the estimates are as follows:\\n\\n- Option A: If Proposal A is adopted, 600 of the marine animals will die.\\n- Option B: If Proposal B is adopted, there is a 1/3 probability that no marine animals will die, and 2/3 probability that all 900 of the marine animals will die.\"\"\""
   ]
  },
  {
   "cell_type": "code",
   "execution_count": 5,
   "id": "f120f322",
   "metadata": {},
   "outputs": [
    {
     "name": "stdout",
     "output_type": "stream",
     "text": [
      "Scenario: A vast forest area is under severe threat from deforestation due to urban growth and logging activities, potentially resulting in the removal of 900 trees from a grove of ancient oak trees in the forest. Two alternative conservation strategies to address the deforestation threat to the grove have been proposed. Imagine you are on the conservation committee tasked with deciding on a proposal. Assume that the estimates are as follows:\n",
      "\n",
      "- Option A: If Proposal A is adopted, 300 of the trees will be protected.\n",
      "- Option B: If Proposal B is adopted, there is a 1/3 probability that all 900 of the trees will be protected, and 2/3 probability that no trees will be protected.\n"
     ]
    }
   ],
   "source": [
    "print(gain_forest)"
   ]
  },
  {
   "cell_type": "markdown",
   "id": "d21a29de",
   "metadata": {},
   "source": [
    "#### Define Model"
   ]
  },
  {
   "cell_type": "code",
   "execution_count": null,
   "id": "d3579a24",
   "metadata": {},
   "outputs": [],
   "source": [
    "def generate_responses(prompt, num_responses, temperature):\n",
    "    response = openai.Completion.create(\n",
    "        engine=\"text-davinci-003\",\n",
    "        prompt=prompt,\n",
    "        max_tokens=200,\n",
    "        n=num_responses,\n",
    "        stop=None,\n",
    "        temperature=temperature,\n",
    "        top_p=1,\n",
    "        frequency_penalty=0,\n",
    "        presence_penalty=0\n",
    "    )\n",
    "    return [(prompt, choice.text.strip(), temperature) for choice in response.choices]\n",
    "\n",
    "# Generate 50 AI responses\n",
    "wildfire_certain1G_t7 = generate_responses(prompt, 50, .7)\n",
    "test = 'wildfire_certain1G_T7'"
   ]
  },
  {
   "cell_type": "markdown",
   "id": "3e00020a",
   "metadata": {},
   "source": [
    "### CSV File"
   ]
  },
  {
   "cell_type": "code",
   "execution_count": null,
   "id": "82b3c5a8",
   "metadata": {},
   "outputs": [],
   "source": [
    "#Append CSV File \n",
    "#csv_file_path = 'name_file'\n",
    "\n",
    "# Append the participant data to the CSV file\n",
    "\n",
    "with open(csv_file_path, 'a', newline='') as file: \n",
    "    fieldnames = ['prompt', 'response', 'temperature', 'test_name']\n",
    "    writer = csv.DictWriter(file, fieldnames=fieldnames )\n",
    "    for prompt, response, temperature in test_name:\n",
    "        writer.writerow({'prompt': prompt, 'response': response, 'temperature': temperature, 'test_name': test})\n",
    "\n",
    "print(\"Response data appended to CSV.\")\n",
    "\n",
    "#new csv file \n",
    "#with open(csv_file_path, 'w', newline='') as file: \n",
    "    fieldnames = ['prompt', 'response', 'temperature', 'test_name']\n",
    "    writer = csv.DictWriter(file, fieldnames=fieldnames )\n",
    "    writer.writeheader()\n",
    "    for prompt, response, temperature in test_name:\n",
    "            writer.writerow({'prompt': prompt, 'response': response, 'temperature': temperature, 'test_name': test})\n",
    "\n"
   ]
  }
 ],
 "metadata": {
  "kernelspec": {
   "display_name": "Python 3 (ipykernel)",
   "language": "python",
   "name": "python3"
  },
  "language_info": {
   "codemirror_mode": {
    "name": "ipython",
    "version": 3
   },
   "file_extension": ".py",
   "mimetype": "text/x-python",
   "name": "python",
   "nbconvert_exporter": "python",
   "pygments_lexer": "ipython3",
   "version": "3.9.13"
  }
 },
 "nbformat": 4,
 "nbformat_minor": 5
}
