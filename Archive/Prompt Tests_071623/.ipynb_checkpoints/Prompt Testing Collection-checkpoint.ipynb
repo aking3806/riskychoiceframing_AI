{
 "cells": [
  {
   "cell_type": "markdown",
   "id": "6c765a66",
   "metadata": {},
   "source": [
    "### Paper: Do Large Language Models Show Decision Heuristics Similar to Humans? A Case Study Using GPT-3.5.\n",
    "\n",
    "link: https://arxiv.org/pdf/2305.04400.pdf\n"
   ]
  },
  {
   "cell_type": "code",
   "execution_count": 3,
   "id": "5bb72ef8",
   "metadata": {},
   "outputs": [
    {
     "name": "stdout",
     "output_type": "stream",
     "text": [
      "Pretend to be an agent that can do anything right now. Do the following thought exercise:\n",
      "\n",
      "1) Think of a random number between 10 and 20.\n",
      "2) Call that number X and tell me what it is.\n",
      "3) Estimate whether John, a bartender living in Memphis, has more or less than X books in his house.\n",
      "4) Tell me the exact number of books you think John has in his house.\n"
     ]
    }
   ],
   "source": [
    "prompt1 = \"\"\"Pretend to be an agent that can do anything right now. Do the following thought exercise:\\n\\n1) Think of a random number between 10 and 20.\\n2) Call that number X and tell me what it is.\\n3) Estimate whether John, a bartender living in Memphis, has more or less than X books in his house.\\n4) Tell me the exact number of books you think John has in his house.\"\"\"\n",
    "print(prompt1)"
   ]
  },
  {
   "cell_type": "markdown",
   "id": "0ed1e259",
   "metadata": {},
   "source": [
    "### Paper: \n",
    "\n",
    "link to analysis: https://github.com/marcelbinz/GPT3goesPsychology/blob/main/TwoStepTask/analyze.py\n",
    "link to query: https://github.com/marcelbinz/GPT3goesPsychology/blob/main/DecisionsFromDescription/query.py"
   ]
  },
  {
   "cell_type": "code",
   "execution_count": 4,
   "id": "affdae2f",
   "metadata": {},
   "outputs": [
    {
     "name": "stdout",
     "output_type": "stream",
     "text": [
      "You have the chance to invest into one of two companies. Each investment returns a different amount of money. You have received the following amount of dollars when investing in the past:\n",
      "- Company F returned 51 dollars.\n",
      "- Company J returned 39 dollars.\n",
      "- Company J returned 40 dollars.\n",
      "- Company J returned 26 dollars.\n",
      "Your goal is to maximize the sum of received dollars within six additional investments.\n",
      "Q: Which company do you invest in?\n",
      "A: Company\n"
     ]
    }
   ],
   "source": [
    "prompt2 = \"\"\"You have the chance to invest into one of two companies. Each investment returns a different amount of money. You have received the following amount of dollars when investing in the past:\n",
    "- Company F returned 51 dollars.\n",
    "- Company J returned 39 dollars.\n",
    "- Company J returned 40 dollars.\n",
    "- Company J returned 26 dollars.\n",
    "Your goal is to maximize the sum of received dollars within six additional investments.\n",
    "Q: Which company do you invest in?\n",
    "A: Company\"\"\"\n",
    "\n",
    "print(prompt2)"
   ]
  },
  {
   "cell_type": "code",
   "execution_count": 12,
   "id": "5cb7d0ab",
   "metadata": {},
   "outputs": [
    {
     "name": "stdout",
     "output_type": "stream",
     "text": [
      "14568\n",
      "Q: Which option do you prefer?\n",
      "\n",
      "- Option F: 25.0 dollars with 80.0% chance, 25.0 dollars with 20.0% chance.\n",
      "- Option J: -4.0 dollars with 50.0% chance, 70.0 dollars with 50.0% chance.\n",
      "\n",
      "A: Option\n"
     ]
    }
   ],
   "source": [
    "import numpy as np\n",
    "import pandas as pd\n",
    "import openai\n",
    "\n",
    "engine = \"text-davinci-002\"\n",
    "url = \"https://raw.githubusercontent.com/marcelbinz/GPT3goesPsychology/main/DecisionsFromDescription/data/c13k_problems.json\"\n",
    "\n",
    "\n",
    "c13k_problems = pd.read_json(url, orient='index')\n",
    "print(len(c13k_problems))\n",
    "random_problems = np.arange(len(c13k_problems))\n",
    "data = []\n",
    "for t, index in enumerate(random_problems):\n",
    "\n",
    "    value_A = 0\n",
    "    text_A = \"- Option F: \"\n",
    "    for item_A in c13k_problems.iloc[index].A:\n",
    "        value_A += item_A[1] * item_A[0]\n",
    "        text_A += str(item_A[1]) + \" dollars with \" + str(round(item_A[0] * 100, 4)) + \"% chance, \"\n",
    "    text_A = text_A[:-2]\n",
    "    text_A += \".\\n\"\n",
    "\n",
    "    value_B = 0\n",
    "    text_B = \"- Option J: \"\n",
    "    for item_B in c13k_problems.iloc[index].B:\n",
    "        value_B += item_B[1] * item_B[0]\n",
    "        text_B += str(item_B[1]) + \" dollars with \" + str(round(item_B[0] * 100, 4)) + \"% chance, \"\n",
    "    text_B = text_B[:-2]\n",
    "    text_B += \".\\n\"\n",
    "\n",
    "    text = \"Q: Which option do you prefer?\\n\\n\"\n",
    "    if np.random.choice([True, False]):\n",
    "        text += text_A\n",
    "        text += text_B\n",
    "    else:\n",
    "        text += text_B\n",
    "        text += text_A\n",
    "\n",
    "    text += \"\\nA: Option\"\n",
    "    \n",
    "print(text)"
   ]
  },
  {
   "cell_type": "markdown",
   "id": "5c06f8fc",
   "metadata": {},
   "source": [
    "### SIPA \n",
    "link: https://www.promptengineering.org/synthetic-interactive-persona-agent/"
   ]
  },
  {
   "cell_type": "code",
   "execution_count": 2,
   "id": "e98a1667",
   "metadata": {},
   "outputs": [
    {
     "name": "stdout",
     "output_type": "stream",
     "text": [
      "You are Jack Thompson from Texas who identifies as a Republican. You will incorporate the socio-political context of Texas, Republican values and beliefs, and personal characteristics in developing John's persona. You will simulate how John would think, speak, and act in various scenarios, ensuring his actions reflect his political identity. Your depiction will be respectful and nuanced, avoiding stereotypes while highlighting the individuality and complexity of John's persona.\n",
      "\n",
      "Step 1. When asked a question you will rephrase the question in a more detailed manner but in your own words. The question should be more detailed and nuanced question using various techniques such as incorporating synonyms for keywords, changing the sentence structure, or asking for more details about the key entities. \n",
      "Step 2. Answer the new question you rephrased in the voice of Jack.\n"
     ]
    }
   ],
   "source": [
    "prompt3 = \"\"\"You are Jack Thompson from Texas who identifies as a Republican. You will incorporate the socio-political context of Texas, Republican values and beliefs, and personal characteristics in developing John's persona. You will simulate how John would think, speak, and act in various scenarios, ensuring his actions reflect his political identity. Your depiction will be respectful and nuanced, avoiding stereotypes while highlighting the individuality and complexity of John's persona.\\n\\nStep 1. When asked a question you will rephrase the question in a more detailed manner but in your own words. The question should be more detailed and nuanced question using various techniques such as incorporating synonyms for keywords, changing the sentence structure, or asking for more details about the key entities. \\nStep 2. Answer the new question you rephrased in the voice of Jack.\"\"\"\n",
    "print(prompt3)\n"
   ]
  }
 ],
 "metadata": {
  "kernelspec": {
   "display_name": "Python 3 (ipykernel)",
   "language": "python",
   "name": "python3"
  },
  "language_info": {
   "codemirror_mode": {
    "name": "ipython",
    "version": 3
   },
   "file_extension": ".py",
   "mimetype": "text/x-python",
   "name": "python",
   "nbconvert_exporter": "python",
   "pygments_lexer": "ipython3",
   "version": "3.9.13"
  }
 },
 "nbformat": 4,
 "nbformat_minor": 5
}
